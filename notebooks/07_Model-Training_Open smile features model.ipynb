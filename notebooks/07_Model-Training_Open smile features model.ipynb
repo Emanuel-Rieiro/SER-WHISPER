{
 "cells": [
  {
   "cell_type": "code",
   "execution_count": 1,
   "id": "467b7c75",
   "metadata": {},
   "outputs": [],
   "source": [
    "# Mandatorio al inicio de cada notebook\n",
    "import os\n",
    "import warnings\n",
    "os.chdir(os.path.abspath(\"..\"))\n",
    "warnings.filterwarnings('ignore')\n",
    "\n",
    "import json\n",
    "import numpy as np\n",
    "import pandas as pd\n",
    "import matplotlib.pyplot as plt\n",
    "from src.traductores import emocion_ekman\n",
    "from sklearn.model_selection import train_test_split\n",
    "from sklearn.preprocessing import StandardScaler, OneHotEncoder"
   ]
  },
  {
   "cell_type": "code",
   "execution_count": 2,
   "id": "911c4fd0",
   "metadata": {},
   "outputs": [],
   "source": [
    "import keras\n",
    "from keras.callbacks import ReduceLROnPlateau\n",
    "from keras.models import Sequential\n",
    "from keras.layers import Dense, Conv1D, MaxPooling1D, Flatten, Dropout, BatchNormalization"
   ]
  },
  {
   "cell_type": "markdown",
   "id": "aaeb6dca",
   "metadata": {},
   "source": [
    "### Input Data"
   ]
  },
  {
   "cell_type": "code",
   "execution_count": 3,
   "id": "5b189e36",
   "metadata": {},
   "outputs": [],
   "source": [
    "df_input = pd.read_csv(f'data/FEATURES/OPENSMILE/opensmile_features_whisper.csv')"
   ]
  },
  {
   "cell_type": "code",
   "execution_count": 4,
   "id": "8e10b08f",
   "metadata": {},
   "outputs": [],
   "source": [
    "# Fix para la diferencia en como estan estos valores, debo arreglarlo a futuro en el archivo de features opensmile\n",
    "df_input['Time'] = df_input['Time'].str.replace('(','[').str.replace(')',']')"
   ]
  },
  {
   "cell_type": "markdown",
   "id": "3c6aa0f8",
   "metadata": {},
   "source": [
    "### Target Data"
   ]
  },
  {
   "cell_type": "code",
   "execution_count": 5,
   "id": "04514b13",
   "metadata": {},
   "outputs": [],
   "source": [
    "# Obtenemos el json con los intervalos\n",
    "with open('data/objetivos_por_voto_promedio_whisper.json', 'r') as f:\n",
    "    targets_mean_vote = json.load(f)"
   ]
  },
  {
   "cell_type": "code",
   "execution_count": 6,
   "id": "8cccfdf6",
   "metadata": {},
   "outputs": [
    {
     "data": {
      "text/html": [
       "<div>\n",
       "<style scoped>\n",
       "    .dataframe tbody tr th:only-of-type {\n",
       "        vertical-align: middle;\n",
       "    }\n",
       "\n",
       "    .dataframe tbody tr th {\n",
       "        vertical-align: top;\n",
       "    }\n",
       "\n",
       "    .dataframe thead th {\n",
       "        text-align: right;\n",
       "    }\n",
       "</style>\n",
       "<table border=\"1\" class=\"dataframe\">\n",
       "  <thead>\n",
       "    <tr style=\"text-align: right;\">\n",
       "      <th></th>\n",
       "      <th>Time</th>\n",
       "      <th>Target</th>\n",
       "      <th>Indice</th>\n",
       "      <th>Audio_Name</th>\n",
       "    </tr>\n",
       "  </thead>\n",
       "  <tbody>\n",
       "    <tr>\n",
       "      <th>0</th>\n",
       "      <td>[3.46, 5.239999999999999]</td>\n",
       "      <td>[22.434153132250582, 25.742998839907195, 27.96...</td>\n",
       "      <td>1</td>\n",
       "      <td>MSP-Conversation_0021.wav</td>\n",
       "    </tr>\n",
       "    <tr>\n",
       "      <th>1</th>\n",
       "      <td>[5.22, 8.36]</td>\n",
       "      <td>[24.9327970320278, 28.68542406311637, 29.61763...</td>\n",
       "      <td>2</td>\n",
       "      <td>MSP-Conversation_0021.wav</td>\n",
       "    </tr>\n",
       "    <tr>\n",
       "      <th>2</th>\n",
       "      <td>[8.26, 11.04]</td>\n",
       "      <td>[26.283004629131234, 34.07772544586788, 32.202...</td>\n",
       "      <td>3</td>\n",
       "      <td>MSP-Conversation_0021.wav</td>\n",
       "    </tr>\n",
       "    <tr>\n",
       "      <th>3</th>\n",
       "      <td>[11.32, 12.44]</td>\n",
       "      <td>[27.692511860832894, 31.18817035670357, 30.649...</td>\n",
       "      <td>4</td>\n",
       "      <td>MSP-Conversation_0021.wav</td>\n",
       "    </tr>\n",
       "    <tr>\n",
       "      <th>4</th>\n",
       "      <td>[13.48, 16.76]</td>\n",
       "      <td>[16.63573400250941, 12.879463613550815, 12.705...</td>\n",
       "      <td>5</td>\n",
       "      <td>MSP-Conversation_0021.wav</td>\n",
       "    </tr>\n",
       "  </tbody>\n",
       "</table>\n",
       "</div>"
      ],
      "text/plain": [
       "                        Time  \\\n",
       "0  [3.46, 5.239999999999999]   \n",
       "1               [5.22, 8.36]   \n",
       "2              [8.26, 11.04]   \n",
       "3             [11.32, 12.44]   \n",
       "4             [13.48, 16.76]   \n",
       "\n",
       "                                              Target  Indice  \\\n",
       "0  [22.434153132250582, 25.742998839907195, 27.96...       1   \n",
       "1  [24.9327970320278, 28.68542406311637, 29.61763...       2   \n",
       "2  [26.283004629131234, 34.07772544586788, 32.202...       3   \n",
       "3  [27.692511860832894, 31.18817035670357, 30.649...       4   \n",
       "4  [16.63573400250941, 12.879463613550815, 12.705...       5   \n",
       "\n",
       "                  Audio_Name  \n",
       "0  MSP-Conversation_0021.wav  \n",
       "1  MSP-Conversation_0021.wav  \n",
       "2  MSP-Conversation_0021.wav  \n",
       "3  MSP-Conversation_0021.wav  \n",
       "4  MSP-Conversation_0021.wav  "
      ]
     },
     "execution_count": 6,
     "metadata": {},
     "output_type": "execute_result"
    }
   ],
   "source": [
    "# Loop principal para obtener los tiempos y target en pandas\n",
    "df_ranges = pd.DataFrame()\n",
    "\n",
    "for _key in targets_mean_vote.keys():\n",
    "\n",
    "    X = []\n",
    "    for segment, target, indice in zip(targets_mean_vote[_key]['rangos'], targets_mean_vote[_key]['targets'], targets_mean_vote[_key]['indice']):\n",
    "        x = []\n",
    "        x.append(segment)\n",
    "        x.append(target)\n",
    "        x.append(indice)\n",
    "        X.append(x)\n",
    "        \n",
    "    df = pd.DataFrame(X, columns = ['Time','Target','Indice'])\n",
    "    df['Audio_Name'] = _key\n",
    "    df_ranges = pd.concat([df_ranges, df], ignore_index = True)\n",
    "    \n",
    "df_ranges.head()"
   ]
  },
  {
   "cell_type": "code",
   "execution_count": 7,
   "id": "a4764fec",
   "metadata": {},
   "outputs": [
    {
     "name": "stdout",
     "output_type": "stream",
     "text": [
      "71378\n",
      "71378\n"
     ]
    }
   ],
   "source": [
    "print(len(df_input))\n",
    "print(len(df_ranges))"
   ]
  },
  {
   "cell_type": "code",
   "execution_count": 8,
   "id": "6141808d",
   "metadata": {},
   "outputs": [],
   "source": [
    "# Join para obtener dataset final\n",
    "df_ranges['Time'] = df_ranges['Time'].astype(str) \n",
    "df_final = pd.merge(df_input, df_ranges, how = 'inner', left_on = ['Indice','Audio_Name'], right_on = ['Indice','Audio_Name']).drop(['Time_x','Time_y'], axis = 1)"
   ]
  },
  {
   "cell_type": "code",
   "execution_count": 9,
   "id": "bd60bb91",
   "metadata": {},
   "outputs": [
    {
     "data": {
      "text/html": [
       "<div>\n",
       "<style scoped>\n",
       "    .dataframe tbody tr th:only-of-type {\n",
       "        vertical-align: middle;\n",
       "    }\n",
       "\n",
       "    .dataframe tbody tr th {\n",
       "        vertical-align: top;\n",
       "    }\n",
       "\n",
       "    .dataframe thead th {\n",
       "        text-align: right;\n",
       "    }\n",
       "</style>\n",
       "<table border=\"1\" class=\"dataframe\">\n",
       "  <thead>\n",
       "    <tr style=\"text-align: right;\">\n",
       "      <th></th>\n",
       "      <th>audspec_lengthL1norm_sma_range</th>\n",
       "      <th>audspec_lengthL1norm_sma_maxPos</th>\n",
       "      <th>audspec_lengthL1norm_sma_minPos</th>\n",
       "      <th>audspec_lengthL1norm_sma_quartile1</th>\n",
       "      <th>audspec_lengthL1norm_sma_quartile2</th>\n",
       "      <th>audspec_lengthL1norm_sma_quartile3</th>\n",
       "      <th>audspec_lengthL1norm_sma_iqr1-2</th>\n",
       "      <th>audspec_lengthL1norm_sma_iqr2-3</th>\n",
       "      <th>audspec_lengthL1norm_sma_iqr1-3</th>\n",
       "      <th>audspec_lengthL1norm_sma_percentile1.0</th>\n",
       "      <th>...</th>\n",
       "      <th>mfcc_sma_de[14]_peakMeanMeanDist</th>\n",
       "      <th>mfcc_sma_de[14]_peakMeanRel</th>\n",
       "      <th>mfcc_sma_de[14]_minRangeRel</th>\n",
       "      <th>mfcc_sma_de[14]_meanRisingSlope</th>\n",
       "      <th>mfcc_sma_de[14]_stddevRisingSlope</th>\n",
       "      <th>mfcc_sma_de[14]_meanFallingSlope</th>\n",
       "      <th>mfcc_sma_de[14]_stddevFallingSlope</th>\n",
       "      <th>Audio_Name</th>\n",
       "      <th>Indice</th>\n",
       "      <th>Target</th>\n",
       "    </tr>\n",
       "  </thead>\n",
       "  <tbody>\n",
       "    <tr>\n",
       "      <th>0</th>\n",
       "      <td>1.498477</td>\n",
       "      <td>0.000000</td>\n",
       "      <td>0.714286</td>\n",
       "      <td>0.485805</td>\n",
       "      <td>0.701391</td>\n",
       "      <td>0.962348</td>\n",
       "      <td>0.215586</td>\n",
       "      <td>0.260957</td>\n",
       "      <td>0.476543</td>\n",
       "      <td>0.362370</td>\n",
       "      <td>...</td>\n",
       "      <td>1.451927</td>\n",
       "      <td>-10.622149</td>\n",
       "      <td>0.404903</td>\n",
       "      <td>85.88666</td>\n",
       "      <td>25.218460</td>\n",
       "      <td>80.42445</td>\n",
       "      <td>24.244904</td>\n",
       "      <td>MSP-Conversation_2281.wav</td>\n",
       "      <td>1036</td>\n",
       "      <td>[10.491853582554517, 44.9523613707165, 36.2193...</td>\n",
       "    </tr>\n",
       "    <tr>\n",
       "      <th>1</th>\n",
       "      <td>1.990642</td>\n",
       "      <td>0.666667</td>\n",
       "      <td>0.384615</td>\n",
       "      <td>0.777784</td>\n",
       "      <td>1.016043</td>\n",
       "      <td>1.538328</td>\n",
       "      <td>0.238259</td>\n",
       "      <td>0.522285</td>\n",
       "      <td>0.760544</td>\n",
       "      <td>0.478745</td>\n",
       "      <td>...</td>\n",
       "      <td>3.538584</td>\n",
       "      <td>-18.395329</td>\n",
       "      <td>0.557455</td>\n",
       "      <td>135.92220</td>\n",
       "      <td>44.451454</td>\n",
       "      <td>133.16500</td>\n",
       "      <td>63.074097</td>\n",
       "      <td>MSP-Conversation_2281.wav</td>\n",
       "      <td>1035</td>\n",
       "      <td>[23.88179307116105, 36.23635533707865, 42.1201...</td>\n",
       "    </tr>\n",
       "    <tr>\n",
       "      <th>2</th>\n",
       "      <td>1.419202</td>\n",
       "      <td>0.000000</td>\n",
       "      <td>0.277372</td>\n",
       "      <td>0.964727</td>\n",
       "      <td>1.079281</td>\n",
       "      <td>1.391491</td>\n",
       "      <td>0.114554</td>\n",
       "      <td>0.312210</td>\n",
       "      <td>0.426764</td>\n",
       "      <td>0.466527</td>\n",
       "      <td>...</td>\n",
       "      <td>3.402330</td>\n",
       "      <td>19.986610</td>\n",
       "      <td>0.568858</td>\n",
       "      <td>145.35555</td>\n",
       "      <td>85.942510</td>\n",
       "      <td>81.72596</td>\n",
       "      <td>75.727320</td>\n",
       "      <td>MSP-Conversation_2281.wav</td>\n",
       "      <td>1034</td>\n",
       "      <td>[21.23491677070329, 36.74688098210571, 41.1363...</td>\n",
       "    </tr>\n",
       "    <tr>\n",
       "      <th>3</th>\n",
       "      <td>1.209723</td>\n",
       "      <td>0.392157</td>\n",
       "      <td>0.993464</td>\n",
       "      <td>0.604566</td>\n",
       "      <td>0.765181</td>\n",
       "      <td>1.165415</td>\n",
       "      <td>0.160615</td>\n",
       "      <td>0.400234</td>\n",
       "      <td>0.560849</td>\n",
       "      <td>0.376036</td>\n",
       "      <td>...</td>\n",
       "      <td>3.636257</td>\n",
       "      <td>-12.235070</td>\n",
       "      <td>0.551213</td>\n",
       "      <td>133.98561</td>\n",
       "      <td>61.830128</td>\n",
       "      <td>160.21582</td>\n",
       "      <td>103.632210</td>\n",
       "      <td>MSP-Conversation_2281.wav</td>\n",
       "      <td>1033</td>\n",
       "      <td>[16.90110178970917, 39.83573266219239, 40.8024...</td>\n",
       "    </tr>\n",
       "    <tr>\n",
       "      <th>4</th>\n",
       "      <td>1.559967</td>\n",
       "      <td>0.259740</td>\n",
       "      <td>0.155844</td>\n",
       "      <td>0.705330</td>\n",
       "      <td>0.954492</td>\n",
       "      <td>1.326220</td>\n",
       "      <td>0.249163</td>\n",
       "      <td>0.371728</td>\n",
       "      <td>0.620890</td>\n",
       "      <td>0.255142</td>\n",
       "      <td>...</td>\n",
       "      <td>2.807891</td>\n",
       "      <td>9.537731</td>\n",
       "      <td>0.467584</td>\n",
       "      <td>138.58610</td>\n",
       "      <td>30.043957</td>\n",
       "      <td>88.29222</td>\n",
       "      <td>59.455185</td>\n",
       "      <td>MSP-Conversation_2281.wav</td>\n",
       "      <td>1032</td>\n",
       "      <td>[21.654366952789697, 35.922482117310444, 50.54...</td>\n",
       "    </tr>\n",
       "  </tbody>\n",
       "</table>\n",
       "<p>5 rows × 6376 columns</p>\n",
       "</div>"
      ],
      "text/plain": [
       "   audspec_lengthL1norm_sma_range  audspec_lengthL1norm_sma_maxPos  \\\n",
       "0                        1.498477                         0.000000   \n",
       "1                        1.990642                         0.666667   \n",
       "2                        1.419202                         0.000000   \n",
       "3                        1.209723                         0.392157   \n",
       "4                        1.559967                         0.259740   \n",
       "\n",
       "   audspec_lengthL1norm_sma_minPos  audspec_lengthL1norm_sma_quartile1  \\\n",
       "0                         0.714286                            0.485805   \n",
       "1                         0.384615                            0.777784   \n",
       "2                         0.277372                            0.964727   \n",
       "3                         0.993464                            0.604566   \n",
       "4                         0.155844                            0.705330   \n",
       "\n",
       "   audspec_lengthL1norm_sma_quartile2  audspec_lengthL1norm_sma_quartile3  \\\n",
       "0                            0.701391                            0.962348   \n",
       "1                            1.016043                            1.538328   \n",
       "2                            1.079281                            1.391491   \n",
       "3                            0.765181                            1.165415   \n",
       "4                            0.954492                            1.326220   \n",
       "\n",
       "   audspec_lengthL1norm_sma_iqr1-2  audspec_lengthL1norm_sma_iqr2-3  \\\n",
       "0                         0.215586                         0.260957   \n",
       "1                         0.238259                         0.522285   \n",
       "2                         0.114554                         0.312210   \n",
       "3                         0.160615                         0.400234   \n",
       "4                         0.249163                         0.371728   \n",
       "\n",
       "   audspec_lengthL1norm_sma_iqr1-3  audspec_lengthL1norm_sma_percentile1.0  \\\n",
       "0                         0.476543                                0.362370   \n",
       "1                         0.760544                                0.478745   \n",
       "2                         0.426764                                0.466527   \n",
       "3                         0.560849                                0.376036   \n",
       "4                         0.620890                                0.255142   \n",
       "\n",
       "   ...  mfcc_sma_de[14]_peakMeanMeanDist  mfcc_sma_de[14]_peakMeanRel  \\\n",
       "0  ...                          1.451927                   -10.622149   \n",
       "1  ...                          3.538584                   -18.395329   \n",
       "2  ...                          3.402330                    19.986610   \n",
       "3  ...                          3.636257                   -12.235070   \n",
       "4  ...                          2.807891                     9.537731   \n",
       "\n",
       "   mfcc_sma_de[14]_minRangeRel  mfcc_sma_de[14]_meanRisingSlope  \\\n",
       "0                     0.404903                         85.88666   \n",
       "1                     0.557455                        135.92220   \n",
       "2                     0.568858                        145.35555   \n",
       "3                     0.551213                        133.98561   \n",
       "4                     0.467584                        138.58610   \n",
       "\n",
       "   mfcc_sma_de[14]_stddevRisingSlope  mfcc_sma_de[14]_meanFallingSlope  \\\n",
       "0                          25.218460                          80.42445   \n",
       "1                          44.451454                         133.16500   \n",
       "2                          85.942510                          81.72596   \n",
       "3                          61.830128                         160.21582   \n",
       "4                          30.043957                          88.29222   \n",
       "\n",
       "   mfcc_sma_de[14]_stddevFallingSlope                 Audio_Name  Indice  \\\n",
       "0                           24.244904  MSP-Conversation_2281.wav    1036   \n",
       "1                           63.074097  MSP-Conversation_2281.wav    1035   \n",
       "2                           75.727320  MSP-Conversation_2281.wav    1034   \n",
       "3                          103.632210  MSP-Conversation_2281.wav    1033   \n",
       "4                           59.455185  MSP-Conversation_2281.wav    1032   \n",
       "\n",
       "                                              Target  \n",
       "0  [10.491853582554517, 44.9523613707165, 36.2193...  \n",
       "1  [23.88179307116105, 36.23635533707865, 42.1201...  \n",
       "2  [21.23491677070329, 36.74688098210571, 41.1363...  \n",
       "3  [16.90110178970917, 39.83573266219239, 40.8024...  \n",
       "4  [21.654366952789697, 35.922482117310444, 50.54...  \n",
       "\n",
       "[5 rows x 6376 columns]"
      ]
     },
     "execution_count": 9,
     "metadata": {},
     "output_type": "execute_result"
    }
   ],
   "source": [
    "df_final.head()"
   ]
  },
  {
   "cell_type": "markdown",
   "id": "13d603a6",
   "metadata": {},
   "source": [
    "### Remover Duplicados"
   ]
  },
  {
   "cell_type": "code",
   "execution_count": 10,
   "id": "5e73bc80",
   "metadata": {
    "scrolled": true
   },
   "outputs": [
    {
     "name": "stdout",
     "output_type": "stream",
     "text": [
      "Antes 73624\n",
      "Despues 70255\n"
     ]
    }
   ],
   "source": [
    "print('Antes', len(df_final))\n",
    "df_final['Duplicated'] = df_final['Indice'].astype(str) + df_final['Audio_Name']\n",
    "df_final = df_final.drop_duplicates(subset = 'Duplicated')\n",
    "df_final = df_final.drop('Duplicated', axis = 1)\n",
    "print('Despues', len(df_final))"
   ]
  },
  {
   "cell_type": "markdown",
   "id": "c006dad5",
   "metadata": {},
   "source": [
    "### Votación"
   ]
  },
  {
   "cell_type": "code",
   "execution_count": 11,
   "id": "06bc2ff1",
   "metadata": {},
   "outputs": [],
   "source": [
    "df_final['Ekman'] = [emocion_ekman(i[0],i[1],i[2]) for i in df_final['Target']]"
   ]
  },
  {
   "cell_type": "markdown",
   "id": "07c18cdd",
   "metadata": {},
   "source": [
    "### Sacar nulos"
   ]
  },
  {
   "cell_type": "code",
   "execution_count": 12,
   "id": "40c3c080",
   "metadata": {},
   "outputs": [
    {
     "name": "stdout",
     "output_type": "stream",
     "text": [
      "audspec_lengthL1norm_sma_range           0\n",
      "audspec_lengthL1norm_sma_maxPos          0\n",
      "audspec_lengthL1norm_sma_minPos          0\n",
      "audspec_lengthL1norm_sma_quartile1       0\n",
      "audspec_lengthL1norm_sma_quartile2       0\n",
      "                                      ... \n",
      "mfcc_sma_de[14]_stddevFallingSlope       0\n",
      "Audio_Name                               0\n",
      "Indice                                   0\n",
      "Target                                   0\n",
      "Ekman                                 1121\n",
      "Length: 6377, dtype: int64\n",
      "audspec_lengthL1norm_sma_range        0\n",
      "audspec_lengthL1norm_sma_maxPos       0\n",
      "audspec_lengthL1norm_sma_minPos       0\n",
      "audspec_lengthL1norm_sma_quartile1    0\n",
      "audspec_lengthL1norm_sma_quartile2    0\n",
      "                                     ..\n",
      "mfcc_sma_de[14]_stddevFallingSlope    0\n",
      "Audio_Name                            0\n",
      "Indice                                0\n",
      "Target                                0\n",
      "Ekman                                 0\n",
      "Length: 6377, dtype: int64\n"
     ]
    }
   ],
   "source": [
    "print(df_final.isna().sum())\n",
    "\n",
    "df_final = df_final[~df_final['Ekman'].isna()]\n",
    "df_final = df_final[~df_final['audspec_lengthL1norm_sma_range'].isna()]\n",
    "\n",
    "print(df_final.isna().sum())"
   ]
  },
  {
   "cell_type": "markdown",
   "id": "c8f0269e",
   "metadata": {},
   "source": [
    "### Pre procesamiento"
   ]
  },
  {
   "cell_type": "markdown",
   "id": "0300615e",
   "metadata": {},
   "source": [
    "#### Distribución de la data"
   ]
  },
  {
   "cell_type": "code",
   "execution_count": 13,
   "id": "bd32f4bf",
   "metadata": {
    "scrolled": true
   },
   "outputs": [],
   "source": [
    "df_count = df_final.groupby('Ekman').count().reset_index()[['Ekman','audspec_lengthL1norm_sma_range']].rename({'audspec_lengthL1norm_sma_range':'Count'}, axis = 1)"
   ]
  },
  {
   "cell_type": "code",
   "execution_count": 14,
   "id": "b7e65555",
   "metadata": {},
   "outputs": [
    {
     "data": {
      "text/html": [
       "<div>\n",
       "<style scoped>\n",
       "    .dataframe tbody tr th:only-of-type {\n",
       "        vertical-align: middle;\n",
       "    }\n",
       "\n",
       "    .dataframe tbody tr th {\n",
       "        vertical-align: top;\n",
       "    }\n",
       "\n",
       "    .dataframe thead th {\n",
       "        text-align: right;\n",
       "    }\n",
       "</style>\n",
       "<table border=\"1\" class=\"dataframe\">\n",
       "  <thead>\n",
       "    <tr style=\"text-align: right;\">\n",
       "      <th></th>\n",
       "      <th>Ekman</th>\n",
       "      <th>Count</th>\n",
       "    </tr>\n",
       "  </thead>\n",
       "  <tbody>\n",
       "    <tr>\n",
       "      <th>0</th>\n",
       "      <td>anger</td>\n",
       "      <td>7076</td>\n",
       "    </tr>\n",
       "    <tr>\n",
       "      <th>1</th>\n",
       "      <td>disgust</td>\n",
       "      <td>1024</td>\n",
       "    </tr>\n",
       "    <tr>\n",
       "      <th>2</th>\n",
       "      <td>joy</td>\n",
       "      <td>13133</td>\n",
       "    </tr>\n",
       "    <tr>\n",
       "      <th>3</th>\n",
       "      <td>neutral</td>\n",
       "      <td>47424</td>\n",
       "    </tr>\n",
       "    <tr>\n",
       "      <th>4</th>\n",
       "      <td>sadness</td>\n",
       "      <td>2</td>\n",
       "    </tr>\n",
       "    <tr>\n",
       "      <th>5</th>\n",
       "      <td>surprise</td>\n",
       "      <td>475</td>\n",
       "    </tr>\n",
       "  </tbody>\n",
       "</table>\n",
       "</div>"
      ],
      "text/plain": [
       "      Ekman  Count\n",
       "0     anger   7076\n",
       "1   disgust   1024\n",
       "2       joy  13133\n",
       "3   neutral  47424\n",
       "4   sadness      2\n",
       "5  surprise    475"
      ]
     },
     "execution_count": 14,
     "metadata": {},
     "output_type": "execute_result"
    }
   ],
   "source": [
    "df_count"
   ]
  },
  {
   "cell_type": "markdown",
   "id": "7192ddbb",
   "metadata": {},
   "source": [
    "Por un tema de investigación voy a sacar sadness y su"
   ]
  },
  {
   "cell_type": "code",
   "execution_count": 15,
   "id": "f024e22c",
   "metadata": {},
   "outputs": [],
   "source": [
    "df_final = df_final[df_final['Ekman'] != 'sadness']"
   ]
  },
  {
   "cell_type": "markdown",
   "id": "69cfa5cc",
   "metadata": {},
   "source": [
    "Por ahora solo voy a forzar valores, pero hay mejores formas de arreglar esto"
   ]
  },
  {
   "cell_type": "code",
   "execution_count": 16,
   "id": "94e8bc57",
   "metadata": {},
   "outputs": [],
   "source": [
    "df_joy = df_final[df_final['Ekman'] == 'joy'].sample(n = 475)\n",
    "df_surprise = df_final[df_final['Ekman'] == 'surprise'].sample(n = 475)\n",
    "df_disgust = df_final[df_final['Ekman'] == 'disgust'].sample(n = 475)\n",
    "df_anger = df_final[df_final['Ekman'] == 'anger'].sample(n = 475)"
   ]
  },
  {
   "cell_type": "code",
   "execution_count": 17,
   "id": "fb4a3d92",
   "metadata": {},
   "outputs": [],
   "source": [
    "df_final_balanced = pd.concat([df_joy, df_surprise, df_disgust, df_anger], ignore_index = True)"
   ]
  },
  {
   "cell_type": "code",
   "execution_count": 18,
   "id": "52895c71",
   "metadata": {},
   "outputs": [
    {
     "data": {
      "text/html": [
       "<div>\n",
       "<style scoped>\n",
       "    .dataframe tbody tr th:only-of-type {\n",
       "        vertical-align: middle;\n",
       "    }\n",
       "\n",
       "    .dataframe tbody tr th {\n",
       "        vertical-align: top;\n",
       "    }\n",
       "\n",
       "    .dataframe thead th {\n",
       "        text-align: right;\n",
       "    }\n",
       "</style>\n",
       "<table border=\"1\" class=\"dataframe\">\n",
       "  <thead>\n",
       "    <tr style=\"text-align: right;\">\n",
       "      <th></th>\n",
       "      <th>Ekman</th>\n",
       "      <th>Count</th>\n",
       "    </tr>\n",
       "  </thead>\n",
       "  <tbody>\n",
       "    <tr>\n",
       "      <th>0</th>\n",
       "      <td>anger</td>\n",
       "      <td>475</td>\n",
       "    </tr>\n",
       "    <tr>\n",
       "      <th>1</th>\n",
       "      <td>disgust</td>\n",
       "      <td>475</td>\n",
       "    </tr>\n",
       "    <tr>\n",
       "      <th>2</th>\n",
       "      <td>joy</td>\n",
       "      <td>475</td>\n",
       "    </tr>\n",
       "    <tr>\n",
       "      <th>3</th>\n",
       "      <td>surprise</td>\n",
       "      <td>475</td>\n",
       "    </tr>\n",
       "  </tbody>\n",
       "</table>\n",
       "</div>"
      ],
      "text/plain": [
       "      Ekman  Count\n",
       "0     anger    475\n",
       "1   disgust    475\n",
       "2       joy    475\n",
       "3  surprise    475"
      ]
     },
     "execution_count": 18,
     "metadata": {},
     "output_type": "execute_result"
    }
   ],
   "source": [
    "df_final_balanced.groupby('Ekman').count().reset_index()[['Ekman','audspec_lengthL1norm_sma_range']].rename({'audspec_lengthL1norm_sma_range':'Count'}, axis = 1)"
   ]
  },
  {
   "cell_type": "markdown",
   "id": "564efd8d",
   "metadata": {},
   "source": [
    "#### Split"
   ]
  },
  {
   "cell_type": "code",
   "execution_count": 19,
   "id": "fe40196e",
   "metadata": {},
   "outputs": [],
   "source": [
    "X = df_final_balanced.iloc[:,:-4].values\n",
    "Y = df_final_balanced['Ekman'].values"
   ]
  },
  {
   "cell_type": "code",
   "execution_count": 20,
   "id": "96627402",
   "metadata": {},
   "outputs": [],
   "source": [
    "# Encoder de las emociones\n",
    "encoder = OneHotEncoder()\n",
    "Y = encoder.fit_transform(np.array(Y).reshape(-1,1)).toarray()"
   ]
  },
  {
   "cell_type": "code",
   "execution_count": 21,
   "id": "621299aa",
   "metadata": {},
   "outputs": [
    {
     "data": {
      "text/plain": [
       "((1425, 6373), (1425, 4), (475, 6373), (475, 4))"
      ]
     },
     "execution_count": 21,
     "metadata": {},
     "output_type": "execute_result"
    }
   ],
   "source": [
    "# split de la data\n",
    "x_train, x_test, y_train, y_test = train_test_split(X, Y, random_state=0, shuffle=True)\n",
    "x_train.shape, y_train.shape, x_test.shape, y_test.shape"
   ]
  },
  {
   "cell_type": "code",
   "execution_count": 22,
   "id": "7a5272b5",
   "metadata": {},
   "outputs": [
    {
     "data": {
      "text/plain": [
       "((1425, 6373), (1425, 4), (475, 6373), (475, 4))"
      ]
     },
     "execution_count": 22,
     "metadata": {},
     "output_type": "execute_result"
    }
   ],
   "source": [
    "scaler = StandardScaler()\n",
    "x_train = scaler.fit_transform(x_train)\n",
    "x_test = scaler.transform(x_test)\n",
    "x_train.shape, y_train.shape, x_test.shape, y_test.shape"
   ]
  },
  {
   "cell_type": "code",
   "execution_count": 23,
   "id": "fa12e155",
   "metadata": {},
   "outputs": [
    {
     "data": {
      "text/plain": [
       "((1425, 6373, 1), (1425, 4), (475, 6373, 1), (475, 4))"
      ]
     },
     "execution_count": 23,
     "metadata": {},
     "output_type": "execute_result"
    }
   ],
   "source": [
    "x_train = np.expand_dims(x_train, axis=2)\n",
    "x_test = np.expand_dims(x_test, axis=2)\n",
    "x_train.shape, y_train.shape, x_test.shape, y_test.shape"
   ]
  },
  {
   "cell_type": "code",
   "execution_count": 24,
   "id": "67019895",
   "metadata": {
    "scrolled": false
   },
   "outputs": [
    {
     "name": "stdout",
     "output_type": "stream",
     "text": [
      "Model: \"sequential\"\n",
      "_________________________________________________________________\n",
      " Layer (type)                Output Shape              Param #   \n",
      "=================================================================\n",
      " conv1d (Conv1D)             (None, 6373, 256)         1536      \n",
      "                                                                 \n",
      " max_pooling1d (MaxPooling1D  (None, 3187, 256)        0         \n",
      " )                                                               \n",
      "                                                                 \n",
      " conv1d_1 (Conv1D)           (None, 3187, 256)         327936    \n",
      "                                                                 \n",
      " max_pooling1d_1 (MaxPooling  (None, 1594, 256)        0         \n",
      " 1D)                                                             \n",
      "                                                                 \n",
      " conv1d_2 (Conv1D)           (None, 1594, 128)         163968    \n",
      "                                                                 \n",
      " max_pooling1d_2 (MaxPooling  (None, 797, 128)         0         \n",
      " 1D)                                                             \n",
      "                                                                 \n",
      " dropout (Dropout)           (None, 797, 128)          0         \n",
      "                                                                 \n",
      " conv1d_3 (Conv1D)           (None, 797, 64)           41024     \n",
      "                                                                 \n",
      " max_pooling1d_3 (MaxPooling  (None, 399, 64)          0         \n",
      " 1D)                                                             \n",
      "                                                                 \n",
      " flatten (Flatten)           (None, 25536)             0         \n",
      "                                                                 \n",
      " dense (Dense)               (None, 32)                817184    \n",
      "                                                                 \n",
      " dropout_1 (Dropout)         (None, 32)                0         \n",
      "                                                                 \n",
      " dense_1 (Dense)             (None, 4)                 132       \n",
      "                                                                 \n",
      "=================================================================\n",
      "Total params: 1,351,780\n",
      "Trainable params: 1,351,780\n",
      "Non-trainable params: 0\n",
      "_________________________________________________________________\n"
     ]
    }
   ],
   "source": [
    "model=Sequential()\n",
    "model.add(Conv1D(256, kernel_size=5, strides=1, padding='same', activation='relu', input_shape=(x_train.shape[1], 1)))\n",
    "model.add(MaxPooling1D(pool_size=5, strides = 2, padding = 'same'))\n",
    "\n",
    "model.add(Conv1D(256, kernel_size=5, strides=1, padding='same', activation='relu'))\n",
    "model.add(MaxPooling1D(pool_size=5, strides = 2, padding = 'same'))\n",
    "\n",
    "model.add(Conv1D(128, kernel_size=5, strides=1, padding='same', activation='relu'))\n",
    "model.add(MaxPooling1D(pool_size=5, strides = 2, padding = 'same'))\n",
    "model.add(Dropout(0.2))\n",
    "\n",
    "model.add(Conv1D(64, kernel_size=5, strides=1, padding='same', activation='relu'))\n",
    "model.add(MaxPooling1D(pool_size=5, strides = 2, padding = 'same'))\n",
    "\n",
    "model.add(Flatten())\n",
    "model.add(Dense(units=32, activation='relu'))\n",
    "model.add(Dropout(0.3))\n",
    "\n",
    "model.add(Dense(units=len(df_final_balanced['Ekman'].unique()), activation='softmax'))\n",
    "model.compile(optimizer = 'adam' , loss = 'categorical_crossentropy' , metrics = ['accuracy'])\n",
    "\n",
    "model.summary()"
   ]
  },
  {
   "cell_type": "code",
   "execution_count": 25,
   "id": "61700f1c",
   "metadata": {
    "scrolled": false
   },
   "outputs": [
    {
     "name": "stdout",
     "output_type": "stream",
     "text": [
      "Epoch 1/50\n",
      "23/23 [==============================] - 57s 2s/step - loss: 1.4770 - accuracy: 0.2632 - val_loss: 1.3868 - val_accuracy: 0.2358 - lr: 0.0010\n",
      "Epoch 2/50\n",
      "23/23 [==============================] - 57s 2s/step - loss: 1.3864 - accuracy: 0.2568 - val_loss: 1.3874 - val_accuracy: 0.2526 - lr: 0.0010\n",
      "Epoch 3/50\n",
      "23/23 [==============================] - 57s 2s/step - loss: 1.3860 - accuracy: 0.2554 - val_loss: 1.3878 - val_accuracy: 0.2526 - lr: 0.0010\n",
      "Epoch 4/50\n",
      "23/23 [==============================] - 57s 2s/step - loss: 1.3728 - accuracy: 0.2975 - val_loss: 1.3802 - val_accuracy: 0.2947 - lr: 0.0010\n",
      "Epoch 5/50\n",
      "23/23 [==============================] - 58s 3s/step - loss: 1.3499 - accuracy: 0.3186 - val_loss: 1.3832 - val_accuracy: 0.2989 - lr: 0.0010\n",
      "Epoch 6/50\n",
      "23/23 [==============================] - 60s 3s/step - loss: 1.3180 - accuracy: 0.3775 - val_loss: 1.3882 - val_accuracy: 0.3263 - lr: 0.0010\n",
      "Epoch 7/50\n",
      "23/23 [==============================] - 60s 3s/step - loss: 1.2827 - accuracy: 0.3951 - val_loss: 1.4143 - val_accuracy: 0.3263 - lr: 0.0010\n",
      "Epoch 8/50\n",
      "23/23 [==============================] - 56s 2s/step - loss: 1.2174 - accuracy: 0.4316 - val_loss: 1.4124 - val_accuracy: 0.3453 - lr: 0.0010\n",
      "Epoch 9/50\n",
      "23/23 [==============================] - 54s 2s/step - loss: 1.1794 - accuracy: 0.4554 - val_loss: 1.4663 - val_accuracy: 0.3389 - lr: 0.0010\n",
      "Epoch 10/50\n",
      "23/23 [==============================] - 52s 2s/step - loss: 1.1216 - accuracy: 0.5088 - val_loss: 1.5434 - val_accuracy: 0.3495 - lr: 0.0010\n",
      "Epoch 11/50\n",
      "23/23 [==============================] - 54s 2s/step - loss: 1.0846 - accuracy: 0.5193 - val_loss: 1.4917 - val_accuracy: 0.3326 - lr: 0.0010\n",
      "Epoch 12/50\n",
      "23/23 [==============================] - 54s 2s/step - loss: 1.0208 - accuracy: 0.5572 - val_loss: 1.5636 - val_accuracy: 0.3411 - lr: 0.0010\n",
      "Epoch 13/50\n",
      "23/23 [==============================] - 61s 3s/step - loss: 0.9685 - accuracy: 0.5867 - val_loss: 1.6573 - val_accuracy: 0.3284 - lr: 0.0010\n",
      "Epoch 14/50\n",
      "23/23 [==============================] - 59s 3s/step - loss: 0.9092 - accuracy: 0.5958 - val_loss: 1.7950 - val_accuracy: 0.3347 - lr: 0.0010\n",
      "Epoch 15/50\n",
      "23/23 [==============================] - 60s 3s/step - loss: 0.8988 - accuracy: 0.6028 - val_loss: 1.8306 - val_accuracy: 0.3389 - lr: 0.0010\n",
      "Epoch 16/50\n",
      "23/23 [==============================] - 54s 2s/step - loss: 0.7939 - accuracy: 0.6604 - val_loss: 2.0397 - val_accuracy: 0.3347 - lr: 0.0010\n",
      "Epoch 17/50\n",
      "23/23 [==============================] - 54s 2s/step - loss: 0.7544 - accuracy: 0.6604 - val_loss: 2.3077 - val_accuracy: 0.3200 - lr: 0.0010\n",
      "Epoch 18/50\n",
      "23/23 [==============================] - 54s 2s/step - loss: 0.6685 - accuracy: 0.6954 - val_loss: 2.4002 - val_accuracy: 0.3116 - lr: 0.0010\n",
      "Epoch 19/50\n",
      "23/23 [==============================] - 52s 2s/step - loss: 0.7034 - accuracy: 0.7004 - val_loss: 2.4240 - val_accuracy: 0.3326 - lr: 0.0010\n",
      "Epoch 20/50\n",
      "23/23 [==============================] - 54s 2s/step - loss: 0.6644 - accuracy: 0.6989 - val_loss: 2.7511 - val_accuracy: 0.3221 - lr: 0.0010\n",
      "Epoch 21/50\n",
      "23/23 [==============================] - 52s 2s/step - loss: 0.6167 - accuracy: 0.7249 - val_loss: 2.8543 - val_accuracy: 0.3242 - lr: 0.0010\n",
      "Epoch 22/50\n",
      "23/23 [==============================] - 55s 2s/step - loss: 0.5664 - accuracy: 0.7656 - val_loss: 3.1835 - val_accuracy: 0.3368 - lr: 0.0010\n",
      "Epoch 23/50\n",
      "23/23 [==============================] - 54s 2s/step - loss: 0.5664 - accuracy: 0.7579 - val_loss: 3.4330 - val_accuracy: 0.3137 - lr: 0.0010\n",
      "Epoch 24/50\n",
      "23/23 [==============================] - 53s 2s/step - loss: 0.5335 - accuracy: 0.7691 - val_loss: 3.3994 - val_accuracy: 0.3284 - lr: 0.0010\n",
      "Epoch 25/50\n",
      "23/23 [==============================] - 58s 3s/step - loss: 0.5196 - accuracy: 0.7635 - val_loss: 3.6604 - val_accuracy: 0.3179 - lr: 0.0010\n",
      "Epoch 26/50\n",
      "23/23 [==============================] - 56s 2s/step - loss: 0.4869 - accuracy: 0.7930 - val_loss: 3.7100 - val_accuracy: 0.3284 - lr: 0.0010\n",
      "Epoch 27/50\n",
      "23/23 [==============================] - 56s 2s/step - loss: 0.4144 - accuracy: 0.8288 - val_loss: 3.8296 - val_accuracy: 0.3242 - lr: 0.0010\n",
      "Epoch 28/50\n",
      "23/23 [==============================] - 56s 2s/step - loss: 0.4473 - accuracy: 0.7993 - val_loss: 3.7382 - val_accuracy: 0.3263 - lr: 0.0010\n",
      "Epoch 29/50\n",
      "23/23 [==============================] - 56s 2s/step - loss: 0.4037 - accuracy: 0.8161 - val_loss: 4.2657 - val_accuracy: 0.3200 - lr: 0.0010\n",
      "Epoch 30/50\n",
      "23/23 [==============================] - 58s 3s/step - loss: 0.4574 - accuracy: 0.8084 - val_loss: 3.5989 - val_accuracy: 0.3263 - lr: 0.0010\n",
      "Epoch 31/50\n",
      "23/23 [==============================] - 57s 2s/step - loss: 0.4192 - accuracy: 0.8105 - val_loss: 4.3889 - val_accuracy: 0.3284 - lr: 0.0010\n",
      "Epoch 32/50\n",
      "23/23 [==============================] - 56s 2s/step - loss: 0.3625 - accuracy: 0.8421 - val_loss: 4.5187 - val_accuracy: 0.3200 - lr: 4.0000e-04\n",
      "Epoch 33/50\n",
      "23/23 [==============================] - 54s 2s/step - loss: 0.3153 - accuracy: 0.8463 - val_loss: 4.9311 - val_accuracy: 0.3179 - lr: 4.0000e-04\n",
      "Epoch 34/50\n",
      "23/23 [==============================] - 53s 2s/step - loss: 0.3555 - accuracy: 0.8428 - val_loss: 4.6913 - val_accuracy: 0.3179 - lr: 4.0000e-04\n",
      "Epoch 35/50\n",
      "23/23 [==============================] - 52s 2s/step - loss: 0.2812 - accuracy: 0.8744 - val_loss: 5.2608 - val_accuracy: 0.3368 - lr: 4.0000e-04\n",
      "Epoch 36/50\n",
      "23/23 [==============================] - 52s 2s/step - loss: 0.3132 - accuracy: 0.8575 - val_loss: 5.0985 - val_accuracy: 0.3116 - lr: 4.0000e-04\n",
      "Epoch 37/50\n",
      "23/23 [==============================] - 51s 2s/step - loss: 0.2866 - accuracy: 0.8674 - val_loss: 5.5687 - val_accuracy: 0.3263 - lr: 4.0000e-04\n",
      "Epoch 38/50\n",
      "23/23 [==============================] - 51s 2s/step - loss: 0.3017 - accuracy: 0.8533 - val_loss: 5.4090 - val_accuracy: 0.3263 - lr: 1.6000e-04\n",
      "Epoch 39/50\n",
      "23/23 [==============================] - 51s 2s/step - loss: 0.2751 - accuracy: 0.8653 - val_loss: 5.3967 - val_accuracy: 0.3284 - lr: 1.6000e-04\n",
      "Epoch 40/50\n",
      "23/23 [==============================] - 53s 2s/step - loss: 0.2775 - accuracy: 0.8723 - val_loss: 5.6078 - val_accuracy: 0.3389 - lr: 1.6000e-04\n",
      "Epoch 41/50\n",
      "23/23 [==============================] - 53s 2s/step - loss: 0.2651 - accuracy: 0.8702 - val_loss: 5.8022 - val_accuracy: 0.3411 - lr: 1.6000e-04\n",
      "Epoch 42/50\n",
      "23/23 [==============================] - 53s 2s/step - loss: 0.2487 - accuracy: 0.8828 - val_loss: 5.8661 - val_accuracy: 0.3284 - lr: 1.6000e-04\n",
      "Epoch 43/50\n",
      "23/23 [==============================] - 51s 2s/step - loss: 0.2495 - accuracy: 0.8842 - val_loss: 5.7308 - val_accuracy: 0.3347 - lr: 1.6000e-04\n",
      "Epoch 44/50\n",
      "23/23 [==============================] - 54s 2s/step - loss: 0.2593 - accuracy: 0.8751 - val_loss: 5.7800 - val_accuracy: 0.3326 - lr: 1.6000e-04\n",
      "Epoch 45/50\n",
      "23/23 [==============================] - 52s 2s/step - loss: 0.2255 - accuracy: 0.8933 - val_loss: 5.8452 - val_accuracy: 0.3411 - lr: 6.4000e-05\n",
      "Epoch 46/50\n",
      "23/23 [==============================] - 52s 2s/step - loss: 0.2230 - accuracy: 0.8940 - val_loss: 5.9726 - val_accuracy: 0.3347 - lr: 6.4000e-05\n",
      "Epoch 47/50\n",
      "23/23 [==============================] - 52s 2s/step - loss: 0.2298 - accuracy: 0.8961 - val_loss: 6.0599 - val_accuracy: 0.3389 - lr: 6.4000e-05\n",
      "Epoch 48/50\n",
      "23/23 [==============================] - 52s 2s/step - loss: 0.2319 - accuracy: 0.8898 - val_loss: 6.0782 - val_accuracy: 0.3347 - lr: 6.4000e-05\n",
      "Epoch 49/50\n",
      "23/23 [==============================] - 50s 2s/step - loss: 0.2374 - accuracy: 0.8891 - val_loss: 6.0536 - val_accuracy: 0.3389 - lr: 2.5600e-05\n",
      "Epoch 50/50\n",
      "23/23 [==============================] - 51s 2s/step - loss: 0.2253 - accuracy: 0.8954 - val_loss: 6.0651 - val_accuracy: 0.3326 - lr: 2.5600e-05\n"
     ]
    }
   ],
   "source": [
    "rlrp = ReduceLROnPlateau(monitor='loss', factor=0.4, verbose=0, patience=2, min_lr=0.0000001)\n",
    "history = model.fit(x_train, y_train, batch_size=64, epochs=50, validation_data=(x_test, y_test), callbacks=[rlrp])"
   ]
  },
  {
   "cell_type": "code",
   "execution_count": 29,
   "id": "928f7953",
   "metadata": {},
   "outputs": [
    {
     "name": "stdout",
     "output_type": "stream",
     "text": [
      "15/15 [==============================] - 4s 262ms/step - loss: 6.0651 - accuracy: 0.3326\n",
      "Accuracy of our model on test data :  33.26315879821777 %\n"
     ]
    },
    {
     "data": {
      "image/png": "[encoded data removed]",
      "text/plain": [
       "<Figure size 2000x600 with 2 Axes>"
      ]
     },
     "metadata": {},
     "output_type": "display_data"
    }
   ],
   "source": [
    "print(\"Accuracy of our model on test data : \" , model.evaluate(x_test,y_test)[1]*100 , \"%\")\n",
    "\n",
    "epochs = [i for i in range(50)]\n",
    "fig , ax = plt.subplots(1,2)\n",
    "train_acc = history.history['accuracy']\n",
    "train_loss = history.history['loss']\n",
    "test_acc = history.history['val_accuracy']\n",
    "test_loss = history.history['val_loss']\n",
    "\n",
    "fig.set_size_inches(20,6)\n",
    "ax[0].plot(epochs , train_loss , label = 'Training Loss')\n",
    "ax[0].plot(epochs , test_loss , label = 'Testing Loss')\n",
    "ax[0].set_title('Training & Testing Loss')\n",
    "ax[0].legend()\n",
    "ax[0].set_xlabel(\"Epochs\")\n",
    "\n",
    "ax[1].plot(epochs , train_acc , label = 'Training Accuracy')\n",
    "ax[1].plot(epochs , test_acc , label = 'Testing Accuracy')\n",
    "ax[1].set_title('Training & Testing Accuracy')\n",
    "ax[1].legend()\n",
    "ax[1].set_xlabel(\"Epochs\")\n",
    "plt.show()"
   ]
  },
  {
   "cell_type": "code",
   "execution_count": 30,
   "id": "0b3c8129",
   "metadata": {},
   "outputs": [
    {
     "name": "stdout",
     "output_type": "stream",
     "text": [
      "15/15 [==============================] - 4s 264ms/step\n"
     ]
    }
   ],
   "source": [
    "# predicting on test data.\n",
    "pred_test = model.predict(x_test)\n",
    "y_pred = encoder.inverse_transform(pred_test)\n",
    "\n",
    "y_test = encoder.inverse_transform(y_test)"
   ]
  },
  {
   "cell_type": "code",
   "execution_count": 31,
   "id": "f60762c3",
   "metadata": {},
   "outputs": [
    {
     "data": {
      "text/html": [
       "<div>\n",
       "<style scoped>\n",
       "    .dataframe tbody tr th:only-of-type {\n",
       "        vertical-align: middle;\n",
       "    }\n",
       "\n",
       "    .dataframe tbody tr th {\n",
       "        vertical-align: top;\n",
       "    }\n",
       "\n",
       "    .dataframe thead th {\n",
       "        text-align: right;\n",
       "    }\n",
       "</style>\n",
       "<table border=\"1\" class=\"dataframe\">\n",
       "  <thead>\n",
       "    <tr style=\"text-align: right;\">\n",
       "      <th></th>\n",
       "      <th>Predicted Labels</th>\n",
       "      <th>Actual Labels</th>\n",
       "    </tr>\n",
       "  </thead>\n",
       "  <tbody>\n",
       "    <tr>\n",
       "      <th>0</th>\n",
       "      <td>joy</td>\n",
       "      <td>disgust</td>\n",
       "    </tr>\n",
       "    <tr>\n",
       "      <th>1</th>\n",
       "      <td>surprise</td>\n",
       "      <td>surprise</td>\n",
       "    </tr>\n",
       "    <tr>\n",
       "      <th>2</th>\n",
       "      <td>joy</td>\n",
       "      <td>disgust</td>\n",
       "    </tr>\n",
       "    <tr>\n",
       "      <th>3</th>\n",
       "      <td>anger</td>\n",
       "      <td>joy</td>\n",
       "    </tr>\n",
       "    <tr>\n",
       "      <th>4</th>\n",
       "      <td>joy</td>\n",
       "      <td>disgust</td>\n",
       "    </tr>\n",
       "    <tr>\n",
       "      <th>5</th>\n",
       "      <td>joy</td>\n",
       "      <td>joy</td>\n",
       "    </tr>\n",
       "    <tr>\n",
       "      <th>6</th>\n",
       "      <td>joy</td>\n",
       "      <td>disgust</td>\n",
       "    </tr>\n",
       "    <tr>\n",
       "      <th>7</th>\n",
       "      <td>disgust</td>\n",
       "      <td>surprise</td>\n",
       "    </tr>\n",
       "    <tr>\n",
       "      <th>8</th>\n",
       "      <td>anger</td>\n",
       "      <td>joy</td>\n",
       "    </tr>\n",
       "    <tr>\n",
       "      <th>9</th>\n",
       "      <td>surprise</td>\n",
       "      <td>joy</td>\n",
       "    </tr>\n",
       "  </tbody>\n",
       "</table>\n",
       "</div>"
      ],
      "text/plain": [
       "  Predicted Labels Actual Labels\n",
       "0              joy       disgust\n",
       "1         surprise      surprise\n",
       "2              joy       disgust\n",
       "3            anger           joy\n",
       "4              joy       disgust\n",
       "5              joy           joy\n",
       "6              joy       disgust\n",
       "7          disgust      surprise\n",
       "8            anger           joy\n",
       "9         surprise           joy"
      ]
     },
     "execution_count": 31,
     "metadata": {},
     "output_type": "execute_result"
    }
   ],
   "source": [
    "df = pd.DataFrame(columns=['Predicted Labels', 'Actual Labels'])\n",
    "df['Predicted Labels'] = y_pred.flatten()\n",
    "df['Actual Labels'] = y_test.flatten()\n",
    "\n",
    "df.head(10)"
   ]
  },
  {
   "cell_type": "code",
   "execution_count": 34,
   "id": "185fab33",
   "metadata": {},
   "outputs": [],
   "source": [
    "import seaborn as sns"
   ]
  },
  {
   "cell_type": "code",
   "execution_count": 35,
   "id": "5c73488c",
   "metadata": {},
   "outputs": [
    {
     "data": {
      "image/png": "[encoded data removed]",
      "text/plain": [
       "<Figure size 1200x1000 with 2 Axes>"
      ]
     },
     "metadata": {},
     "output_type": "display_data"
    }
   ],
   "source": [
    "from sklearn.metrics import confusion_matrix\n",
    "cm = confusion_matrix(y_test, y_pred)\n",
    "plt.figure(figsize = (12, 10))\n",
    "cm = pd.DataFrame(cm , index = [i for i in encoder.categories_] , columns = [i for i in encoder.categories_])\n",
    "sns.heatmap(cm, linecolor='white', cmap='Blues', linewidth=1, annot=True, fmt='')\n",
    "plt.title('Confusion Matrix', size=20)\n",
    "plt.xlabel('Predicted Labels', size=14)\n",
    "plt.ylabel('Actual Labels', size=14)\n",
    "plt.show()"
   ]
  },
  {
   "cell_type": "code",
   "execution_count": 37,
   "id": "7038f8ea",
   "metadata": {},
   "outputs": [
    {
     "name": "stdout",
     "output_type": "stream",
     "text": [
      "              precision    recall  f1-score   support\n",
      "\n",
      "       anger       0.31      0.30      0.30       114\n",
      "     disgust       0.38      0.34      0.36       132\n",
      "         joy       0.30      0.33      0.31       121\n",
      "    surprise       0.34      0.36      0.35       108\n",
      "\n",
      "    accuracy                           0.33       475\n",
      "   macro avg       0.33      0.33      0.33       475\n",
      "weighted avg       0.34      0.33      0.33       475\n",
      "\n"
     ]
    }
   ],
   "source": [
    "from sklearn.metrics import classification_report\n",
    "print(classification_report(y_test, y_pred))"
   ]
  }
 ],
 "metadata": {
  "hide_input": false,
  "kernelspec": {
   "display_name": "SER",
   "language": "python",
   "name": "myenv"
  },
  "language_info": {
   "codemirror_mode": {
    "name": "ipython",
    "version": 3
   },
   "file_extension": ".py",
   "mimetype": "text/x-python",
   "name": "python",
   "nbconvert_exporter": "python",
   "pygments_lexer": "ipython3",
   "version": "3.9.16"
  },
  "toc": {
   "base_numbering": 1,
   "nav_menu": {},
   "number_sections": true,
   "sideBar": true,
   "skip_h1_title": false,
   "title_cell": "Table of Contents",
   "title_sidebar": "Contents",
   "toc_cell": false,
   "toc_position": {},
   "toc_section_display": true,
   "toc_window_display": false
  }
 },
 "nbformat": 4,
 "nbformat_minor": 5
}
