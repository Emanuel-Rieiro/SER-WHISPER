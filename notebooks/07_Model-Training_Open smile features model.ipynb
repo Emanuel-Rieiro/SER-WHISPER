{
 "cells": [
  {
   "cell_type": "code",
   "execution_count": 1,
   "id": "467b7c75",
   "metadata": {},
   "outputs": [],
   "source": [
    "# Mandatorio al inicio de cada notebook\n",
    "import os\n",
    "import warnings\n",
    "os.chdir(os.path.abspath(\"..\"))\n",
    "warnings.filterwarnings('ignore')\n",
    "\n",
    "import json\n",
    "import numpy as np\n",
    "import pandas as pd\n",
    "from src.traductores import emocion_ekman\n",
    "from sklearn.model_selection import train_test_split\n",
    "from sklearn.preprocessing import StandardScaler, OneHotEncoder"
   ]
  },
  {
   "cell_type": "code",
   "execution_count": 2,
   "id": "911c4fd0",
   "metadata": {},
   "outputs": [],
   "source": [
    "import keras\n",
    "from keras.callbacks import ReduceLROnPlateau\n",
    "from keras.models import Sequential\n",
    "from keras.layers import Dense, Conv1D, MaxPooling1D, Flatten, Dropout, BatchNormalization"
   ]
  },
  {
   "cell_type": "markdown",
   "id": "aaeb6dca",
   "metadata": {},
   "source": [
    "### Input Data"
   ]
  },
  {
   "cell_type": "code",
   "execution_count": 3,
   "id": "5b189e36",
   "metadata": {},
   "outputs": [],
   "source": [
    "df_input = pd.read_csv(f'data/FEATURES/OPENSMILE/opensmile_features_whisper.csv')"
   ]
  },
  {
   "cell_type": "code",
   "execution_count": 55,
   "id": "8e10b08f",
   "metadata": {},
   "outputs": [],
   "source": [
    "# Fix para la diferencia en como estan estos valores, debo arreglarlo a futuro en el archivo de features opensmile\n",
    "df_input['Time'] = df_input['Time'].str.replace('(','[').str.replace(')',']')"
   ]
  },
  {
   "cell_type": "markdown",
   "id": "3c6aa0f8",
   "metadata": {},
   "source": [
    "### Target Data"
   ]
  },
  {
   "cell_type": "code",
   "execution_count": 4,
   "id": "04514b13",
   "metadata": {},
   "outputs": [],
   "source": [
    "# Obtenemos el json con los intervalos\n",
    "with open('data/objetivos_por_voto_promedio_whisper.json', 'r') as f:\n",
    "    targets_mean_vote = json.load(f)"
   ]
  },
  {
   "cell_type": "code",
   "execution_count": 57,
   "id": "8cccfdf6",
   "metadata": {
    "collapsed": true
   },
   "outputs": [
    {
     "name": "stdout",
     "output_type": "stream",
     "text": [
      "MSP-Conversation_0021.wav\n",
      "MSP-Conversation_0023.wav\n",
      "MSP-Conversation_0035.wav\n",
      "MSP-Conversation_0047.wav\n",
      "MSP-Conversation_0061.wav\n",
      "MSP-Conversation_0079.wav\n",
      "MSP-Conversation_0083.wav\n",
      "MSP-Conversation_0087.wav\n",
      "MSP-Conversation_0088.wav\n",
      "MSP-Conversation_0103.wav\n",
      "MSP-Conversation_0114.wav\n",
      "MSP-Conversation_0125.wav\n",
      "MSP-Conversation_0135.wav\n",
      "MSP-Conversation_0147.wav\n",
      "MSP-Conversation_0153.wav\n",
      "MSP-Conversation_0160.wav\n",
      "MSP-Conversation_0166.wav\n",
      "MSP-Conversation_0167.wav\n",
      "MSP-Conversation_0172.wav\n",
      "MSP-Conversation_0180.wav\n",
      "MSP-Conversation_0190.wav\n",
      "MSP-Conversation_0201.wav\n",
      "MSP-Conversation_0202.wav\n",
      "MSP-Conversation_0218.wav\n",
      "MSP-Conversation_0227.wav\n",
      "MSP-Conversation_0231.wav\n",
      "MSP-Conversation_0257.wav\n",
      "MSP-Conversation_0269.wav\n",
      "MSP-Conversation_0281.wav\n",
      "MSP-Conversation_0295.wav\n",
      "MSP-Conversation_0300.wav\n",
      "MSP-Conversation_0361.wav\n",
      "MSP-Conversation_0380.wav\n",
      "MSP-Conversation_0381.wav\n",
      "MSP-Conversation_0418.wav\n",
      "MSP-Conversation_0422.wav\n",
      "MSP-Conversation_0456.wav\n",
      "MSP-Conversation_0498.wav\n",
      "MSP-Conversation_0504.wav\n",
      "MSP-Conversation_0522.wav\n",
      "MSP-Conversation_0538.wav\n",
      "MSP-Conversation_0566.wav\n",
      "MSP-Conversation_0672.wav\n",
      "MSP-Conversation_0709.wav\n",
      "MSP-Conversation_0722.wav\n",
      "MSP-Conversation_0760.wav\n",
      "MSP-Conversation_0770.wav\n",
      "MSP-Conversation_0772.wav\n",
      "MSP-Conversation_0791.wav\n",
      "MSP-Conversation_0796.wav\n",
      "MSP-Conversation_0830.wav\n",
      "MSP-Conversation_0883.wav\n",
      "MSP-Conversation_1130.wav\n",
      "MSP-Conversation_1154.wav\n",
      "MSP-Conversation_1159.wav\n",
      "MSP-Conversation_1167.wav\n",
      "MSP-Conversation_1170.wav\n",
      "MSP-Conversation_1183.wav\n",
      "MSP-Conversation_1184.wav\n",
      "MSP-Conversation_1353.wav\n",
      "MSP-Conversation_0067.wav\n",
      "MSP-Conversation_0094.wav\n",
      "MSP-Conversation_0228.wav\n",
      "MSP-Conversation_0340.wav\n",
      "MSP-Conversation_0593.wav\n",
      "MSP-Conversation_0642.wav\n",
      "MSP-Conversation_0646.wav\n",
      "MSP-Conversation_0878.wav\n",
      "MSP-Conversation_1536.wav\n",
      "MSP-Conversation_1630.wav\n",
      "MSP-Conversation_1752.wav\n",
      "MSP-Conversation_1870.wav\n",
      "MSP-Conversation_1884.wav\n",
      "MSP-Conversation_1890.wav\n",
      "MSP-Conversation_1892.wav\n",
      "MSP-Conversation_1917.wav\n",
      "MSP-Conversation_1922.wav\n",
      "MSP-Conversation_1925.wav\n",
      "MSP-Conversation_1926.wav\n",
      "MSP-Conversation_1931.wav\n",
      "MSP-Conversation_1940.wav\n",
      "MSP-Conversation_1960.wav\n",
      "MSP-Conversation_1992.wav\n",
      "MSP-Conversation_2007.wav\n",
      "MSP-Conversation_2008.wav\n",
      "MSP-Conversation_0683.wav\n",
      "MSP-Conversation_0184.wav\n",
      "MSP-Conversation_0081.wav\n",
      "MSP-Conversation_0569.wav\n",
      "MSP-Conversation_0678.wav\n",
      "MSP-Conversation_0055.wav\n",
      "MSP-Conversation_0053.wav\n",
      "MSP-Conversation_0101.wav\n",
      "MSP-Conversation_0110.wav\n",
      "MSP-Conversation_0130.wav\n",
      "MSP-Conversation_0140.wav\n",
      "MSP-Conversation_0156.wav\n",
      "MSP-Conversation_0289.wav\n",
      "MSP-Conversation_0319.wav\n",
      "MSP-Conversation_0325.wav\n",
      "MSP-Conversation_0338.wav\n",
      "MSP-Conversation_0344.wav\n",
      "MSP-Conversation_0372.wav\n",
      "MSP-Conversation_0397.wav\n",
      "MSP-Conversation_0401.wav\n",
      "MSP-Conversation_0417.wav\n",
      "MSP-Conversation_0420.wav\n",
      "MSP-Conversation_0437.wav\n",
      "MSP-Conversation_0475.wav\n",
      "MSP-Conversation_0489.wav\n",
      "MSP-Conversation_0541.wav\n",
      "MSP-Conversation_0544.wav\n",
      "MSP-Conversation_0552.wav\n",
      "MSP-Conversation_0563.wav\n",
      "MSP-Conversation_0600.wav\n",
      "MSP-Conversation_0611.wav\n",
      "MSP-Conversation_0690.wav\n",
      "MSP-Conversation_0700.wav\n",
      "MSP-Conversation_0706.wav\n",
      "MSP-Conversation_0715.wav\n",
      "MSP-Conversation_0782.wav\n",
      "MSP-Conversation_0792.wav\n",
      "MSP-Conversation_0802.wav\n",
      "MSP-Conversation_0835.wav\n",
      "MSP-Conversation_0858.wav\n",
      "MSP-Conversation_0869.wav\n",
      "MSP-Conversation_0893.wav\n",
      "MSP-Conversation_0905.wav\n",
      "MSP-Conversation_0912.wav\n",
      "MSP-Conversation_1116.wav\n",
      "MSP-Conversation_1140.wav\n",
      "MSP-Conversation_1151.wav\n",
      "MSP-Conversation_1413.wav\n",
      "MSP-Conversation_1486.wav\n",
      "MSP-Conversation_1540.wav\n",
      "MSP-Conversation_1545.wav\n",
      "MSP-Conversation_1599.wav\n",
      "MSP-Conversation_1609.wav\n",
      "MSP-Conversation_1621.wav\n",
      "MSP-Conversation_1637.wav\n",
      "MSP-Conversation_1642.wav\n",
      "MSP-Conversation_1657.wav\n",
      "MSP-Conversation_1669.wav\n",
      "MSP-Conversation_1684.wav\n",
      "MSP-Conversation_1701.wav\n",
      "MSP-Conversation_1710.wav\n",
      "MSP-Conversation_1896.wav\n",
      "MSP-Conversation_1968.wav\n",
      "MSP-Conversation_1173.wav\n",
      "MSP-Conversation_1180.wav\n",
      "MSP-Conversation_1198.wav\n",
      "MSP-Conversation_1200.wav\n",
      "MSP-Conversation_1258.wav\n",
      "MSP-Conversation_2281.wav\n",
      "MSP-Conversation_1356.wav\n",
      "MSP-Conversation_2058.wav\n",
      "MSP-Conversation_2199.wav\n",
      "MSP-Conversation_2279.wav\n",
      "MSP-Conversation_2214.wav\n",
      "MSP-Conversation_2252.wav\n",
      "MSP-Conversation_2215.wav\n",
      "MSP-Conversation_2249.wav\n",
      "MSP-Conversation_2250.wav\n",
      "MSP-Conversation_2241.wav\n",
      "MSP-Conversation_2253.wav\n",
      "MSP-Conversation_2198.wav\n",
      "MSP-Conversation_2245.wav\n",
      "MSP-Conversation_2248.wav\n",
      "MSP-Conversation_2277.wav\n",
      "MSP-Conversation_0043.wav\n",
      "MSP-Conversation_0686.wav\n",
      "MSP-Conversation_0692.wav\n",
      "MSP-Conversation_0714.wav\n",
      "MSP-Conversation_0054.wav\n",
      "MSP-Conversation_0197.wav\n",
      "MSP-Conversation_0297.wav\n",
      "MSP-Conversation_2197.wav\n",
      "MSP-Conversation_0821.wav\n",
      "MSP-Conversation_0046.wav\n",
      "MSP-Conversation_0183.wav\n",
      "MSP-Conversation_0278.wav\n",
      "MSP-Conversation_0575.wav\n",
      "MSP-Conversation_0584.wav\n",
      "MSP-Conversation_0590.wav\n",
      "MSP-Conversation_0597.wav\n",
      "MSP-Conversation_0675.wav\n",
      "MSP-Conversation_0681.wav\n",
      "MSP-Conversation_0823.wav\n",
      "MSP-Conversation_0841.wav\n",
      "MSP-Conversation_0900.wav\n",
      "MSP-Conversation_0943.wav\n",
      "MSP-Conversation_0962.wav\n",
      "MSP-Conversation_0996.wav\n",
      "MSP-Conversation_1009.wav\n",
      "MSP-Conversation_1021.wav\n",
      "MSP-Conversation_1040.wav\n",
      "MSP-Conversation_1219.wav\n",
      "MSP-Conversation_1406.wav\n",
      "MSP-Conversation_1424.wav\n",
      "MSP-Conversation_1452.wav\n",
      "MSP-Conversation_1464.wav\n",
      "MSP-Conversation_1512.wav\n",
      "MSP-Conversation_1523.wav\n",
      "MSP-Conversation_1560.wav\n",
      "MSP-Conversation_1568.wav\n"
     ]
    }
   ],
   "source": [
    "# Loop principal para obtener los tiempos y target en pandas\n",
    "df_ranges = pd.DataFrame()\n",
    "\n",
    "for _key in targets_mean_vote.keys():\n",
    "    print(_key)\n",
    "    X = []\n",
    "    for segment, target in zip(targets_mean_vote[_key]['rangos'], targets_mean_vote[_key]['targets']):\n",
    "        x = []\n",
    "        x.append(segment)\n",
    "        x.append(target)\n",
    "        X.append(x)\n",
    "        \n",
    "    df = pd.DataFrame(X, columns = ['Time','Target'])\n",
    "    df['Audio_Name'] = _key\n",
    "    df_ranges = pd.concat([df_ranges, df], ignore_index = True)"
   ]
  },
  {
   "cell_type": "code",
   "execution_count": 58,
   "id": "6141808d",
   "metadata": {},
   "outputs": [],
   "source": [
    "# Join para obtener dataset final\n",
    "df_ranges['Time'] = df_ranges['Time'].astype(str) \n",
    "df_final = pd.merge(df_input, df_ranges, how = 'inner', left_on = ['Time','Audio_Name'], right_on = ['Time','Audio_Name'])"
   ]
  },
  {
   "cell_type": "code",
   "execution_count": 59,
   "id": "bd60bb91",
   "metadata": {},
   "outputs": [
    {
     "data": {
      "text/html": [
       "<div>\n",
       "<style scoped>\n",
       "    .dataframe tbody tr th:only-of-type {\n",
       "        vertical-align: middle;\n",
       "    }\n",
       "\n",
       "    .dataframe tbody tr th {\n",
       "        vertical-align: top;\n",
       "    }\n",
       "\n",
       "    .dataframe thead th {\n",
       "        text-align: right;\n",
       "    }\n",
       "</style>\n",
       "<table border=\"1\" class=\"dataframe\">\n",
       "  <thead>\n",
       "    <tr style=\"text-align: right;\">\n",
       "      <th></th>\n",
       "      <th>audspec_lengthL1norm_sma_range</th>\n",
       "      <th>audspec_lengthL1norm_sma_maxPos</th>\n",
       "      <th>audspec_lengthL1norm_sma_minPos</th>\n",
       "      <th>audspec_lengthL1norm_sma_quartile1</th>\n",
       "      <th>audspec_lengthL1norm_sma_quartile2</th>\n",
       "      <th>audspec_lengthL1norm_sma_quartile3</th>\n",
       "      <th>audspec_lengthL1norm_sma_iqr1-2</th>\n",
       "      <th>audspec_lengthL1norm_sma_iqr2-3</th>\n",
       "      <th>audspec_lengthL1norm_sma_iqr1-3</th>\n",
       "      <th>audspec_lengthL1norm_sma_percentile1.0</th>\n",
       "      <th>...</th>\n",
       "      <th>mfcc_sma_de[14]_peakMeanMeanDist</th>\n",
       "      <th>mfcc_sma_de[14]_peakMeanRel</th>\n",
       "      <th>mfcc_sma_de[14]_minRangeRel</th>\n",
       "      <th>mfcc_sma_de[14]_meanRisingSlope</th>\n",
       "      <th>mfcc_sma_de[14]_stddevRisingSlope</th>\n",
       "      <th>mfcc_sma_de[14]_meanFallingSlope</th>\n",
       "      <th>mfcc_sma_de[14]_stddevFallingSlope</th>\n",
       "      <th>Time</th>\n",
       "      <th>Audio_Name</th>\n",
       "      <th>Target</th>\n",
       "    </tr>\n",
       "  </thead>\n",
       "  <tbody>\n",
       "    <tr>\n",
       "      <th>0</th>\n",
       "      <td>1.498477</td>\n",
       "      <td>0.000000</td>\n",
       "      <td>0.714286</td>\n",
       "      <td>0.485805</td>\n",
       "      <td>0.701391</td>\n",
       "      <td>0.962348</td>\n",
       "      <td>0.215586</td>\n",
       "      <td>0.260957</td>\n",
       "      <td>0.476543</td>\n",
       "      <td>0.362370</td>\n",
       "      <td>...</td>\n",
       "      <td>1.451927</td>\n",
       "      <td>-10.622149</td>\n",
       "      <td>0.404903</td>\n",
       "      <td>85.88666</td>\n",
       "      <td>25.218460</td>\n",
       "      <td>80.42445</td>\n",
       "      <td>24.244904</td>\n",
       "      <td>[1187.84, 1188.7599999999998]</td>\n",
       "      <td>MSP-Conversation_2281.wav</td>\n",
       "      <td>[10.491853582554517, 44.9523613707165, 36.2193...</td>\n",
       "    </tr>\n",
       "    <tr>\n",
       "      <th>1</th>\n",
       "      <td>1.990642</td>\n",
       "      <td>0.666667</td>\n",
       "      <td>0.384615</td>\n",
       "      <td>0.777784</td>\n",
       "      <td>1.016043</td>\n",
       "      <td>1.538328</td>\n",
       "      <td>0.238259</td>\n",
       "      <td>0.522285</td>\n",
       "      <td>0.760544</td>\n",
       "      <td>0.478745</td>\n",
       "      <td>...</td>\n",
       "      <td>3.538584</td>\n",
       "      <td>-18.395329</td>\n",
       "      <td>0.557455</td>\n",
       "      <td>135.92220</td>\n",
       "      <td>44.451454</td>\n",
       "      <td>133.16500</td>\n",
       "      <td>63.074097</td>\n",
       "      <td>[1186.7, 1187.94]</td>\n",
       "      <td>MSP-Conversation_2281.wav</td>\n",
       "      <td>[23.88179307116105, 36.23635533707865, 42.1201...</td>\n",
       "    </tr>\n",
       "    <tr>\n",
       "      <th>2</th>\n",
       "      <td>1.419202</td>\n",
       "      <td>0.000000</td>\n",
       "      <td>0.277372</td>\n",
       "      <td>0.964727</td>\n",
       "      <td>1.079281</td>\n",
       "      <td>1.391491</td>\n",
       "      <td>0.114554</td>\n",
       "      <td>0.312210</td>\n",
       "      <td>0.426764</td>\n",
       "      <td>0.466527</td>\n",
       "      <td>...</td>\n",
       "      <td>3.402330</td>\n",
       "      <td>19.986610</td>\n",
       "      <td>0.568858</td>\n",
       "      <td>145.35555</td>\n",
       "      <td>85.942510</td>\n",
       "      <td>81.72596</td>\n",
       "      <td>75.727320</td>\n",
       "      <td>[1185.3600000000001, 1186.8]</td>\n",
       "      <td>MSP-Conversation_2281.wav</td>\n",
       "      <td>[21.23491677070329, 36.74688098210571, 41.1363...</td>\n",
       "    </tr>\n",
       "    <tr>\n",
       "      <th>3</th>\n",
       "      <td>1.209723</td>\n",
       "      <td>0.392157</td>\n",
       "      <td>0.993464</td>\n",
       "      <td>0.604566</td>\n",
       "      <td>0.765181</td>\n",
       "      <td>1.165415</td>\n",
       "      <td>0.160615</td>\n",
       "      <td>0.400234</td>\n",
       "      <td>0.560849</td>\n",
       "      <td>0.376036</td>\n",
       "      <td>...</td>\n",
       "      <td>3.636257</td>\n",
       "      <td>-12.235070</td>\n",
       "      <td>0.551213</td>\n",
       "      <td>133.98561</td>\n",
       "      <td>61.830128</td>\n",
       "      <td>160.21582</td>\n",
       "      <td>103.632210</td>\n",
       "      <td>[1183.6200000000001, 1185.22]</td>\n",
       "      <td>MSP-Conversation_2281.wav</td>\n",
       "      <td>[16.90110178970917, 39.83573266219239, 40.8024...</td>\n",
       "    </tr>\n",
       "    <tr>\n",
       "      <th>4</th>\n",
       "      <td>1.559967</td>\n",
       "      <td>0.259740</td>\n",
       "      <td>0.155844</td>\n",
       "      <td>0.705330</td>\n",
       "      <td>0.954492</td>\n",
       "      <td>1.326220</td>\n",
       "      <td>0.249163</td>\n",
       "      <td>0.371728</td>\n",
       "      <td>0.620890</td>\n",
       "      <td>0.255142</td>\n",
       "      <td>...</td>\n",
       "      <td>2.807891</td>\n",
       "      <td>9.537731</td>\n",
       "      <td>0.467584</td>\n",
       "      <td>138.58610</td>\n",
       "      <td>30.043957</td>\n",
       "      <td>88.29222</td>\n",
       "      <td>59.455185</td>\n",
       "      <td>[1182.88, 1183.72]</td>\n",
       "      <td>MSP-Conversation_2281.wav</td>\n",
       "      <td>[21.654366952789697, 35.922482117310444, 50.54...</td>\n",
       "    </tr>\n",
       "  </tbody>\n",
       "</table>\n",
       "<p>5 rows × 6376 columns</p>\n",
       "</div>"
      ],
      "text/plain": [
       "   audspec_lengthL1norm_sma_range  audspec_lengthL1norm_sma_maxPos  \\\n",
       "0                        1.498477                         0.000000   \n",
       "1                        1.990642                         0.666667   \n",
       "2                        1.419202                         0.000000   \n",
       "3                        1.209723                         0.392157   \n",
       "4                        1.559967                         0.259740   \n",
       "\n",
       "   audspec_lengthL1norm_sma_minPos  audspec_lengthL1norm_sma_quartile1  \\\n",
       "0                         0.714286                            0.485805   \n",
       "1                         0.384615                            0.777784   \n",
       "2                         0.277372                            0.964727   \n",
       "3                         0.993464                            0.604566   \n",
       "4                         0.155844                            0.705330   \n",
       "\n",
       "   audspec_lengthL1norm_sma_quartile2  audspec_lengthL1norm_sma_quartile3  \\\n",
       "0                            0.701391                            0.962348   \n",
       "1                            1.016043                            1.538328   \n",
       "2                            1.079281                            1.391491   \n",
       "3                            0.765181                            1.165415   \n",
       "4                            0.954492                            1.326220   \n",
       "\n",
       "   audspec_lengthL1norm_sma_iqr1-2  audspec_lengthL1norm_sma_iqr2-3  \\\n",
       "0                         0.215586                         0.260957   \n",
       "1                         0.238259                         0.522285   \n",
       "2                         0.114554                         0.312210   \n",
       "3                         0.160615                         0.400234   \n",
       "4                         0.249163                         0.371728   \n",
       "\n",
       "   audspec_lengthL1norm_sma_iqr1-3  audspec_lengthL1norm_sma_percentile1.0  \\\n",
       "0                         0.476543                                0.362370   \n",
       "1                         0.760544                                0.478745   \n",
       "2                         0.426764                                0.466527   \n",
       "3                         0.560849                                0.376036   \n",
       "4                         0.620890                                0.255142   \n",
       "\n",
       "   ...  mfcc_sma_de[14]_peakMeanMeanDist  mfcc_sma_de[14]_peakMeanRel  \\\n",
       "0  ...                          1.451927                   -10.622149   \n",
       "1  ...                          3.538584                   -18.395329   \n",
       "2  ...                          3.402330                    19.986610   \n",
       "3  ...                          3.636257                   -12.235070   \n",
       "4  ...                          2.807891                     9.537731   \n",
       "\n",
       "   mfcc_sma_de[14]_minRangeRel  mfcc_sma_de[14]_meanRisingSlope  \\\n",
       "0                     0.404903                         85.88666   \n",
       "1                     0.557455                        135.92220   \n",
       "2                     0.568858                        145.35555   \n",
       "3                     0.551213                        133.98561   \n",
       "4                     0.467584                        138.58610   \n",
       "\n",
       "   mfcc_sma_de[14]_stddevRisingSlope  mfcc_sma_de[14]_meanFallingSlope  \\\n",
       "0                          25.218460                          80.42445   \n",
       "1                          44.451454                         133.16500   \n",
       "2                          85.942510                          81.72596   \n",
       "3                          61.830128                         160.21582   \n",
       "4                          30.043957                          88.29222   \n",
       "\n",
       "   mfcc_sma_de[14]_stddevFallingSlope                           Time  \\\n",
       "0                           24.244904  [1187.84, 1188.7599999999998]   \n",
       "1                           63.074097              [1186.7, 1187.94]   \n",
       "2                           75.727320   [1185.3600000000001, 1186.8]   \n",
       "3                          103.632210  [1183.6200000000001, 1185.22]   \n",
       "4                           59.455185             [1182.88, 1183.72]   \n",
       "\n",
       "                  Audio_Name  \\\n",
       "0  MSP-Conversation_2281.wav   \n",
       "1  MSP-Conversation_2281.wav   \n",
       "2  MSP-Conversation_2281.wav   \n",
       "3  MSP-Conversation_2281.wav   \n",
       "4  MSP-Conversation_2281.wav   \n",
       "\n",
       "                                              Target  \n",
       "0  [10.491853582554517, 44.9523613707165, 36.2193...  \n",
       "1  [23.88179307116105, 36.23635533707865, 42.1201...  \n",
       "2  [21.23491677070329, 36.74688098210571, 41.1363...  \n",
       "3  [16.90110178970917, 39.83573266219239, 40.8024...  \n",
       "4  [21.654366952789697, 35.922482117310444, 50.54...  \n",
       "\n",
       "[5 rows x 6376 columns]"
      ]
     },
     "execution_count": 59,
     "metadata": {},
     "output_type": "execute_result"
    }
   ],
   "source": [
    "df_final.head()"
   ]
  },
  {
   "cell_type": "markdown",
   "id": "13d603a6",
   "metadata": {},
   "source": [
    "### Remover Duplicados"
   ]
  },
  {
   "cell_type": "code",
   "execution_count": 64,
   "id": "5e73bc80",
   "metadata": {},
   "outputs": [],
   "source": [
    "df_final['Duplicated'] = df_final['Time'] + df_final['Audio_Name']\n",
    "df_final = df_final.drop_duplicates(subset = 'Duplicated')\n",
    "df_final = df_final.drop('Duplicated', axis = 1)"
   ]
  },
  {
   "cell_type": "markdown",
   "id": "c006dad5",
   "metadata": {},
   "source": [
    "### Votación"
   ]
  },
  {
   "cell_type": "code",
   "execution_count": 65,
   "id": "06bc2ff1",
   "metadata": {},
   "outputs": [],
   "source": [
    "df_final['Ekman'] = [ekman_emotion(i[0],i[1],i[2]) for i in df_final['Target']]"
   ]
  },
  {
   "cell_type": "markdown",
   "id": "07c18cdd",
   "metadata": {},
   "source": [
    "### Sacar nulos"
   ]
  },
  {
   "cell_type": "code",
   "execution_count": 66,
   "id": "40c3c080",
   "metadata": {},
   "outputs": [
    {
     "data": {
      "text/plain": [
       "audspec_lengthL1norm_sma_range         85\n",
       "audspec_lengthL1norm_sma_maxPos        85\n",
       "audspec_lengthL1norm_sma_minPos        85\n",
       "audspec_lengthL1norm_sma_quartile1     85\n",
       "audspec_lengthL1norm_sma_quartile2     85\n",
       "                                     ... \n",
       "mfcc_sma_de[14]_stddevFallingSlope     85\n",
       "Time                                    0\n",
       "Audio_Name                              0\n",
       "Target                                  0\n",
       "Ekman                                 760\n",
       "Length: 6377, dtype: int64"
      ]
     },
     "execution_count": 66,
     "metadata": {},
     "output_type": "execute_result"
    }
   ],
   "source": [
    "df_final.isna().sum()"
   ]
  },
  {
   "cell_type": "code",
   "execution_count": 67,
   "id": "0c6724ff",
   "metadata": {},
   "outputs": [],
   "source": [
    "df_final = df_final[~df_final['Ekman'].isna()]"
   ]
  },
  {
   "cell_type": "code",
   "execution_count": 68,
   "id": "61a6c018",
   "metadata": {},
   "outputs": [],
   "source": [
    "df_final = df_final[~df_final['audspec_lengthL1norm_sma_range'].isna()]"
   ]
  },
  {
   "cell_type": "code",
   "execution_count": 69,
   "id": "4e15dd2d",
   "metadata": {
    "scrolled": true
   },
   "outputs": [
    {
     "data": {
      "text/plain": [
       "audspec_lengthL1norm_sma_range        0\n",
       "audspec_lengthL1norm_sma_maxPos       0\n",
       "audspec_lengthL1norm_sma_minPos       0\n",
       "audspec_lengthL1norm_sma_quartile1    0\n",
       "audspec_lengthL1norm_sma_quartile2    0\n",
       "                                     ..\n",
       "mfcc_sma_de[14]_stddevFallingSlope    0\n",
       "Time                                  0\n",
       "Audio_Name                            0\n",
       "Target                                0\n",
       "Ekman                                 0\n",
       "Length: 6377, dtype: int64"
      ]
     },
     "execution_count": 69,
     "metadata": {},
     "output_type": "execute_result"
    }
   ],
   "source": [
    "df_final.isna().sum()"
   ]
  },
  {
   "cell_type": "markdown",
   "id": "c8f0269e",
   "metadata": {},
   "source": [
    "### Pre procesamiento"
   ]
  },
  {
   "cell_type": "markdown",
   "id": "0300615e",
   "metadata": {},
   "source": [
    "#### Distribución de la data"
   ]
  },
  {
   "cell_type": "code",
   "execution_count": 70,
   "id": "bd32f4bf",
   "metadata": {
    "scrolled": true
   },
   "outputs": [],
   "source": [
    "df_count = df_final.groupby('Ekman').count().reset_index()[['Ekman','audspec_lengthL1norm_sma_range']].rename({'audspec_lengthL1norm_sma_range':'Count'}, axis = 1)"
   ]
  },
  {
   "cell_type": "code",
   "execution_count": 71,
   "id": "b7e65555",
   "metadata": {},
   "outputs": [
    {
     "data": {
      "text/html": [
       "<div>\n",
       "<style scoped>\n",
       "    .dataframe tbody tr th:only-of-type {\n",
       "        vertical-align: middle;\n",
       "    }\n",
       "\n",
       "    .dataframe tbody tr th {\n",
       "        vertical-align: top;\n",
       "    }\n",
       "\n",
       "    .dataframe thead th {\n",
       "        text-align: right;\n",
       "    }\n",
       "</style>\n",
       "<table border=\"1\" class=\"dataframe\">\n",
       "  <thead>\n",
       "    <tr style=\"text-align: right;\">\n",
       "      <th></th>\n",
       "      <th>Ekman</th>\n",
       "      <th>Count</th>\n",
       "    </tr>\n",
       "  </thead>\n",
       "  <tbody>\n",
       "    <tr>\n",
       "      <th>0</th>\n",
       "      <td>anger</td>\n",
       "      <td>7101</td>\n",
       "    </tr>\n",
       "    <tr>\n",
       "      <th>1</th>\n",
       "      <td>disgust</td>\n",
       "      <td>5900</td>\n",
       "    </tr>\n",
       "    <tr>\n",
       "      <th>2</th>\n",
       "      <td>joy</td>\n",
       "      <td>18883</td>\n",
       "    </tr>\n",
       "    <tr>\n",
       "      <th>3</th>\n",
       "      <td>sadness</td>\n",
       "      <td>22</td>\n",
       "    </tr>\n",
       "    <tr>\n",
       "      <th>4</th>\n",
       "      <td>surprise</td>\n",
       "      <td>7484</td>\n",
       "    </tr>\n",
       "  </tbody>\n",
       "</table>\n",
       "</div>"
      ],
      "text/plain": [
       "      Ekman  Count\n",
       "0     anger   7101\n",
       "1   disgust   5900\n",
       "2       joy  18883\n",
       "3   sadness     22\n",
       "4  surprise   7484"
      ]
     },
     "execution_count": 71,
     "metadata": {},
     "output_type": "execute_result"
    }
   ],
   "source": [
    "df_count"
   ]
  },
  {
   "cell_type": "markdown",
   "id": "7192ddbb",
   "metadata": {},
   "source": [
    "Por un tema de investigación voy a sacar sadness"
   ]
  },
  {
   "cell_type": "code",
   "execution_count": 72,
   "id": "f024e22c",
   "metadata": {},
   "outputs": [],
   "source": [
    "df_final = df_final[df_final['Ekman'] != 'sadness']"
   ]
  },
  {
   "cell_type": "markdown",
   "id": "69cfa5cc",
   "metadata": {},
   "source": [
    "Por ahora solo voy a forzar valores, pero hay mejores formas de arreglar esto"
   ]
  },
  {
   "cell_type": "code",
   "execution_count": 73,
   "id": "94e8bc57",
   "metadata": {},
   "outputs": [],
   "source": [
    "df_joy = df_final[df_final['Ekman'] == 'joy'].sample(n = 5900)\n",
    "df_surprise = df_final[df_final['Ekman'] == 'surprise'].sample(n = 5900)\n",
    "df_disgust = df_final[df_final['Ekman'] == 'disgust'].sample(n = 5900)\n",
    "df_anger = df_final[df_final['Ekman'] == 'anger'].sample(n = 5900)"
   ]
  },
  {
   "cell_type": "code",
   "execution_count": 74,
   "id": "fb4a3d92",
   "metadata": {},
   "outputs": [],
   "source": [
    "df_final_balanced = pd.concat([df_joy, df_surprise, df_disgust, df_anger], ignore_index = True)"
   ]
  },
  {
   "cell_type": "code",
   "execution_count": 75,
   "id": "52895c71",
   "metadata": {},
   "outputs": [
    {
     "data": {
      "text/html": [
       "<div>\n",
       "<style scoped>\n",
       "    .dataframe tbody tr th:only-of-type {\n",
       "        vertical-align: middle;\n",
       "    }\n",
       "\n",
       "    .dataframe tbody tr th {\n",
       "        vertical-align: top;\n",
       "    }\n",
       "\n",
       "    .dataframe thead th {\n",
       "        text-align: right;\n",
       "    }\n",
       "</style>\n",
       "<table border=\"1\" class=\"dataframe\">\n",
       "  <thead>\n",
       "    <tr style=\"text-align: right;\">\n",
       "      <th></th>\n",
       "      <th>Ekman</th>\n",
       "      <th>Count</th>\n",
       "    </tr>\n",
       "  </thead>\n",
       "  <tbody>\n",
       "    <tr>\n",
       "      <th>0</th>\n",
       "      <td>anger</td>\n",
       "      <td>5900</td>\n",
       "    </tr>\n",
       "    <tr>\n",
       "      <th>1</th>\n",
       "      <td>disgust</td>\n",
       "      <td>5900</td>\n",
       "    </tr>\n",
       "    <tr>\n",
       "      <th>2</th>\n",
       "      <td>joy</td>\n",
       "      <td>5900</td>\n",
       "    </tr>\n",
       "    <tr>\n",
       "      <th>3</th>\n",
       "      <td>surprise</td>\n",
       "      <td>5900</td>\n",
       "    </tr>\n",
       "  </tbody>\n",
       "</table>\n",
       "</div>"
      ],
      "text/plain": [
       "      Ekman  Count\n",
       "0     anger   5900\n",
       "1   disgust   5900\n",
       "2       joy   5900\n",
       "3  surprise   5900"
      ]
     },
     "execution_count": 75,
     "metadata": {},
     "output_type": "execute_result"
    }
   ],
   "source": [
    "df_final_balanced.groupby('Ekman').count().reset_index()[['Ekman','audspec_lengthL1norm_sma_range']].rename({'audspec_lengthL1norm_sma_range':'Count'}, axis = 1)"
   ]
  },
  {
   "cell_type": "markdown",
   "id": "564efd8d",
   "metadata": {},
   "source": [
    "#### Split"
   ]
  },
  {
   "cell_type": "code",
   "execution_count": 51,
   "id": "fe40196e",
   "metadata": {},
   "outputs": [],
   "source": [
    "X = df_final_balanced.iloc[:,:-4].values\n",
    "Y = df_final_balanced['Ekman'].values"
   ]
  },
  {
   "cell_type": "code",
   "execution_count": 52,
   "id": "96627402",
   "metadata": {},
   "outputs": [],
   "source": [
    "# Encoder de las emociones\n",
    "encoder = OneHotEncoder()\n",
    "Y = encoder.fit_transform(np.array(Y).reshape(-1,1)).toarray()"
   ]
  },
  {
   "cell_type": "code",
   "execution_count": 53,
   "id": "621299aa",
   "metadata": {},
   "outputs": [
    {
     "data": {
      "text/plain": [
       "((17700, 6373), (17700, 4), (5900, 6373), (5900, 4))"
      ]
     },
     "execution_count": 53,
     "metadata": {},
     "output_type": "execute_result"
    }
   ],
   "source": [
    "# split de la data\n",
    "x_train, x_test, y_train, y_test = train_test_split(X, Y, random_state=0, shuffle=True)\n",
    "x_train.shape, y_train.shape, x_test.shape, y_test.shape"
   ]
  },
  {
   "cell_type": "code",
   "execution_count": 54,
   "id": "7a5272b5",
   "metadata": {},
   "outputs": [
    {
     "data": {
      "text/plain": [
       "((17700, 6373), (17700, 4), (5900, 6373), (5900, 4))"
      ]
     },
     "execution_count": 54,
     "metadata": {},
     "output_type": "execute_result"
    }
   ],
   "source": [
    "scaler = StandardScaler()\n",
    "x_train = scaler.fit_transform(x_train)\n",
    "x_test = scaler.transform(x_test)\n",
    "x_train.shape, y_train.shape, x_test.shape, y_test.shape"
   ]
  },
  {
   "cell_type": "code",
   "execution_count": 55,
   "id": "fa12e155",
   "metadata": {},
   "outputs": [
    {
     "data": {
      "text/plain": [
       "((17700, 6373, 1), (17700, 4), (5900, 6373, 1), (5900, 4))"
      ]
     },
     "execution_count": 55,
     "metadata": {},
     "output_type": "execute_result"
    }
   ],
   "source": [
    "x_train = np.expand_dims(x_train, axis=2)\n",
    "x_test = np.expand_dims(x_test, axis=2)\n",
    "x_train.shape, y_train.shape, x_test.shape, y_test.shape"
   ]
  },
  {
   "cell_type": "code",
   "execution_count": 57,
   "id": "67019895",
   "metadata": {
    "scrolled": false
   },
   "outputs": [
    {
     "name": "stdout",
     "output_type": "stream",
     "text": [
      "Model: \"sequential_1\"\n",
      "_________________________________________________________________\n",
      " Layer (type)                Output Shape              Param #   \n",
      "=================================================================\n",
      " conv1d_4 (Conv1D)           (None, 6373, 256)         1536      \n",
      "                                                                 \n",
      " max_pooling1d_4 (MaxPooling  (None, 3187, 256)        0         \n",
      " 1D)                                                             \n",
      "                                                                 \n",
      " conv1d_5 (Conv1D)           (None, 3187, 256)         327936    \n",
      "                                                                 \n",
      " max_pooling1d_5 (MaxPooling  (None, 1594, 256)        0         \n",
      " 1D)                                                             \n",
      "                                                                 \n",
      " conv1d_6 (Conv1D)           (None, 1594, 128)         163968    \n",
      "                                                                 \n",
      " max_pooling1d_6 (MaxPooling  (None, 797, 128)         0         \n",
      " 1D)                                                             \n",
      "                                                                 \n",
      " dropout_2 (Dropout)         (None, 797, 128)          0         \n",
      "                                                                 \n",
      " conv1d_7 (Conv1D)           (None, 797, 64)           41024     \n",
      "                                                                 \n",
      " max_pooling1d_7 (MaxPooling  (None, 399, 64)          0         \n",
      " 1D)                                                             \n",
      "                                                                 \n",
      " flatten_1 (Flatten)         (None, 25536)             0         \n",
      "                                                                 \n",
      " dense_2 (Dense)             (None, 32)                817184    \n",
      "                                                                 \n",
      " dropout_3 (Dropout)         (None, 32)                0         \n",
      "                                                                 \n",
      " dense_3 (Dense)             (None, 4)                 132       \n",
      "                                                                 \n",
      "=================================================================\n",
      "Total params: 1,351,780\n",
      "Trainable params: 1,351,780\n",
      "Non-trainable params: 0\n",
      "_________________________________________________________________\n"
     ]
    }
   ],
   "source": [
    "model=Sequential()\n",
    "model.add(Conv1D(256, kernel_size=5, strides=1, padding='same', activation='relu', input_shape=(x_train.shape[1], 1)))\n",
    "model.add(MaxPooling1D(pool_size=5, strides = 2, padding = 'same'))\n",
    "\n",
    "model.add(Conv1D(256, kernel_size=5, strides=1, padding='same', activation='relu'))\n",
    "model.add(MaxPooling1D(pool_size=5, strides = 2, padding = 'same'))\n",
    "\n",
    "model.add(Conv1D(128, kernel_size=5, strides=1, padding='same', activation='relu'))\n",
    "model.add(MaxPooling1D(pool_size=5, strides = 2, padding = 'same'))\n",
    "model.add(Dropout(0.2))\n",
    "\n",
    "model.add(Conv1D(64, kernel_size=5, strides=1, padding='same', activation='relu'))\n",
    "model.add(MaxPooling1D(pool_size=5, strides = 2, padding = 'same'))\n",
    "\n",
    "model.add(Flatten())\n",
    "model.add(Dense(units=32, activation='relu'))\n",
    "model.add(Dropout(0.3))\n",
    "\n",
    "model.add(Dense(units=len(df_final_balanced['Ekman'].unique()), activation='softmax'))\n",
    "model.compile(optimizer = 'adam' , loss = 'categorical_crossentropy' , metrics = ['accuracy'])\n",
    "\n",
    "model.summary()"
   ]
  },
  {
   "cell_type": "code",
   "execution_count": 58,
   "id": "61700f1c",
   "metadata": {},
   "outputs": [
    {
     "name": "stdout",
     "output_type": "stream",
     "text": [
      "Epoch 1/50\n",
      "277/277 [==============================] - 720s 3s/step - loss: 1.3912 - accuracy: 0.2494 - val_loss: 1.3865 - val_accuracy: 0.2432 - lr: 0.0010\n",
      "Epoch 2/50\n",
      "277/277 [==============================] - 719s 3s/step - loss: 1.3865 - accuracy: 0.2476 - val_loss: 1.3865 - val_accuracy: 0.2434 - lr: 0.0010\n",
      "Epoch 3/50\n",
      "277/277 [==============================] - 716s 3s/step - loss: 1.3867 - accuracy: 0.2493 - val_loss: 1.3865 - val_accuracy: 0.2432 - lr: 0.0010\n",
      "Epoch 4/50\n",
      "277/277 [==============================] - 726s 3s/step - loss: 1.3863 - accuracy: 0.2523 - val_loss: 1.3865 - val_accuracy: 0.2432 - lr: 0.0010\n",
      "Epoch 5/50\n",
      "277/277 [==============================] - 734s 3s/step - loss: 1.3871 - accuracy: 0.2444 - val_loss: 1.3865 - val_accuracy: 0.2431 - lr: 0.0010\n",
      "Epoch 6/50\n",
      "277/277 [==============================] - 727s 3s/step - loss: 1.3863 - accuracy: 0.2523 - val_loss: 1.3865 - val_accuracy: 0.2431 - lr: 0.0010\n",
      "Epoch 7/50\n",
      "277/277 [==============================] - 707s 3s/step - loss: 1.3861 - accuracy: 0.2524 - val_loss: 1.3865 - val_accuracy: 0.2431 - lr: 4.0000e-04\n",
      "Epoch 8/50\n",
      "277/277 [==============================] - 704s 3s/step - loss: 1.3863 - accuracy: 0.2493 - val_loss: 1.3864 - val_accuracy: 0.2432 - lr: 4.0000e-04\n",
      "Epoch 9/50\n",
      " 36/277 [==>...........................] - ETA: 9:24 - loss: 1.3863 - accuracy: 0.2435"
     ]
    },
    {
     "ename": "KeyboardInterrupt",
     "evalue": "",
     "output_type": "error",
     "traceback": [
      "\u001b[1;31m---------------------------------------------------------------------------\u001b[0m",
      "\u001b[1;31mKeyboardInterrupt\u001b[0m                         Traceback (most recent call last)",
      "Cell \u001b[1;32mIn[58], line 2\u001b[0m\n\u001b[0;32m      1\u001b[0m rlrp \u001b[38;5;241m=\u001b[39m ReduceLROnPlateau(monitor\u001b[38;5;241m=\u001b[39m\u001b[38;5;124m'\u001b[39m\u001b[38;5;124mloss\u001b[39m\u001b[38;5;124m'\u001b[39m, factor\u001b[38;5;241m=\u001b[39m\u001b[38;5;241m0.4\u001b[39m, verbose\u001b[38;5;241m=\u001b[39m\u001b[38;5;241m0\u001b[39m, patience\u001b[38;5;241m=\u001b[39m\u001b[38;5;241m2\u001b[39m, min_lr\u001b[38;5;241m=\u001b[39m\u001b[38;5;241m0.0000001\u001b[39m)\n\u001b[1;32m----> 2\u001b[0m history \u001b[38;5;241m=\u001b[39m \u001b[43mmodel\u001b[49m\u001b[38;5;241;43m.\u001b[39;49m\u001b[43mfit\u001b[49m\u001b[43m(\u001b[49m\u001b[43mx_train\u001b[49m\u001b[43m,\u001b[49m\u001b[43m \u001b[49m\u001b[43my_train\u001b[49m\u001b[43m,\u001b[49m\u001b[43m \u001b[49m\u001b[43mbatch_size\u001b[49m\u001b[38;5;241;43m=\u001b[39;49m\u001b[38;5;241;43m64\u001b[39;49m\u001b[43m,\u001b[49m\u001b[43m \u001b[49m\u001b[43mepochs\u001b[49m\u001b[38;5;241;43m=\u001b[39;49m\u001b[38;5;241;43m50\u001b[39;49m\u001b[43m,\u001b[49m\u001b[43m \u001b[49m\u001b[43mvalidation_data\u001b[49m\u001b[38;5;241;43m=\u001b[39;49m\u001b[43m(\u001b[49m\u001b[43mx_test\u001b[49m\u001b[43m,\u001b[49m\u001b[43m \u001b[49m\u001b[43my_test\u001b[49m\u001b[43m)\u001b[49m\u001b[43m,\u001b[49m\u001b[43m \u001b[49m\u001b[43mcallbacks\u001b[49m\u001b[38;5;241;43m=\u001b[39;49m\u001b[43m[\u001b[49m\u001b[43mrlrp\u001b[49m\u001b[43m]\u001b[49m\u001b[43m)\u001b[49m\n",
      "File \u001b[1;32m~\\Anaconda3\\envs\\SER\\lib\\site-packages\\keras\\utils\\traceback_utils.py:65\u001b[0m, in \u001b[0;36mfilter_traceback.<locals>.error_handler\u001b[1;34m(*args, **kwargs)\u001b[0m\n\u001b[0;32m     63\u001b[0m filtered_tb \u001b[38;5;241m=\u001b[39m \u001b[38;5;28;01mNone\u001b[39;00m\n\u001b[0;32m     64\u001b[0m \u001b[38;5;28;01mtry\u001b[39;00m:\n\u001b[1;32m---> 65\u001b[0m     \u001b[38;5;28;01mreturn\u001b[39;00m fn(\u001b[38;5;241m*\u001b[39margs, \u001b[38;5;241m*\u001b[39m\u001b[38;5;241m*\u001b[39mkwargs)\n\u001b[0;32m     66\u001b[0m \u001b[38;5;28;01mexcept\u001b[39;00m \u001b[38;5;167;01mException\u001b[39;00m \u001b[38;5;28;01mas\u001b[39;00m e:\n\u001b[0;32m     67\u001b[0m     filtered_tb \u001b[38;5;241m=\u001b[39m _process_traceback_frames(e\u001b[38;5;241m.\u001b[39m__traceback__)\n",
      "File \u001b[1;32m~\\Anaconda3\\envs\\SER\\lib\\site-packages\\keras\\engine\\training.py:1564\u001b[0m, in \u001b[0;36mModel.fit\u001b[1;34m(self, x, y, batch_size, epochs, verbose, callbacks, validation_split, validation_data, shuffle, class_weight, sample_weight, initial_epoch, steps_per_epoch, validation_steps, validation_batch_size, validation_freq, max_queue_size, workers, use_multiprocessing)\u001b[0m\n\u001b[0;32m   1556\u001b[0m \u001b[38;5;28;01mwith\u001b[39;00m tf\u001b[38;5;241m.\u001b[39mprofiler\u001b[38;5;241m.\u001b[39mexperimental\u001b[38;5;241m.\u001b[39mTrace(\n\u001b[0;32m   1557\u001b[0m     \u001b[38;5;124m\"\u001b[39m\u001b[38;5;124mtrain\u001b[39m\u001b[38;5;124m\"\u001b[39m,\n\u001b[0;32m   1558\u001b[0m     epoch_num\u001b[38;5;241m=\u001b[39mepoch,\n\u001b[1;32m   (...)\u001b[0m\n\u001b[0;32m   1561\u001b[0m     _r\u001b[38;5;241m=\u001b[39m\u001b[38;5;241m1\u001b[39m,\n\u001b[0;32m   1562\u001b[0m ):\n\u001b[0;32m   1563\u001b[0m     callbacks\u001b[38;5;241m.\u001b[39mon_train_batch_begin(step)\n\u001b[1;32m-> 1564\u001b[0m     tmp_logs \u001b[38;5;241m=\u001b[39m \u001b[38;5;28;43mself\u001b[39;49m\u001b[38;5;241;43m.\u001b[39;49m\u001b[43mtrain_function\u001b[49m\u001b[43m(\u001b[49m\u001b[43miterator\u001b[49m\u001b[43m)\u001b[49m\n\u001b[0;32m   1565\u001b[0m     \u001b[38;5;28;01mif\u001b[39;00m data_handler\u001b[38;5;241m.\u001b[39mshould_sync:\n\u001b[0;32m   1566\u001b[0m         context\u001b[38;5;241m.\u001b[39masync_wait()\n",
      "File \u001b[1;32m~\\Anaconda3\\envs\\SER\\lib\\site-packages\\tensorflow\\python\\util\\traceback_utils.py:150\u001b[0m, in \u001b[0;36mfilter_traceback.<locals>.error_handler\u001b[1;34m(*args, **kwargs)\u001b[0m\n\u001b[0;32m    148\u001b[0m filtered_tb \u001b[38;5;241m=\u001b[39m \u001b[38;5;28;01mNone\u001b[39;00m\n\u001b[0;32m    149\u001b[0m \u001b[38;5;28;01mtry\u001b[39;00m:\n\u001b[1;32m--> 150\u001b[0m   \u001b[38;5;28;01mreturn\u001b[39;00m fn(\u001b[38;5;241m*\u001b[39margs, \u001b[38;5;241m*\u001b[39m\u001b[38;5;241m*\u001b[39mkwargs)\n\u001b[0;32m    151\u001b[0m \u001b[38;5;28;01mexcept\u001b[39;00m \u001b[38;5;167;01mException\u001b[39;00m \u001b[38;5;28;01mas\u001b[39;00m e:\n\u001b[0;32m    152\u001b[0m   filtered_tb \u001b[38;5;241m=\u001b[39m _process_traceback_frames(e\u001b[38;5;241m.\u001b[39m__traceback__)\n",
      "File \u001b[1;32m~\\Anaconda3\\envs\\SER\\lib\\site-packages\\tensorflow\\python\\eager\\def_function.py:915\u001b[0m, in \u001b[0;36mFunction.__call__\u001b[1;34m(self, *args, **kwds)\u001b[0m\n\u001b[0;32m    912\u001b[0m compiler \u001b[38;5;241m=\u001b[39m \u001b[38;5;124m\"\u001b[39m\u001b[38;5;124mxla\u001b[39m\u001b[38;5;124m\"\u001b[39m \u001b[38;5;28;01mif\u001b[39;00m \u001b[38;5;28mself\u001b[39m\u001b[38;5;241m.\u001b[39m_jit_compile \u001b[38;5;28;01melse\u001b[39;00m \u001b[38;5;124m\"\u001b[39m\u001b[38;5;124mnonXla\u001b[39m\u001b[38;5;124m\"\u001b[39m\n\u001b[0;32m    914\u001b[0m \u001b[38;5;28;01mwith\u001b[39;00m OptionalXlaContext(\u001b[38;5;28mself\u001b[39m\u001b[38;5;241m.\u001b[39m_jit_compile):\n\u001b[1;32m--> 915\u001b[0m   result \u001b[38;5;241m=\u001b[39m \u001b[38;5;28mself\u001b[39m\u001b[38;5;241m.\u001b[39m_call(\u001b[38;5;241m*\u001b[39margs, \u001b[38;5;241m*\u001b[39m\u001b[38;5;241m*\u001b[39mkwds)\n\u001b[0;32m    917\u001b[0m new_tracing_count \u001b[38;5;241m=\u001b[39m \u001b[38;5;28mself\u001b[39m\u001b[38;5;241m.\u001b[39mexperimental_get_tracing_count()\n\u001b[0;32m    918\u001b[0m without_tracing \u001b[38;5;241m=\u001b[39m (tracing_count \u001b[38;5;241m==\u001b[39m new_tracing_count)\n",
      "File \u001b[1;32m~\\Anaconda3\\envs\\SER\\lib\\site-packages\\tensorflow\\python\\eager\\def_function.py:947\u001b[0m, in \u001b[0;36mFunction._call\u001b[1;34m(self, *args, **kwds)\u001b[0m\n\u001b[0;32m    944\u001b[0m   \u001b[38;5;28mself\u001b[39m\u001b[38;5;241m.\u001b[39m_lock\u001b[38;5;241m.\u001b[39mrelease()\n\u001b[0;32m    945\u001b[0m   \u001b[38;5;66;03m# In this case we have created variables on the first call, so we run the\u001b[39;00m\n\u001b[0;32m    946\u001b[0m   \u001b[38;5;66;03m# defunned version which is guaranteed to never create variables.\u001b[39;00m\n\u001b[1;32m--> 947\u001b[0m   \u001b[38;5;28;01mreturn\u001b[39;00m \u001b[38;5;28mself\u001b[39m\u001b[38;5;241m.\u001b[39m_stateless_fn(\u001b[38;5;241m*\u001b[39margs, \u001b[38;5;241m*\u001b[39m\u001b[38;5;241m*\u001b[39mkwds)  \u001b[38;5;66;03m# pylint: disable=not-callable\u001b[39;00m\n\u001b[0;32m    948\u001b[0m \u001b[38;5;28;01melif\u001b[39;00m \u001b[38;5;28mself\u001b[39m\u001b[38;5;241m.\u001b[39m_stateful_fn \u001b[38;5;129;01mis\u001b[39;00m \u001b[38;5;129;01mnot\u001b[39;00m \u001b[38;5;28;01mNone\u001b[39;00m:\n\u001b[0;32m    949\u001b[0m   \u001b[38;5;66;03m# Release the lock early so that multiple threads can perform the call\u001b[39;00m\n\u001b[0;32m    950\u001b[0m   \u001b[38;5;66;03m# in parallel.\u001b[39;00m\n\u001b[0;32m    951\u001b[0m   \u001b[38;5;28mself\u001b[39m\u001b[38;5;241m.\u001b[39m_lock\u001b[38;5;241m.\u001b[39mrelease()\n",
      "File \u001b[1;32m~\\Anaconda3\\envs\\SER\\lib\\site-packages\\tensorflow\\python\\eager\\function.py:2496\u001b[0m, in \u001b[0;36mFunction.__call__\u001b[1;34m(self, *args, **kwargs)\u001b[0m\n\u001b[0;32m   2493\u001b[0m \u001b[38;5;28;01mwith\u001b[39;00m \u001b[38;5;28mself\u001b[39m\u001b[38;5;241m.\u001b[39m_lock:\n\u001b[0;32m   2494\u001b[0m   (graph_function,\n\u001b[0;32m   2495\u001b[0m    filtered_flat_args) \u001b[38;5;241m=\u001b[39m \u001b[38;5;28mself\u001b[39m\u001b[38;5;241m.\u001b[39m_maybe_define_function(args, kwargs)\n\u001b[1;32m-> 2496\u001b[0m \u001b[38;5;28;01mreturn\u001b[39;00m \u001b[43mgraph_function\u001b[49m\u001b[38;5;241;43m.\u001b[39;49m\u001b[43m_call_flat\u001b[49m\u001b[43m(\u001b[49m\n\u001b[0;32m   2497\u001b[0m \u001b[43m    \u001b[49m\u001b[43mfiltered_flat_args\u001b[49m\u001b[43m,\u001b[49m\u001b[43m \u001b[49m\u001b[43mcaptured_inputs\u001b[49m\u001b[38;5;241;43m=\u001b[39;49m\u001b[43mgraph_function\u001b[49m\u001b[38;5;241;43m.\u001b[39;49m\u001b[43mcaptured_inputs\u001b[49m\u001b[43m)\u001b[49m\n",
      "File \u001b[1;32m~\\Anaconda3\\envs\\SER\\lib\\site-packages\\tensorflow\\python\\eager\\function.py:1862\u001b[0m, in \u001b[0;36mConcreteFunction._call_flat\u001b[1;34m(self, args, captured_inputs, cancellation_manager)\u001b[0m\n\u001b[0;32m   1858\u001b[0m possible_gradient_type \u001b[38;5;241m=\u001b[39m gradients_util\u001b[38;5;241m.\u001b[39mPossibleTapeGradientTypes(args)\n\u001b[0;32m   1859\u001b[0m \u001b[38;5;28;01mif\u001b[39;00m (possible_gradient_type \u001b[38;5;241m==\u001b[39m gradients_util\u001b[38;5;241m.\u001b[39mPOSSIBLE_GRADIENT_TYPES_NONE\n\u001b[0;32m   1860\u001b[0m     \u001b[38;5;129;01mand\u001b[39;00m executing_eagerly):\n\u001b[0;32m   1861\u001b[0m   \u001b[38;5;66;03m# No tape is watching; skip to running the function.\u001b[39;00m\n\u001b[1;32m-> 1862\u001b[0m   \u001b[38;5;28;01mreturn\u001b[39;00m \u001b[38;5;28mself\u001b[39m\u001b[38;5;241m.\u001b[39m_build_call_outputs(\u001b[38;5;28;43mself\u001b[39;49m\u001b[38;5;241;43m.\u001b[39;49m\u001b[43m_inference_function\u001b[49m\u001b[38;5;241;43m.\u001b[39;49m\u001b[43mcall\u001b[49m\u001b[43m(\u001b[49m\n\u001b[0;32m   1863\u001b[0m \u001b[43m      \u001b[49m\u001b[43mctx\u001b[49m\u001b[43m,\u001b[49m\u001b[43m \u001b[49m\u001b[43margs\u001b[49m\u001b[43m,\u001b[49m\u001b[43m \u001b[49m\u001b[43mcancellation_manager\u001b[49m\u001b[38;5;241;43m=\u001b[39;49m\u001b[43mcancellation_manager\u001b[49m\u001b[43m)\u001b[49m)\n\u001b[0;32m   1864\u001b[0m forward_backward \u001b[38;5;241m=\u001b[39m \u001b[38;5;28mself\u001b[39m\u001b[38;5;241m.\u001b[39m_select_forward_and_backward_functions(\n\u001b[0;32m   1865\u001b[0m     args,\n\u001b[0;32m   1866\u001b[0m     possible_gradient_type,\n\u001b[0;32m   1867\u001b[0m     executing_eagerly)\n\u001b[0;32m   1868\u001b[0m forward_function, args_with_tangents \u001b[38;5;241m=\u001b[39m forward_backward\u001b[38;5;241m.\u001b[39mforward()\n",
      "File \u001b[1;32m~\\Anaconda3\\envs\\SER\\lib\\site-packages\\tensorflow\\python\\eager\\function.py:499\u001b[0m, in \u001b[0;36m_EagerDefinedFunction.call\u001b[1;34m(self, ctx, args, cancellation_manager)\u001b[0m\n\u001b[0;32m    497\u001b[0m \u001b[38;5;28;01mwith\u001b[39;00m _InterpolateFunctionError(\u001b[38;5;28mself\u001b[39m):\n\u001b[0;32m    498\u001b[0m   \u001b[38;5;28;01mif\u001b[39;00m cancellation_manager \u001b[38;5;129;01mis\u001b[39;00m \u001b[38;5;28;01mNone\u001b[39;00m:\n\u001b[1;32m--> 499\u001b[0m     outputs \u001b[38;5;241m=\u001b[39m \u001b[43mexecute\u001b[49m\u001b[38;5;241;43m.\u001b[39;49m\u001b[43mexecute\u001b[49m\u001b[43m(\u001b[49m\n\u001b[0;32m    500\u001b[0m \u001b[43m        \u001b[49m\u001b[38;5;28;43mstr\u001b[39;49m\u001b[43m(\u001b[49m\u001b[38;5;28;43mself\u001b[39;49m\u001b[38;5;241;43m.\u001b[39;49m\u001b[43msignature\u001b[49m\u001b[38;5;241;43m.\u001b[39;49m\u001b[43mname\u001b[49m\u001b[43m)\u001b[49m\u001b[43m,\u001b[49m\n\u001b[0;32m    501\u001b[0m \u001b[43m        \u001b[49m\u001b[43mnum_outputs\u001b[49m\u001b[38;5;241;43m=\u001b[39;49m\u001b[38;5;28;43mself\u001b[39;49m\u001b[38;5;241;43m.\u001b[39;49m\u001b[43m_num_outputs\u001b[49m\u001b[43m,\u001b[49m\n\u001b[0;32m    502\u001b[0m \u001b[43m        \u001b[49m\u001b[43minputs\u001b[49m\u001b[38;5;241;43m=\u001b[39;49m\u001b[43margs\u001b[49m\u001b[43m,\u001b[49m\n\u001b[0;32m    503\u001b[0m \u001b[43m        \u001b[49m\u001b[43mattrs\u001b[49m\u001b[38;5;241;43m=\u001b[39;49m\u001b[43mattrs\u001b[49m\u001b[43m,\u001b[49m\n\u001b[0;32m    504\u001b[0m \u001b[43m        \u001b[49m\u001b[43mctx\u001b[49m\u001b[38;5;241;43m=\u001b[39;49m\u001b[43mctx\u001b[49m\u001b[43m)\u001b[49m\n\u001b[0;32m    505\u001b[0m   \u001b[38;5;28;01melse\u001b[39;00m:\n\u001b[0;32m    506\u001b[0m     outputs \u001b[38;5;241m=\u001b[39m execute\u001b[38;5;241m.\u001b[39mexecute_with_cancellation(\n\u001b[0;32m    507\u001b[0m         \u001b[38;5;28mstr\u001b[39m(\u001b[38;5;28mself\u001b[39m\u001b[38;5;241m.\u001b[39msignature\u001b[38;5;241m.\u001b[39mname),\n\u001b[0;32m    508\u001b[0m         num_outputs\u001b[38;5;241m=\u001b[39m\u001b[38;5;28mself\u001b[39m\u001b[38;5;241m.\u001b[39m_num_outputs,\n\u001b[1;32m   (...)\u001b[0m\n\u001b[0;32m    511\u001b[0m         ctx\u001b[38;5;241m=\u001b[39mctx,\n\u001b[0;32m    512\u001b[0m         cancellation_manager\u001b[38;5;241m=\u001b[39mcancellation_manager)\n",
      "File \u001b[1;32m~\\Anaconda3\\envs\\SER\\lib\\site-packages\\tensorflow\\python\\eager\\execute.py:54\u001b[0m, in \u001b[0;36mquick_execute\u001b[1;34m(op_name, num_outputs, inputs, attrs, ctx, name)\u001b[0m\n\u001b[0;32m     52\u001b[0m \u001b[38;5;28;01mtry\u001b[39;00m:\n\u001b[0;32m     53\u001b[0m   ctx\u001b[38;5;241m.\u001b[39mensure_initialized()\n\u001b[1;32m---> 54\u001b[0m   tensors \u001b[38;5;241m=\u001b[39m \u001b[43mpywrap_tfe\u001b[49m\u001b[38;5;241;43m.\u001b[39;49m\u001b[43mTFE_Py_Execute\u001b[49m\u001b[43m(\u001b[49m\u001b[43mctx\u001b[49m\u001b[38;5;241;43m.\u001b[39;49m\u001b[43m_handle\u001b[49m\u001b[43m,\u001b[49m\u001b[43m \u001b[49m\u001b[43mdevice_name\u001b[49m\u001b[43m,\u001b[49m\u001b[43m \u001b[49m\u001b[43mop_name\u001b[49m\u001b[43m,\u001b[49m\n\u001b[0;32m     55\u001b[0m \u001b[43m                                      \u001b[49m\u001b[43minputs\u001b[49m\u001b[43m,\u001b[49m\u001b[43m \u001b[49m\u001b[43mattrs\u001b[49m\u001b[43m,\u001b[49m\u001b[43m \u001b[49m\u001b[43mnum_outputs\u001b[49m\u001b[43m)\u001b[49m\n\u001b[0;32m     56\u001b[0m \u001b[38;5;28;01mexcept\u001b[39;00m core\u001b[38;5;241m.\u001b[39m_NotOkStatusException \u001b[38;5;28;01mas\u001b[39;00m e:\n\u001b[0;32m     57\u001b[0m   \u001b[38;5;28;01mif\u001b[39;00m name \u001b[38;5;129;01mis\u001b[39;00m \u001b[38;5;129;01mnot\u001b[39;00m \u001b[38;5;28;01mNone\u001b[39;00m:\n",
      "\u001b[1;31mKeyboardInterrupt\u001b[0m: "
     ]
    }
   ],
   "source": [
    "rlrp = ReduceLROnPlateau(monitor='loss', factor=0.4, verbose=0, patience=2, min_lr=0.0000001)\n",
    "history = model.fit(x_train, y_train, batch_size=64, epochs=50, validation_data=(x_test, y_test), callbacks=[rlrp])"
   ]
  },
  {
   "cell_type": "code",
   "execution_count": null,
   "id": "928f7953",
   "metadata": {},
   "outputs": [],
   "source": [
    "print(\"Accuracy of our model on test data : \" , model.evaluate(x_test,y_test)[1]*100 , \"%\")\n",
    "\n",
    "epochs = [i for i in range(50)]\n",
    "fig , ax = plt.subplots(1,2)\n",
    "train_acc = history.history['accuracy']\n",
    "train_loss = history.history['loss']\n",
    "test_acc = history.history['val_accuracy']\n",
    "test_loss = history.history['val_loss']\n",
    "\n",
    "fig.set_size_inches(20,6)\n",
    "ax[0].plot(epochs , train_loss , label = 'Training Loss')\n",
    "ax[0].plot(epochs , test_loss , label = 'Testing Loss')\n",
    "ax[0].set_title('Training & Testing Loss')\n",
    "ax[0].legend()\n",
    "ax[0].set_xlabel(\"Epochs\")\n",
    "\n",
    "ax[1].plot(epochs , train_acc , label = 'Training Accuracy')\n",
    "ax[1].plot(epochs , test_acc , label = 'Testing Accuracy')\n",
    "ax[1].set_title('Training & Testing Accuracy')\n",
    "ax[1].legend()\n",
    "ax[1].set_xlabel(\"Epochs\")\n",
    "plt.show()"
   ]
  },
  {
   "cell_type": "code",
   "execution_count": null,
   "id": "0b3c8129",
   "metadata": {},
   "outputs": [],
   "source": [
    "# predicting on test data.\n",
    "pred_test = model.predict(x_test)\n",
    "y_pred = encoder.inverse_transform(pred_test)\n",
    "\n",
    "y_test = encoder.inverse_transform(y_test)"
   ]
  },
  {
   "cell_type": "code",
   "execution_count": null,
   "id": "f60762c3",
   "metadata": {},
   "outputs": [],
   "source": [
    "df = pd.DataFrame(columns=['Predicted Labels', 'Actual Labels'])\n",
    "df['Predicted Labels'] = y_pred.flatten()\n",
    "df['Actual Labels'] = y_test.flatten()\n",
    "\n",
    "df.head(10)"
   ]
  },
  {
   "cell_type": "code",
   "execution_count": null,
   "id": "5c73488c",
   "metadata": {},
   "outputs": [],
   "source": [
    "cm = confusion_matrix(y_test, y_pred)\n",
    "plt.figure(figsize = (12, 10))\n",
    "cm = pd.DataFrame(cm , index = [i for i in encoder.categories_] , columns = [i for i in encoder.categories_])\n",
    "sns.heatmap(cm, linecolor='white', cmap='Blues', linewidth=1, annot=True, fmt='')\n",
    "plt.title('Confusion Matrix', size=20)\n",
    "plt.xlabel('Predicted Labels', size=14)\n",
    "plt.ylabel('Actual Labels', size=14)\n",
    "plt.show()"
   ]
  },
  {
   "cell_type": "code",
   "execution_count": null,
   "id": "7038f8ea",
   "metadata": {},
   "outputs": [],
   "source": [
    "print(classification_report(y_test, y_pred))"
   ]
  }
 ],
 "metadata": {
  "hide_input": false,
  "kernelspec": {
   "display_name": "SER",
   "language": "python",
   "name": "myenv"
  },
  "language_info": {
   "codemirror_mode": {
    "name": "ipython",
    "version": 3
   },
   "file_extension": ".py",
   "mimetype": "text/x-python",
   "name": "python",
   "nbconvert_exporter": "python",
   "pygments_lexer": "ipython3",
   "version": "3.9.16"
  },
  "toc": {
   "base_numbering": 1,
   "nav_menu": {},
   "number_sections": true,
   "sideBar": true,
   "skip_h1_title": false,
   "title_cell": "Table of Contents",
   "title_sidebar": "Contents",
   "toc_cell": false,
   "toc_position": {},
   "toc_section_display": true,
   "toc_window_display": false
  }
 },
 "nbformat": 4,
 "nbformat_minor": 5
}
