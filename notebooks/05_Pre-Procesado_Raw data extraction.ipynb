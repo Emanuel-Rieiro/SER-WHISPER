{
 "cells": [
  {
   "cell_type": "markdown",
   "id": "f2b4b5b3",
   "metadata": {},
   "source": [
    "#### Imports"
   ]
  },
  {
   "cell_type": "code",
   "execution_count": 1,
   "id": "1cfa604a",
   "metadata": {},
   "outputs": [],
   "source": [
    "# Nuestro path de inicio siempre debe ser el home dir, e\n",
    "import os\n",
    "os.chdir(os.path.abspath(\"..\"))\n",
    "\n",
    "# Imports\n",
    "import json\n",
    "import pandas as pd\n",
    "import stable_whisper\n",
    "import warnings\n",
    "from src.dataloaders import cargar_audio_data\n",
    "\n",
    "# ignoramos warnings\n",
    "warnings.filterwarnings('ignore')"
   ]
  },
  {
   "cell_type": "markdown",
   "id": "a87513f9",
   "metadata": {},
   "source": [
    "#### Files"
   ]
  },
  {
   "cell_type": "code",
   "execution_count": 2,
   "id": "358eacd9",
   "metadata": {},
   "outputs": [],
   "source": [
    "# Archivos importantes y paths\n",
    "df_annotations = pd.read_excel('data/annotations.xlsx')\n",
    "\n",
    "# Omitimos todos los audios en development\n",
    "df_annotations = df_annotations[df_annotations['Type'] != 'Development'].reset_index(drop = True)"
   ]
  },
  {
   "cell_type": "code",
   "execution_count": 3,
   "id": "683917ff",
   "metadata": {},
   "outputs": [
    {
     "data": {
      "text/plain": [
       "205"
      ]
     },
     "execution_count": 3,
     "metadata": {},
     "output_type": "execute_result"
    }
   ],
   "source": [
    "# Obtenemos el json con los intervalos\n",
    "with open('data/objetivos_por_voto_promedio_whisper.json', 'r') as f:\n",
    "    targets_mean_vote = json.load(f)\n",
    "    \n",
    "# Comprabamos seguimos teniendo los 244 audios\n",
    "len(targets_mean_vote.keys())"
   ]
  },
  {
   "cell_type": "markdown",
   "id": "7068c9af",
   "metadata": {},
   "source": [
    "#### Loop para extracción de data cruda de los audios"
   ]
  },
  {
   "cell_type": "code",
   "execution_count": 4,
   "id": "5c3f7f7a",
   "metadata": {},
   "outputs": [
    {
     "data": {
      "text/plain": [
       "205"
      ]
     },
     "execution_count": 4,
     "metadata": {},
     "output_type": "execute_result"
    }
   ],
   "source": [
    "# Audios que no estan en development\n",
    "lista_audios = df_annotations['Audio_Name'].unique()\n",
    "len(lista_audios)"
   ]
  },
  {
   "cell_type": "code",
   "execution_count": 5,
   "id": "8ff29e60",
   "metadata": {
    "scrolled": true
   },
   "outputs": [
    {
     "name": "stdout",
     "output_type": "stream",
     "text": [
      "Procesando MSP-Conversation_0021.wav\n",
      "MSP-Conversation_0021.wav procesado con éxito\n",
      "\n",
      "---------------------------------------------------------\n"
     ]
    }
   ],
   "source": [
    "for audio_name in lista_audios:\n",
    "    \n",
    "    print(f'Procesando {audio_name}')\n",
    "    data, time, sr = cargar_audio_data(df_annotations = df_annotations, audio_name = audio_name)\n",
    "    \n",
    "    assert len(data) == len(time)\n",
    "    \n",
    "    df_audio = pd.DataFrame(data = data, columns = ['Data'])\n",
    "    df_audio['Time'] = time\n",
    "    \n",
    "    x, y, z = [],[],[]\n",
    "    for inter, ind in zip(targets_mean_vote[audio_name]['rangos'], targets_mean_vote[audio_name]['indice']):\n",
    "        inicio = inter[0]\n",
    "        fin = inter[1]\n",
    "        x.append(tuple(df_audio[(df_audio['Time'] >= inicio) & (df_audio['Time'] <= fin)]['Data'].values.tolist()))\n",
    "        y.append((inicio,fin))\n",
    "        z.append(ind)\n",
    "        \n",
    "    df_audio = pd.DataFrame()\n",
    "    df_audio['Data'] = x\n",
    "    df_audio['Time'] = y\n",
    "    df_audio['Indice'] = z\n",
    "    \n",
    "    df_audio.to_csv(f'data/FEATURES/RAW/{audio_name}.csv', index = False)\n",
    "    print(f'{audio_name} procesado con éxito')\n",
    "    print('')\n",
    "    print('---------------------------------------------------------') \n",
    "    break"
   ]
  },
  {
   "cell_type": "code",
   "execution_count": 19,
   "id": "4c4d56a4",
   "metadata": {},
   "outputs": [],
   "source": [
    "asd = pd.DataFrame()"
   ]
  },
  {
   "cell_type": "code",
   "execution_count": 20,
   "id": "8ac3d0e3",
   "metadata": {},
   "outputs": [],
   "source": [
    "asd['a'] = x"
   ]
  },
  {
   "cell_type": "code",
   "execution_count": 21,
   "id": "d97923db",
   "metadata": {},
   "outputs": [
    {
     "data": {
      "text/html": [
       "<div>\n",
       "<style scoped>\n",
       "    .dataframe tbody tr th:only-of-type {\n",
       "        vertical-align: middle;\n",
       "    }\n",
       "\n",
       "    .dataframe tbody tr th {\n",
       "        vertical-align: top;\n",
       "    }\n",
       "\n",
       "    .dataframe thead th {\n",
       "        text-align: right;\n",
       "    }\n",
       "</style>\n",
       "<table border=\"1\" class=\"dataframe\">\n",
       "  <thead>\n",
       "    <tr style=\"text-align: right;\">\n",
       "      <th></th>\n",
       "      <th>a</th>\n",
       "    </tr>\n",
       "  </thead>\n",
       "  <tbody>\n",
       "    <tr>\n",
       "      <th>0</th>\n",
       "      <td>[1.4335335, 0.07602339, 0.7426901, 0.35589093,...</td>\n",
       "    </tr>\n",
       "    <tr>\n",
       "      <th>1</th>\n",
       "      <td>[1.4006708, 0.15309446, 0.81433225, 0.3753919,...</td>\n",
       "    </tr>\n",
       "  </tbody>\n",
       "</table>\n",
       "</div>"
      ],
      "text/plain": [
       "                                                   a\n",
       "0  [1.4335335, 0.07602339, 0.7426901, 0.35589093,...\n",
       "1  [1.4006708, 0.15309446, 0.81433225, 0.3753919,..."
      ]
     },
     "execution_count": 21,
     "metadata": {},
     "output_type": "execute_result"
    }
   ],
   "source": [
    "asd"
   ]
  }
 ],
 "metadata": {
  "hide_input": false,
  "kernelspec": {
   "display_name": "SER",
   "language": "python",
   "name": "myenv"
  },
  "language_info": {
   "codemirror_mode": {
    "name": "ipython",
    "version": 3
   },
   "file_extension": ".py",
   "mimetype": "text/x-python",
   "name": "python",
   "nbconvert_exporter": "python",
   "pygments_lexer": "ipython3",
   "version": "3.9.16"
  },
  "toc": {
   "base_numbering": 1,
   "nav_menu": {},
   "number_sections": true,
   "sideBar": true,
   "skip_h1_title": false,
   "title_cell": "Table of Contents",
   "title_sidebar": "Contents",
   "toc_cell": false,
   "toc_position": {},
   "toc_section_display": true,
   "toc_window_display": false
  }
 },
 "nbformat": 4,
 "nbformat_minor": 5
}
