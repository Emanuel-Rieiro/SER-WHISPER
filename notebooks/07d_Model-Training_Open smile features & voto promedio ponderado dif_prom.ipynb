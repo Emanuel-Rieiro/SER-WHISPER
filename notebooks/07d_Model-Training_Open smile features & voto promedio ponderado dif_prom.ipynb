{
 "cells": [
  {
   "cell_type": "code",
   "execution_count": 1,
   "id": "467b7c75",
   "metadata": {},
   "outputs": [],
   "source": [
    "# Mandatorio al inicio de cada notebook\n",
    "import os\n",
    "import warnings\n",
    "os.chdir(os.path.abspath(\"..\"))\n",
    "warnings.filterwarnings('ignore')\n",
    "\n",
    "import json\n",
    "import numpy as np\n",
    "import pandas as pd\n",
    "import matplotlib.pyplot as plt\n",
    "from src.traductores import obtener_emocion\n",
    "from sklearn.model_selection import train_test_split\n",
    "from sklearn.preprocessing import StandardScaler, OneHotEncoder"
   ]
  },
  {
   "cell_type": "code",
   "execution_count": 2,
   "id": "911c4fd0",
   "metadata": {},
   "outputs": [],
   "source": [
    "import keras\n",
    "from keras.callbacks import ReduceLROnPlateau\n",
    "from keras.models import Sequential\n",
    "from keras.layers import Dense, Conv1D, MaxPooling1D, Flatten, Dropout, BatchNormalization"
   ]
  },
  {
   "cell_type": "markdown",
   "id": "aaeb6dca",
   "metadata": {},
   "source": [
    "### Input Data"
   ]
  },
  {
   "cell_type": "code",
   "execution_count": 3,
   "id": "5b189e36",
   "metadata": {},
   "outputs": [],
   "source": [
    "df_input = pd.read_csv(f'data/FEATURES/OPENSMILE/opensmile_features_whisper.csv')"
   ]
  },
  {
   "cell_type": "code",
   "execution_count": 4,
   "id": "8e10b08f",
   "metadata": {},
   "outputs": [],
   "source": [
    "# Fix para la diferencia en como estan estos valores, debo arreglarlo a futuro en el archivo de features opensmile\n",
    "df_input['Time'] = df_input['Time'].str.replace('(','[').str.replace(')',']')"
   ]
  },
  {
   "cell_type": "markdown",
   "id": "3c6aa0f8",
   "metadata": {},
   "source": [
    "### Target Data"
   ]
  },
  {
   "cell_type": "code",
   "execution_count": 5,
   "id": "04514b13",
   "metadata": {},
   "outputs": [],
   "source": [
    "# Obtenemos el json con los intervalos\n",
    "with open('data/objetivos_por_voto_promedio_ponderado_dif_prom_whisper.json', 'r') as f:\n",
    "    targets_mean_vote = json.load(f)"
   ]
  },
  {
   "cell_type": "code",
   "execution_count": 6,
   "id": "8cccfdf6",
   "metadata": {},
   "outputs": [
    {
     "data": {
      "text/html": [
       "<div>\n",
       "<style scoped>\n",
       "    .dataframe tbody tr th:only-of-type {\n",
       "        vertical-align: middle;\n",
       "    }\n",
       "\n",
       "    .dataframe tbody tr th {\n",
       "        vertical-align: top;\n",
       "    }\n",
       "\n",
       "    .dataframe thead th {\n",
       "        text-align: right;\n",
       "    }\n",
       "</style>\n",
       "<table border=\"1\" class=\"dataframe\">\n",
       "  <thead>\n",
       "    <tr style=\"text-align: right;\">\n",
       "      <th></th>\n",
       "      <th>Time</th>\n",
       "      <th>Target</th>\n",
       "      <th>Indice</th>\n",
       "      <th>Audio_Name</th>\n",
       "    </tr>\n",
       "  </thead>\n",
       "  <tbody>\n",
       "    <tr>\n",
       "      <th>0</th>\n",
       "      <td>[3.46, 5.239999999999999]</td>\n",
       "      <td>[24.973597089507912, 29.81992896292113, 32.023...</td>\n",
       "      <td>1</td>\n",
       "      <td>MSP-Conversation_0021.wav</td>\n",
       "    </tr>\n",
       "    <tr>\n",
       "      <th>1</th>\n",
       "      <td>[5.22, 8.36]</td>\n",
       "      <td>[27.718414446269836, 32.56448428766099, 33.835...</td>\n",
       "      <td>2</td>\n",
       "      <td>MSP-Conversation_0021.wav</td>\n",
       "    </tr>\n",
       "    <tr>\n",
       "      <th>2</th>\n",
       "      <td>[8.26, 11.04]</td>\n",
       "      <td>[29.246473925530015, 38.943742011045956, 36.99...</td>\n",
       "      <td>3</td>\n",
       "      <td>MSP-Conversation_0021.wav</td>\n",
       "    </tr>\n",
       "    <tr>\n",
       "      <th>3</th>\n",
       "      <td>[11.32, 12.44]</td>\n",
       "      <td>[30.879216888589504, 35.565069972688455, 35.18...</td>\n",
       "      <td>4</td>\n",
       "      <td>MSP-Conversation_0021.wav</td>\n",
       "    </tr>\n",
       "    <tr>\n",
       "      <th>4</th>\n",
       "      <td>[13.48, 16.76]</td>\n",
       "      <td>[18.37389792163443, 14.073975312496339, 13.884...</td>\n",
       "      <td>5</td>\n",
       "      <td>MSP-Conversation_0021.wav</td>\n",
       "    </tr>\n",
       "  </tbody>\n",
       "</table>\n",
       "</div>"
      ],
      "text/plain": [
       "                        Time  \\\n",
       "0  [3.46, 5.239999999999999]   \n",
       "1               [5.22, 8.36]   \n",
       "2              [8.26, 11.04]   \n",
       "3             [11.32, 12.44]   \n",
       "4             [13.48, 16.76]   \n",
       "\n",
       "                                              Target  Indice  \\\n",
       "0  [24.973597089507912, 29.81992896292113, 32.023...       1   \n",
       "1  [27.718414446269836, 32.56448428766099, 33.835...       2   \n",
       "2  [29.246473925530015, 38.943742011045956, 36.99...       3   \n",
       "3  [30.879216888589504, 35.565069972688455, 35.18...       4   \n",
       "4  [18.37389792163443, 14.073975312496339, 13.884...       5   \n",
       "\n",
       "                  Audio_Name  \n",
       "0  MSP-Conversation_0021.wav  \n",
       "1  MSP-Conversation_0021.wav  \n",
       "2  MSP-Conversation_0021.wav  \n",
       "3  MSP-Conversation_0021.wav  \n",
       "4  MSP-Conversation_0021.wav  "
      ]
     },
     "execution_count": 6,
     "metadata": {},
     "output_type": "execute_result"
    }
   ],
   "source": [
    "# Loop principal para obtener los tiempos y target en pandas\n",
    "df_ranges = pd.DataFrame()\n",
    "\n",
    "for _key in targets_mean_vote.keys():\n",
    "\n",
    "    X = []\n",
    "    for segment, target, indice in zip(targets_mean_vote[_key]['rangos'], targets_mean_vote[_key]['targets'], targets_mean_vote[_key]['indice']):\n",
    "        x = []\n",
    "        x.append(segment)\n",
    "        x.append(target)\n",
    "        x.append(indice)\n",
    "        X.append(x)\n",
    "        \n",
    "    df = pd.DataFrame(X, columns = ['Time','Target','Indice'])\n",
    "    df['Audio_Name'] = _key\n",
    "    df_ranges = pd.concat([df_ranges, df], ignore_index = True)\n",
    "    \n",
    "df_ranges.head()"
   ]
  },
  {
   "cell_type": "code",
   "execution_count": 7,
   "id": "7271deb7",
   "metadata": {},
   "outputs": [
    {
     "name": "stdout",
     "output_type": "stream",
     "text": [
      "71378\n",
      "71378\n"
     ]
    }
   ],
   "source": [
    "print(len(df_input))\n",
    "print(len(df_ranges))"
   ]
  },
  {
   "cell_type": "code",
   "execution_count": 8,
   "id": "6141808d",
   "metadata": {},
   "outputs": [],
   "source": [
    "# Join para obtener dataset final\n",
    "df_ranges['Time'] = df_ranges['Time'].astype(str) \n",
    "df_final = pd.merge(df_input, df_ranges, how = 'inner', left_on = ['Indice','Audio_Name'], right_on = ['Indice','Audio_Name']).drop(['Time_x','Time_y'], axis = 1)"
   ]
  },
  {
   "cell_type": "code",
   "execution_count": 9,
   "id": "bd60bb91",
   "metadata": {},
   "outputs": [
    {
     "data": {
      "text/html": [
       "<div>\n",
       "<style scoped>\n",
       "    .dataframe tbody tr th:only-of-type {\n",
       "        vertical-align: middle;\n",
       "    }\n",
       "\n",
       "    .dataframe tbody tr th {\n",
       "        vertical-align: top;\n",
       "    }\n",
       "\n",
       "    .dataframe thead th {\n",
       "        text-align: right;\n",
       "    }\n",
       "</style>\n",
       "<table border=\"1\" class=\"dataframe\">\n",
       "  <thead>\n",
       "    <tr style=\"text-align: right;\">\n",
       "      <th></th>\n",
       "      <th>audspec_lengthL1norm_sma_range</th>\n",
       "      <th>audspec_lengthL1norm_sma_maxPos</th>\n",
       "      <th>audspec_lengthL1norm_sma_minPos</th>\n",
       "      <th>audspec_lengthL1norm_sma_quartile1</th>\n",
       "      <th>audspec_lengthL1norm_sma_quartile2</th>\n",
       "      <th>audspec_lengthL1norm_sma_quartile3</th>\n",
       "      <th>audspec_lengthL1norm_sma_iqr1-2</th>\n",
       "      <th>audspec_lengthL1norm_sma_iqr2-3</th>\n",
       "      <th>audspec_lengthL1norm_sma_iqr1-3</th>\n",
       "      <th>audspec_lengthL1norm_sma_percentile1.0</th>\n",
       "      <th>...</th>\n",
       "      <th>mfcc_sma_de[14]_peakMeanMeanDist</th>\n",
       "      <th>mfcc_sma_de[14]_peakMeanRel</th>\n",
       "      <th>mfcc_sma_de[14]_minRangeRel</th>\n",
       "      <th>mfcc_sma_de[14]_meanRisingSlope</th>\n",
       "      <th>mfcc_sma_de[14]_stddevRisingSlope</th>\n",
       "      <th>mfcc_sma_de[14]_meanFallingSlope</th>\n",
       "      <th>mfcc_sma_de[14]_stddevFallingSlope</th>\n",
       "      <th>Audio_Name</th>\n",
       "      <th>Indice</th>\n",
       "      <th>Target</th>\n",
       "    </tr>\n",
       "  </thead>\n",
       "  <tbody>\n",
       "    <tr>\n",
       "      <th>0</th>\n",
       "      <td>1.498477</td>\n",
       "      <td>0.000000</td>\n",
       "      <td>0.714286</td>\n",
       "      <td>0.485805</td>\n",
       "      <td>0.701391</td>\n",
       "      <td>0.962348</td>\n",
       "      <td>0.215586</td>\n",
       "      <td>0.260957</td>\n",
       "      <td>0.476543</td>\n",
       "      <td>0.362370</td>\n",
       "      <td>...</td>\n",
       "      <td>1.451927</td>\n",
       "      <td>-10.622149</td>\n",
       "      <td>0.404903</td>\n",
       "      <td>85.88666</td>\n",
       "      <td>25.218460</td>\n",
       "      <td>80.42445</td>\n",
       "      <td>24.244904</td>\n",
       "      <td>MSP-Conversation_2281.wav</td>\n",
       "      <td>1036</td>\n",
       "      <td>[0.38507418582563485, -38.10804615227783, -23....</td>\n",
       "    </tr>\n",
       "    <tr>\n",
       "      <th>1</th>\n",
       "      <td>1.990642</td>\n",
       "      <td>0.666667</td>\n",
       "      <td>0.384615</td>\n",
       "      <td>0.777784</td>\n",
       "      <td>1.016043</td>\n",
       "      <td>1.538328</td>\n",
       "      <td>0.238259</td>\n",
       "      <td>0.522285</td>\n",
       "      <td>0.760544</td>\n",
       "      <td>0.478745</td>\n",
       "      <td>...</td>\n",
       "      <td>3.538584</td>\n",
       "      <td>-18.395329</td>\n",
       "      <td>0.557455</td>\n",
       "      <td>135.92220</td>\n",
       "      <td>44.451454</td>\n",
       "      <td>133.16500</td>\n",
       "      <td>63.074097</td>\n",
       "      <td>MSP-Conversation_2281.wav</td>\n",
       "      <td>1035</td>\n",
       "      <td>[-13.851529702089854, -35.392547064232986, -29...</td>\n",
       "    </tr>\n",
       "    <tr>\n",
       "      <th>2</th>\n",
       "      <td>1.419202</td>\n",
       "      <td>0.000000</td>\n",
       "      <td>0.277372</td>\n",
       "      <td>0.964727</td>\n",
       "      <td>1.079281</td>\n",
       "      <td>1.391491</td>\n",
       "      <td>0.114554</td>\n",
       "      <td>0.312210</td>\n",
       "      <td>0.426764</td>\n",
       "      <td>0.466527</td>\n",
       "      <td>...</td>\n",
       "      <td>3.402330</td>\n",
       "      <td>19.986610</td>\n",
       "      <td>0.568858</td>\n",
       "      <td>145.35555</td>\n",
       "      <td>85.942510</td>\n",
       "      <td>81.72596</td>\n",
       "      <td>75.727320</td>\n",
       "      <td>MSP-Conversation_2281.wav</td>\n",
       "      <td>1034</td>\n",
       "      <td>[-11.048639794848974, -31.955628456473036, -28...</td>\n",
       "    </tr>\n",
       "    <tr>\n",
       "      <th>3</th>\n",
       "      <td>1.209723</td>\n",
       "      <td>0.392157</td>\n",
       "      <td>0.993464</td>\n",
       "      <td>0.604566</td>\n",
       "      <td>0.765181</td>\n",
       "      <td>1.165415</td>\n",
       "      <td>0.160615</td>\n",
       "      <td>0.400234</td>\n",
       "      <td>0.560849</td>\n",
       "      <td>0.376036</td>\n",
       "      <td>...</td>\n",
       "      <td>3.636257</td>\n",
       "      <td>-12.235070</td>\n",
       "      <td>0.551213</td>\n",
       "      <td>133.98561</td>\n",
       "      <td>61.830128</td>\n",
       "      <td>160.21582</td>\n",
       "      <td>103.632210</td>\n",
       "      <td>MSP-Conversation_2281.wav</td>\n",
       "      <td>1033</td>\n",
       "      <td>[-5.682485733508904, -37.48848803351777, -28.5...</td>\n",
       "    </tr>\n",
       "    <tr>\n",
       "      <th>4</th>\n",
       "      <td>1.559967</td>\n",
       "      <td>0.259740</td>\n",
       "      <td>0.155844</td>\n",
       "      <td>0.705330</td>\n",
       "      <td>0.954492</td>\n",
       "      <td>1.326220</td>\n",
       "      <td>0.249163</td>\n",
       "      <td>0.371728</td>\n",
       "      <td>0.620890</td>\n",
       "      <td>0.255142</td>\n",
       "      <td>...</td>\n",
       "      <td>2.807891</td>\n",
       "      <td>9.537731</td>\n",
       "      <td>0.467584</td>\n",
       "      <td>138.58610</td>\n",
       "      <td>30.043957</td>\n",
       "      <td>88.29222</td>\n",
       "      <td>59.455185</td>\n",
       "      <td>MSP-Conversation_2281.wav</td>\n",
       "      <td>1032</td>\n",
       "      <td>[-10.625039888909019, -33.0283461123112, -39.4...</td>\n",
       "    </tr>\n",
       "  </tbody>\n",
       "</table>\n",
       "<p>5 rows × 6376 columns</p>\n",
       "</div>"
      ],
      "text/plain": [
       "   audspec_lengthL1norm_sma_range  audspec_lengthL1norm_sma_maxPos  \\\n",
       "0                        1.498477                         0.000000   \n",
       "1                        1.990642                         0.666667   \n",
       "2                        1.419202                         0.000000   \n",
       "3                        1.209723                         0.392157   \n",
       "4                        1.559967                         0.259740   \n",
       "\n",
       "   audspec_lengthL1norm_sma_minPos  audspec_lengthL1norm_sma_quartile1  \\\n",
       "0                         0.714286                            0.485805   \n",
       "1                         0.384615                            0.777784   \n",
       "2                         0.277372                            0.964727   \n",
       "3                         0.993464                            0.604566   \n",
       "4                         0.155844                            0.705330   \n",
       "\n",
       "   audspec_lengthL1norm_sma_quartile2  audspec_lengthL1norm_sma_quartile3  \\\n",
       "0                            0.701391                            0.962348   \n",
       "1                            1.016043                            1.538328   \n",
       "2                            1.079281                            1.391491   \n",
       "3                            0.765181                            1.165415   \n",
       "4                            0.954492                            1.326220   \n",
       "\n",
       "   audspec_lengthL1norm_sma_iqr1-2  audspec_lengthL1norm_sma_iqr2-3  \\\n",
       "0                         0.215586                         0.260957   \n",
       "1                         0.238259                         0.522285   \n",
       "2                         0.114554                         0.312210   \n",
       "3                         0.160615                         0.400234   \n",
       "4                         0.249163                         0.371728   \n",
       "\n",
       "   audspec_lengthL1norm_sma_iqr1-3  audspec_lengthL1norm_sma_percentile1.0  \\\n",
       "0                         0.476543                                0.362370   \n",
       "1                         0.760544                                0.478745   \n",
       "2                         0.426764                                0.466527   \n",
       "3                         0.560849                                0.376036   \n",
       "4                         0.620890                                0.255142   \n",
       "\n",
       "   ...  mfcc_sma_de[14]_peakMeanMeanDist  mfcc_sma_de[14]_peakMeanRel  \\\n",
       "0  ...                          1.451927                   -10.622149   \n",
       "1  ...                          3.538584                   -18.395329   \n",
       "2  ...                          3.402330                    19.986610   \n",
       "3  ...                          3.636257                   -12.235070   \n",
       "4  ...                          2.807891                     9.537731   \n",
       "\n",
       "   mfcc_sma_de[14]_minRangeRel  mfcc_sma_de[14]_meanRisingSlope  \\\n",
       "0                     0.404903                         85.88666   \n",
       "1                     0.557455                        135.92220   \n",
       "2                     0.568858                        145.35555   \n",
       "3                     0.551213                        133.98561   \n",
       "4                     0.467584                        138.58610   \n",
       "\n",
       "   mfcc_sma_de[14]_stddevRisingSlope  mfcc_sma_de[14]_meanFallingSlope  \\\n",
       "0                          25.218460                          80.42445   \n",
       "1                          44.451454                         133.16500   \n",
       "2                          85.942510                          81.72596   \n",
       "3                          61.830128                         160.21582   \n",
       "4                          30.043957                          88.29222   \n",
       "\n",
       "   mfcc_sma_de[14]_stddevFallingSlope                 Audio_Name  Indice  \\\n",
       "0                           24.244904  MSP-Conversation_2281.wav    1036   \n",
       "1                           63.074097  MSP-Conversation_2281.wav    1035   \n",
       "2                           75.727320  MSP-Conversation_2281.wav    1034   \n",
       "3                          103.632210  MSP-Conversation_2281.wav    1033   \n",
       "4                           59.455185  MSP-Conversation_2281.wav    1032   \n",
       "\n",
       "                                              Target  \n",
       "0  [0.38507418582563485, -38.10804615227783, -23....  \n",
       "1  [-13.851529702089854, -35.392547064232986, -29...  \n",
       "2  [-11.048639794848974, -31.955628456473036, -28...  \n",
       "3  [-5.682485733508904, -37.48848803351777, -28.5...  \n",
       "4  [-10.625039888909019, -33.0283461123112, -39.4...  \n",
       "\n",
       "[5 rows x 6376 columns]"
      ]
     },
     "execution_count": 9,
     "metadata": {},
     "output_type": "execute_result"
    }
   ],
   "source": [
    "df_final.head()"
   ]
  },
  {
   "cell_type": "markdown",
   "id": "13d603a6",
   "metadata": {},
   "source": [
    "### Remover Duplicados"
   ]
  },
  {
   "cell_type": "code",
   "execution_count": 10,
   "id": "5e73bc80",
   "metadata": {
    "scrolled": true
   },
   "outputs": [
    {
     "name": "stdout",
     "output_type": "stream",
     "text": [
      "Antes 73624\n",
      "Despues 70255\n"
     ]
    }
   ],
   "source": [
    "print('Antes', len(df_final))\n",
    "df_final['Duplicated'] = df_final['Indice'].astype(str) + df_final['Audio_Name']\n",
    "df_final = df_final.drop_duplicates(subset = 'Duplicated')\n",
    "df_final = df_final.drop('Duplicated', axis = 1)\n",
    "print('Despues', len(df_final))"
   ]
  },
  {
   "cell_type": "markdown",
   "id": "c006dad5",
   "metadata": {},
   "source": [
    "### Votación"
   ]
  },
  {
   "cell_type": "code",
   "execution_count": 11,
   "id": "06bc2ff1",
   "metadata": {},
   "outputs": [],
   "source": [
    "df_final['Categorico'] = [obtener_emocion(i[0],i[1],i[2],'Ekman') for i in df_final['Target']]"
   ]
  },
  {
   "cell_type": "markdown",
   "id": "07c18cdd",
   "metadata": {},
   "source": [
    "### Sacar nulos"
   ]
  },
  {
   "cell_type": "code",
   "execution_count": 12,
   "id": "40c3c080",
   "metadata": {},
   "outputs": [
    {
     "name": "stdout",
     "output_type": "stream",
     "text": [
      "audspec_lengthL1norm_sma_range           0\n",
      "audspec_lengthL1norm_sma_maxPos          0\n",
      "audspec_lengthL1norm_sma_minPos          0\n",
      "audspec_lengthL1norm_sma_quartile1       0\n",
      "audspec_lengthL1norm_sma_quartile2       0\n",
      "                                      ... \n",
      "mfcc_sma_de[14]_stddevFallingSlope       0\n",
      "Audio_Name                               0\n",
      "Indice                                   0\n",
      "Target                                   0\n",
      "Categorico                            1121\n",
      "Length: 6377, dtype: int64\n",
      "audspec_lengthL1norm_sma_range        0\n",
      "audspec_lengthL1norm_sma_maxPos       0\n",
      "audspec_lengthL1norm_sma_minPos       0\n",
      "audspec_lengthL1norm_sma_quartile1    0\n",
      "audspec_lengthL1norm_sma_quartile2    0\n",
      "                                     ..\n",
      "mfcc_sma_de[14]_stddevFallingSlope    0\n",
      "Audio_Name                            0\n",
      "Indice                                0\n",
      "Target                                0\n",
      "Categorico                            0\n",
      "Length: 6377, dtype: int64\n"
     ]
    }
   ],
   "source": [
    "print(df_final.isna().sum())\n",
    "\n",
    "df_final = df_final[~df_final['Categorico'].isna()]\n",
    "df_final = df_final[~df_final['audspec_lengthL1norm_sma_range'].isna()]\n",
    "\n",
    "print(df_final.isna().sum())"
   ]
  },
  {
   "cell_type": "markdown",
   "id": "c8f0269e",
   "metadata": {},
   "source": [
    "### Pre procesamiento"
   ]
  },
  {
   "cell_type": "markdown",
   "id": "0300615e",
   "metadata": {},
   "source": [
    "#### Distribución de la data"
   ]
  },
  {
   "cell_type": "code",
   "execution_count": 13,
   "id": "bd32f4bf",
   "metadata": {
    "scrolled": true
   },
   "outputs": [],
   "source": [
    "df_count = df_final.groupby('Categorico').count().reset_index()[['Categorico','audspec_lengthL1norm_sma_range']].rename({'audspec_lengthL1norm_sma_range':'Count'}, axis = 1)"
   ]
  },
  {
   "cell_type": "code",
   "execution_count": 14,
   "id": "b7e65555",
   "metadata": {},
   "outputs": [
    {
     "data": {
      "text/html": [
       "<div>\n",
       "<style scoped>\n",
       "    .dataframe tbody tr th:only-of-type {\n",
       "        vertical-align: middle;\n",
       "    }\n",
       "\n",
       "    .dataframe tbody tr th {\n",
       "        vertical-align: top;\n",
       "    }\n",
       "\n",
       "    .dataframe thead th {\n",
       "        text-align: right;\n",
       "    }\n",
       "</style>\n",
       "<table border=\"1\" class=\"dataframe\">\n",
       "  <thead>\n",
       "    <tr style=\"text-align: right;\">\n",
       "      <th></th>\n",
       "      <th>Categorico</th>\n",
       "      <th>Count</th>\n",
       "    </tr>\n",
       "  </thead>\n",
       "  <tbody>\n",
       "    <tr>\n",
       "      <th>0</th>\n",
       "      <td>anger</td>\n",
       "      <td>1488</td>\n",
       "    </tr>\n",
       "    <tr>\n",
       "      <th>1</th>\n",
       "      <td>disgust</td>\n",
       "      <td>337</td>\n",
       "    </tr>\n",
       "    <tr>\n",
       "      <th>2</th>\n",
       "      <td>joy</td>\n",
       "      <td>1395</td>\n",
       "    </tr>\n",
       "    <tr>\n",
       "      <th>3</th>\n",
       "      <td>neutral</td>\n",
       "      <td>64907</td>\n",
       "    </tr>\n",
       "    <tr>\n",
       "      <th>4</th>\n",
       "      <td>sadness</td>\n",
       "      <td>318</td>\n",
       "    </tr>\n",
       "    <tr>\n",
       "      <th>5</th>\n",
       "      <td>surprise</td>\n",
       "      <td>689</td>\n",
       "    </tr>\n",
       "  </tbody>\n",
       "</table>\n",
       "</div>"
      ],
      "text/plain": [
       "  Categorico  Count\n",
       "0      anger   1488\n",
       "1    disgust    337\n",
       "2        joy   1395\n",
       "3    neutral  64907\n",
       "4    sadness    318\n",
       "5   surprise    689"
      ]
     },
     "execution_count": 14,
     "metadata": {},
     "output_type": "execute_result"
    }
   ],
   "source": [
    "df_count"
   ]
  },
  {
   "cell_type": "markdown",
   "id": "69cfa5cc",
   "metadata": {},
   "source": [
    "Por ahora solo voy a forzar valores, pero hay mejores formas de arreglar esto"
   ]
  },
  {
   "cell_type": "code",
   "execution_count": 15,
   "id": "94e8bc57",
   "metadata": {},
   "outputs": [],
   "source": [
    "df_joy = df_final[df_final['Categorico'] == 'joy'].sample(n = 689)\n",
    "df_surprise = df_final[df_final['Categorico'] == 'surprise'].sample(n = 689)\n",
    "#df_disgust = df_final[df_final['Categorico'] == 'disgust'].sample(n = 689)\n",
    "df_anger = df_final[df_final['Categorico'] == 'anger'].sample(n = 689)\n",
    "df_neutral = df_final[df_final['Categorico'] == 'neutral'].sample(n = 689)"
   ]
  },
  {
   "cell_type": "code",
   "execution_count": 16,
   "id": "fb4a3d92",
   "metadata": {},
   "outputs": [],
   "source": [
    "df_final_balanced = pd.concat([df_joy, df_surprise, df_neutral, df_anger], ignore_index = True)"
   ]
  },
  {
   "cell_type": "code",
   "execution_count": 17,
   "id": "52895c71",
   "metadata": {},
   "outputs": [
    {
     "data": {
      "text/html": [
       "<div>\n",
       "<style scoped>\n",
       "    .dataframe tbody tr th:only-of-type {\n",
       "        vertical-align: middle;\n",
       "    }\n",
       "\n",
       "    .dataframe tbody tr th {\n",
       "        vertical-align: top;\n",
       "    }\n",
       "\n",
       "    .dataframe thead th {\n",
       "        text-align: right;\n",
       "    }\n",
       "</style>\n",
       "<table border=\"1\" class=\"dataframe\">\n",
       "  <thead>\n",
       "    <tr style=\"text-align: right;\">\n",
       "      <th></th>\n",
       "      <th>Categorico</th>\n",
       "      <th>Count</th>\n",
       "    </tr>\n",
       "  </thead>\n",
       "  <tbody>\n",
       "    <tr>\n",
       "      <th>0</th>\n",
       "      <td>anger</td>\n",
       "      <td>689</td>\n",
       "    </tr>\n",
       "    <tr>\n",
       "      <th>1</th>\n",
       "      <td>joy</td>\n",
       "      <td>689</td>\n",
       "    </tr>\n",
       "    <tr>\n",
       "      <th>2</th>\n",
       "      <td>neutral</td>\n",
       "      <td>689</td>\n",
       "    </tr>\n",
       "    <tr>\n",
       "      <th>3</th>\n",
       "      <td>surprise</td>\n",
       "      <td>689</td>\n",
       "    </tr>\n",
       "  </tbody>\n",
       "</table>\n",
       "</div>"
      ],
      "text/plain": [
       "  Categorico  Count\n",
       "0      anger    689\n",
       "1        joy    689\n",
       "2    neutral    689\n",
       "3   surprise    689"
      ]
     },
     "execution_count": 17,
     "metadata": {},
     "output_type": "execute_result"
    }
   ],
   "source": [
    "df_final_balanced.groupby('Categorico').count().reset_index()[['Categorico','audspec_lengthL1norm_sma_range']].rename({'audspec_lengthL1norm_sma_range':'Count'}, axis = 1)"
   ]
  },
  {
   "cell_type": "markdown",
   "id": "564efd8d",
   "metadata": {},
   "source": [
    "#### Split"
   ]
  },
  {
   "cell_type": "code",
   "execution_count": 18,
   "id": "fe40196e",
   "metadata": {},
   "outputs": [],
   "source": [
    "X = df_final_balanced.iloc[:,:-4].values\n",
    "Y = df_final_balanced['Categorico'].values"
   ]
  },
  {
   "cell_type": "code",
   "execution_count": 19,
   "id": "96627402",
   "metadata": {},
   "outputs": [],
   "source": [
    "# Encoder de las emociones\n",
    "encoder = OneHotEncoder()\n",
    "Y = encoder.fit_transform(np.array(Y).reshape(-1,1)).toarray()"
   ]
  },
  {
   "cell_type": "code",
   "execution_count": 20,
   "id": "621299aa",
   "metadata": {},
   "outputs": [
    {
     "data": {
      "text/plain": [
       "((2067, 6373), (2067, 4), (689, 6373), (689, 4))"
      ]
     },
     "execution_count": 20,
     "metadata": {},
     "output_type": "execute_result"
    }
   ],
   "source": [
    "# split de la data\n",
    "x_train, x_test, y_train, y_test = train_test_split(X, Y, random_state=0, shuffle=True)\n",
    "x_train.shape, y_train.shape, x_test.shape, y_test.shape"
   ]
  },
  {
   "cell_type": "code",
   "execution_count": 21,
   "id": "7a5272b5",
   "metadata": {},
   "outputs": [
    {
     "data": {
      "text/plain": [
       "((2067, 6373), (2067, 4), (689, 6373), (689, 4))"
      ]
     },
     "execution_count": 21,
     "metadata": {},
     "output_type": "execute_result"
    }
   ],
   "source": [
    "scaler = StandardScaler()\n",
    "x_train = scaler.fit_transform(x_train)\n",
    "x_test = scaler.transform(x_test)\n",
    "x_train.shape, y_train.shape, x_test.shape, y_test.shape"
   ]
  },
  {
   "cell_type": "code",
   "execution_count": 22,
   "id": "fa12e155",
   "metadata": {},
   "outputs": [
    {
     "data": {
      "text/plain": [
       "((2067, 6373, 1), (2067, 4), (689, 6373, 1), (689, 4))"
      ]
     },
     "execution_count": 22,
     "metadata": {},
     "output_type": "execute_result"
    }
   ],
   "source": [
    "x_train = np.expand_dims(x_train, axis=2)\n",
    "x_test = np.expand_dims(x_test, axis=2)\n",
    "x_train.shape, y_train.shape, x_test.shape, y_test.shape"
   ]
  },
  {
   "cell_type": "code",
   "execution_count": 23,
   "id": "67019895",
   "metadata": {
    "scrolled": false
   },
   "outputs": [
    {
     "name": "stdout",
     "output_type": "stream",
     "text": [
      "Model: \"sequential\"\n",
      "_________________________________________________________________\n",
      " Layer (type)                Output Shape              Param #   \n",
      "=================================================================\n",
      " conv1d (Conv1D)             (None, 6373, 256)         1536      \n",
      "                                                                 \n",
      " max_pooling1d (MaxPooling1D  (None, 3187, 256)        0         \n",
      " )                                                               \n",
      "                                                                 \n",
      " conv1d_1 (Conv1D)           (None, 3187, 256)         327936    \n",
      "                                                                 \n",
      " max_pooling1d_1 (MaxPooling  (None, 1594, 256)        0         \n",
      " 1D)                                                             \n",
      "                                                                 \n",
      " conv1d_2 (Conv1D)           (None, 1594, 128)         163968    \n",
      "                                                                 \n",
      " max_pooling1d_2 (MaxPooling  (None, 797, 128)         0         \n",
      " 1D)                                                             \n",
      "                                                                 \n",
      " dropout (Dropout)           (None, 797, 128)          0         \n",
      "                                                                 \n",
      " conv1d_3 (Conv1D)           (None, 797, 64)           41024     \n",
      "                                                                 \n",
      " max_pooling1d_3 (MaxPooling  (None, 399, 64)          0         \n",
      " 1D)                                                             \n",
      "                                                                 \n",
      " flatten (Flatten)           (None, 25536)             0         \n",
      "                                                                 \n",
      " dense (Dense)               (None, 32)                817184    \n",
      "                                                                 \n",
      " dropout_1 (Dropout)         (None, 32)                0         \n",
      "                                                                 \n",
      " dense_1 (Dense)             (None, 4)                 132       \n",
      "                                                                 \n",
      "=================================================================\n",
      "Total params: 1,351,780\n",
      "Trainable params: 1,351,780\n",
      "Non-trainable params: 0\n",
      "_________________________________________________________________\n"
     ]
    }
   ],
   "source": [
    "model=Sequential()\n",
    "model.add(Conv1D(256, kernel_size=5, strides=1, padding='same', activation='relu', input_shape=(x_train.shape[1], 1)))\n",
    "model.add(MaxPooling1D(pool_size=5, strides = 2, padding = 'same'))\n",
    "\n",
    "model.add(Conv1D(256, kernel_size=5, strides=1, padding='same', activation='relu'))\n",
    "model.add(MaxPooling1D(pool_size=5, strides = 2, padding = 'same'))\n",
    "\n",
    "model.add(Conv1D(128, kernel_size=5, strides=1, padding='same', activation='relu'))\n",
    "model.add(MaxPooling1D(pool_size=5, strides = 2, padding = 'same'))\n",
    "model.add(Dropout(0.2))\n",
    "\n",
    "model.add(Conv1D(64, kernel_size=5, strides=1, padding='same', activation='relu'))\n",
    "model.add(MaxPooling1D(pool_size=5, strides = 2, padding = 'same'))\n",
    "\n",
    "model.add(Flatten())\n",
    "model.add(Dense(units=32, activation='relu'))\n",
    "model.add(Dropout(0.3))\n",
    "\n",
    "model.add(Dense(units=len(df_final_balanced['Categorico'].unique()), activation='softmax'))\n",
    "model.compile(optimizer = 'adam' , loss = 'categorical_crossentropy' , metrics = ['accuracy'])\n",
    "\n",
    "model.summary()"
   ]
  },
  {
   "cell_type": "code",
   "execution_count": 24,
   "id": "61700f1c",
   "metadata": {
    "scrolled": false
   },
   "outputs": [
    {
     "name": "stdout",
     "output_type": "stream",
     "text": [
      "Epoch 1/50\n",
      "33/33 [==============================] - 79s 2s/step - loss: 1.5413 - accuracy: 0.2608 - val_loss: 1.3857 - val_accuracy: 0.2583 - lr: 0.0010\n",
      "Epoch 2/50\n",
      "33/33 [==============================] - 77s 2s/step - loss: 1.3863 - accuracy: 0.2487 - val_loss: 1.3846 - val_accuracy: 0.2656 - lr: 0.0010\n",
      "Epoch 3/50\n",
      "33/33 [==============================] - 76s 2s/step - loss: 1.3863 - accuracy: 0.2579 - val_loss: 1.3851 - val_accuracy: 0.2656 - lr: 0.0010\n",
      "Epoch 4/50\n",
      "33/33 [==============================] - 75s 2s/step - loss: 1.3862 - accuracy: 0.2579 - val_loss: 1.3852 - val_accuracy: 0.2627 - lr: 0.0010\n",
      "Epoch 5/50\n",
      "33/33 [==============================] - 77s 2s/step - loss: 1.3863 - accuracy: 0.2569 - val_loss: 1.3887 - val_accuracy: 0.2264 - lr: 4.0000e-04\n",
      "Epoch 6/50\n",
      "33/33 [==============================] - 76s 2s/step - loss: 1.3862 - accuracy: 0.2579 - val_loss: 1.3887 - val_accuracy: 0.2264 - lr: 4.0000e-04\n",
      "Epoch 7/50\n",
      "33/33 [==============================] - 76s 2s/step - loss: 1.3858 - accuracy: 0.2579 - val_loss: 1.3928 - val_accuracy: 0.2264 - lr: 4.0000e-04\n",
      "Epoch 8/50\n",
      "33/33 [==============================] - 76s 2s/step - loss: 1.3860 - accuracy: 0.2612 - val_loss: 1.3983 - val_accuracy: 0.2685 - lr: 4.0000e-04\n",
      "Epoch 9/50\n",
      "33/33 [==============================] - 75s 2s/step - loss: 1.3882 - accuracy: 0.2511 - val_loss: 1.3881 - val_accuracy: 0.2453 - lr: 4.0000e-04\n",
      "Epoch 10/50\n",
      "33/33 [==============================] - 79s 2s/step - loss: 1.3844 - accuracy: 0.2656 - val_loss: 1.3936 - val_accuracy: 0.2395 - lr: 1.6000e-04\n",
      "Epoch 11/50\n",
      "21/33 [==================>...........] - ETA: 27s - loss: 1.3871 - accuracy: 0.2604"
     ]
    },
    {
     "ename": "KeyboardInterrupt",
     "evalue": "",
     "output_type": "error",
     "traceback": [
      "\u001b[1;31m---------------------------------------------------------------------------\u001b[0m",
      "\u001b[1;31mKeyboardInterrupt\u001b[0m                         Traceback (most recent call last)",
      "Cell \u001b[1;32mIn[24], line 2\u001b[0m\n\u001b[0;32m      1\u001b[0m rlrp \u001b[38;5;241m=\u001b[39m ReduceLROnPlateau(monitor\u001b[38;5;241m=\u001b[39m\u001b[38;5;124m'\u001b[39m\u001b[38;5;124mloss\u001b[39m\u001b[38;5;124m'\u001b[39m, factor\u001b[38;5;241m=\u001b[39m\u001b[38;5;241m0.4\u001b[39m, verbose\u001b[38;5;241m=\u001b[39m\u001b[38;5;241m0\u001b[39m, patience\u001b[38;5;241m=\u001b[39m\u001b[38;5;241m2\u001b[39m, min_lr\u001b[38;5;241m=\u001b[39m\u001b[38;5;241m0.0000001\u001b[39m)\n\u001b[1;32m----> 2\u001b[0m history \u001b[38;5;241m=\u001b[39m \u001b[43mmodel\u001b[49m\u001b[38;5;241;43m.\u001b[39;49m\u001b[43mfit\u001b[49m\u001b[43m(\u001b[49m\u001b[43mx_train\u001b[49m\u001b[43m,\u001b[49m\u001b[43m \u001b[49m\u001b[43my_train\u001b[49m\u001b[43m,\u001b[49m\u001b[43m \u001b[49m\u001b[43mbatch_size\u001b[49m\u001b[38;5;241;43m=\u001b[39;49m\u001b[38;5;241;43m64\u001b[39;49m\u001b[43m,\u001b[49m\u001b[43m \u001b[49m\u001b[43mepochs\u001b[49m\u001b[38;5;241;43m=\u001b[39;49m\u001b[38;5;241;43m50\u001b[39;49m\u001b[43m,\u001b[49m\u001b[43m \u001b[49m\u001b[43mvalidation_data\u001b[49m\u001b[38;5;241;43m=\u001b[39;49m\u001b[43m(\u001b[49m\u001b[43mx_test\u001b[49m\u001b[43m,\u001b[49m\u001b[43m \u001b[49m\u001b[43my_test\u001b[49m\u001b[43m)\u001b[49m\u001b[43m,\u001b[49m\u001b[43m \u001b[49m\u001b[43mcallbacks\u001b[49m\u001b[38;5;241;43m=\u001b[39;49m\u001b[43m[\u001b[49m\u001b[43mrlrp\u001b[49m\u001b[43m]\u001b[49m\u001b[43m)\u001b[49m\n",
      "File \u001b[1;32m~\\Anaconda3\\envs\\SER\\lib\\site-packages\\keras\\utils\\traceback_utils.py:65\u001b[0m, in \u001b[0;36mfilter_traceback.<locals>.error_handler\u001b[1;34m(*args, **kwargs)\u001b[0m\n\u001b[0;32m     63\u001b[0m filtered_tb \u001b[38;5;241m=\u001b[39m \u001b[38;5;28;01mNone\u001b[39;00m\n\u001b[0;32m     64\u001b[0m \u001b[38;5;28;01mtry\u001b[39;00m:\n\u001b[1;32m---> 65\u001b[0m     \u001b[38;5;28;01mreturn\u001b[39;00m fn(\u001b[38;5;241m*\u001b[39margs, \u001b[38;5;241m*\u001b[39m\u001b[38;5;241m*\u001b[39mkwargs)\n\u001b[0;32m     66\u001b[0m \u001b[38;5;28;01mexcept\u001b[39;00m \u001b[38;5;167;01mException\u001b[39;00m \u001b[38;5;28;01mas\u001b[39;00m e:\n\u001b[0;32m     67\u001b[0m     filtered_tb \u001b[38;5;241m=\u001b[39m _process_traceback_frames(e\u001b[38;5;241m.\u001b[39m__traceback__)\n",
      "File \u001b[1;32m~\\Anaconda3\\envs\\SER\\lib\\site-packages\\keras\\engine\\training.py:1564\u001b[0m, in \u001b[0;36mModel.fit\u001b[1;34m(self, x, y, batch_size, epochs, verbose, callbacks, validation_split, validation_data, shuffle, class_weight, sample_weight, initial_epoch, steps_per_epoch, validation_steps, validation_batch_size, validation_freq, max_queue_size, workers, use_multiprocessing)\u001b[0m\n\u001b[0;32m   1556\u001b[0m \u001b[38;5;28;01mwith\u001b[39;00m tf\u001b[38;5;241m.\u001b[39mprofiler\u001b[38;5;241m.\u001b[39mexperimental\u001b[38;5;241m.\u001b[39mTrace(\n\u001b[0;32m   1557\u001b[0m     \u001b[38;5;124m\"\u001b[39m\u001b[38;5;124mtrain\u001b[39m\u001b[38;5;124m\"\u001b[39m,\n\u001b[0;32m   1558\u001b[0m     epoch_num\u001b[38;5;241m=\u001b[39mepoch,\n\u001b[1;32m   (...)\u001b[0m\n\u001b[0;32m   1561\u001b[0m     _r\u001b[38;5;241m=\u001b[39m\u001b[38;5;241m1\u001b[39m,\n\u001b[0;32m   1562\u001b[0m ):\n\u001b[0;32m   1563\u001b[0m     callbacks\u001b[38;5;241m.\u001b[39mon_train_batch_begin(step)\n\u001b[1;32m-> 1564\u001b[0m     tmp_logs \u001b[38;5;241m=\u001b[39m \u001b[38;5;28;43mself\u001b[39;49m\u001b[38;5;241;43m.\u001b[39;49m\u001b[43mtrain_function\u001b[49m\u001b[43m(\u001b[49m\u001b[43miterator\u001b[49m\u001b[43m)\u001b[49m\n\u001b[0;32m   1565\u001b[0m     \u001b[38;5;28;01mif\u001b[39;00m data_handler\u001b[38;5;241m.\u001b[39mshould_sync:\n\u001b[0;32m   1566\u001b[0m         context\u001b[38;5;241m.\u001b[39masync_wait()\n",
      "File \u001b[1;32m~\\Anaconda3\\envs\\SER\\lib\\site-packages\\tensorflow\\python\\util\\traceback_utils.py:150\u001b[0m, in \u001b[0;36mfilter_traceback.<locals>.error_handler\u001b[1;34m(*args, **kwargs)\u001b[0m\n\u001b[0;32m    148\u001b[0m filtered_tb \u001b[38;5;241m=\u001b[39m \u001b[38;5;28;01mNone\u001b[39;00m\n\u001b[0;32m    149\u001b[0m \u001b[38;5;28;01mtry\u001b[39;00m:\n\u001b[1;32m--> 150\u001b[0m   \u001b[38;5;28;01mreturn\u001b[39;00m fn(\u001b[38;5;241m*\u001b[39margs, \u001b[38;5;241m*\u001b[39m\u001b[38;5;241m*\u001b[39mkwargs)\n\u001b[0;32m    151\u001b[0m \u001b[38;5;28;01mexcept\u001b[39;00m \u001b[38;5;167;01mException\u001b[39;00m \u001b[38;5;28;01mas\u001b[39;00m e:\n\u001b[0;32m    152\u001b[0m   filtered_tb \u001b[38;5;241m=\u001b[39m _process_traceback_frames(e\u001b[38;5;241m.\u001b[39m__traceback__)\n",
      "File \u001b[1;32m~\\Anaconda3\\envs\\SER\\lib\\site-packages\\tensorflow\\python\\eager\\def_function.py:915\u001b[0m, in \u001b[0;36mFunction.__call__\u001b[1;34m(self, *args, **kwds)\u001b[0m\n\u001b[0;32m    912\u001b[0m compiler \u001b[38;5;241m=\u001b[39m \u001b[38;5;124m\"\u001b[39m\u001b[38;5;124mxla\u001b[39m\u001b[38;5;124m\"\u001b[39m \u001b[38;5;28;01mif\u001b[39;00m \u001b[38;5;28mself\u001b[39m\u001b[38;5;241m.\u001b[39m_jit_compile \u001b[38;5;28;01melse\u001b[39;00m \u001b[38;5;124m\"\u001b[39m\u001b[38;5;124mnonXla\u001b[39m\u001b[38;5;124m\"\u001b[39m\n\u001b[0;32m    914\u001b[0m \u001b[38;5;28;01mwith\u001b[39;00m OptionalXlaContext(\u001b[38;5;28mself\u001b[39m\u001b[38;5;241m.\u001b[39m_jit_compile):\n\u001b[1;32m--> 915\u001b[0m   result \u001b[38;5;241m=\u001b[39m \u001b[38;5;28mself\u001b[39m\u001b[38;5;241m.\u001b[39m_call(\u001b[38;5;241m*\u001b[39margs, \u001b[38;5;241m*\u001b[39m\u001b[38;5;241m*\u001b[39mkwds)\n\u001b[0;32m    917\u001b[0m new_tracing_count \u001b[38;5;241m=\u001b[39m \u001b[38;5;28mself\u001b[39m\u001b[38;5;241m.\u001b[39mexperimental_get_tracing_count()\n\u001b[0;32m    918\u001b[0m without_tracing \u001b[38;5;241m=\u001b[39m (tracing_count \u001b[38;5;241m==\u001b[39m new_tracing_count)\n",
      "File \u001b[1;32m~\\Anaconda3\\envs\\SER\\lib\\site-packages\\tensorflow\\python\\eager\\def_function.py:947\u001b[0m, in \u001b[0;36mFunction._call\u001b[1;34m(self, *args, **kwds)\u001b[0m\n\u001b[0;32m    944\u001b[0m   \u001b[38;5;28mself\u001b[39m\u001b[38;5;241m.\u001b[39m_lock\u001b[38;5;241m.\u001b[39mrelease()\n\u001b[0;32m    945\u001b[0m   \u001b[38;5;66;03m# In this case we have created variables on the first call, so we run the\u001b[39;00m\n\u001b[0;32m    946\u001b[0m   \u001b[38;5;66;03m# defunned version which is guaranteed to never create variables.\u001b[39;00m\n\u001b[1;32m--> 947\u001b[0m   \u001b[38;5;28;01mreturn\u001b[39;00m \u001b[38;5;28mself\u001b[39m\u001b[38;5;241m.\u001b[39m_stateless_fn(\u001b[38;5;241m*\u001b[39margs, \u001b[38;5;241m*\u001b[39m\u001b[38;5;241m*\u001b[39mkwds)  \u001b[38;5;66;03m# pylint: disable=not-callable\u001b[39;00m\n\u001b[0;32m    948\u001b[0m \u001b[38;5;28;01melif\u001b[39;00m \u001b[38;5;28mself\u001b[39m\u001b[38;5;241m.\u001b[39m_stateful_fn \u001b[38;5;129;01mis\u001b[39;00m \u001b[38;5;129;01mnot\u001b[39;00m \u001b[38;5;28;01mNone\u001b[39;00m:\n\u001b[0;32m    949\u001b[0m   \u001b[38;5;66;03m# Release the lock early so that multiple threads can perform the call\u001b[39;00m\n\u001b[0;32m    950\u001b[0m   \u001b[38;5;66;03m# in parallel.\u001b[39;00m\n\u001b[0;32m    951\u001b[0m   \u001b[38;5;28mself\u001b[39m\u001b[38;5;241m.\u001b[39m_lock\u001b[38;5;241m.\u001b[39mrelease()\n",
      "File \u001b[1;32m~\\Anaconda3\\envs\\SER\\lib\\site-packages\\tensorflow\\python\\eager\\function.py:2496\u001b[0m, in \u001b[0;36mFunction.__call__\u001b[1;34m(self, *args, **kwargs)\u001b[0m\n\u001b[0;32m   2493\u001b[0m \u001b[38;5;28;01mwith\u001b[39;00m \u001b[38;5;28mself\u001b[39m\u001b[38;5;241m.\u001b[39m_lock:\n\u001b[0;32m   2494\u001b[0m   (graph_function,\n\u001b[0;32m   2495\u001b[0m    filtered_flat_args) \u001b[38;5;241m=\u001b[39m \u001b[38;5;28mself\u001b[39m\u001b[38;5;241m.\u001b[39m_maybe_define_function(args, kwargs)\n\u001b[1;32m-> 2496\u001b[0m \u001b[38;5;28;01mreturn\u001b[39;00m \u001b[43mgraph_function\u001b[49m\u001b[38;5;241;43m.\u001b[39;49m\u001b[43m_call_flat\u001b[49m\u001b[43m(\u001b[49m\n\u001b[0;32m   2497\u001b[0m \u001b[43m    \u001b[49m\u001b[43mfiltered_flat_args\u001b[49m\u001b[43m,\u001b[49m\u001b[43m \u001b[49m\u001b[43mcaptured_inputs\u001b[49m\u001b[38;5;241;43m=\u001b[39;49m\u001b[43mgraph_function\u001b[49m\u001b[38;5;241;43m.\u001b[39;49m\u001b[43mcaptured_inputs\u001b[49m\u001b[43m)\u001b[49m\n",
      "File \u001b[1;32m~\\Anaconda3\\envs\\SER\\lib\\site-packages\\tensorflow\\python\\eager\\function.py:1862\u001b[0m, in \u001b[0;36mConcreteFunction._call_flat\u001b[1;34m(self, args, captured_inputs, cancellation_manager)\u001b[0m\n\u001b[0;32m   1858\u001b[0m possible_gradient_type \u001b[38;5;241m=\u001b[39m gradients_util\u001b[38;5;241m.\u001b[39mPossibleTapeGradientTypes(args)\n\u001b[0;32m   1859\u001b[0m \u001b[38;5;28;01mif\u001b[39;00m (possible_gradient_type \u001b[38;5;241m==\u001b[39m gradients_util\u001b[38;5;241m.\u001b[39mPOSSIBLE_GRADIENT_TYPES_NONE\n\u001b[0;32m   1860\u001b[0m     \u001b[38;5;129;01mand\u001b[39;00m executing_eagerly):\n\u001b[0;32m   1861\u001b[0m   \u001b[38;5;66;03m# No tape is watching; skip to running the function.\u001b[39;00m\n\u001b[1;32m-> 1862\u001b[0m   \u001b[38;5;28;01mreturn\u001b[39;00m \u001b[38;5;28mself\u001b[39m\u001b[38;5;241m.\u001b[39m_build_call_outputs(\u001b[38;5;28;43mself\u001b[39;49m\u001b[38;5;241;43m.\u001b[39;49m\u001b[43m_inference_function\u001b[49m\u001b[38;5;241;43m.\u001b[39;49m\u001b[43mcall\u001b[49m\u001b[43m(\u001b[49m\n\u001b[0;32m   1863\u001b[0m \u001b[43m      \u001b[49m\u001b[43mctx\u001b[49m\u001b[43m,\u001b[49m\u001b[43m \u001b[49m\u001b[43margs\u001b[49m\u001b[43m,\u001b[49m\u001b[43m \u001b[49m\u001b[43mcancellation_manager\u001b[49m\u001b[38;5;241;43m=\u001b[39;49m\u001b[43mcancellation_manager\u001b[49m\u001b[43m)\u001b[49m)\n\u001b[0;32m   1864\u001b[0m forward_backward \u001b[38;5;241m=\u001b[39m \u001b[38;5;28mself\u001b[39m\u001b[38;5;241m.\u001b[39m_select_forward_and_backward_functions(\n\u001b[0;32m   1865\u001b[0m     args,\n\u001b[0;32m   1866\u001b[0m     possible_gradient_type,\n\u001b[0;32m   1867\u001b[0m     executing_eagerly)\n\u001b[0;32m   1868\u001b[0m forward_function, args_with_tangents \u001b[38;5;241m=\u001b[39m forward_backward\u001b[38;5;241m.\u001b[39mforward()\n",
      "File \u001b[1;32m~\\Anaconda3\\envs\\SER\\lib\\site-packages\\tensorflow\\python\\eager\\function.py:499\u001b[0m, in \u001b[0;36m_EagerDefinedFunction.call\u001b[1;34m(self, ctx, args, cancellation_manager)\u001b[0m\n\u001b[0;32m    497\u001b[0m \u001b[38;5;28;01mwith\u001b[39;00m _InterpolateFunctionError(\u001b[38;5;28mself\u001b[39m):\n\u001b[0;32m    498\u001b[0m   \u001b[38;5;28;01mif\u001b[39;00m cancellation_manager \u001b[38;5;129;01mis\u001b[39;00m \u001b[38;5;28;01mNone\u001b[39;00m:\n\u001b[1;32m--> 499\u001b[0m     outputs \u001b[38;5;241m=\u001b[39m \u001b[43mexecute\u001b[49m\u001b[38;5;241;43m.\u001b[39;49m\u001b[43mexecute\u001b[49m\u001b[43m(\u001b[49m\n\u001b[0;32m    500\u001b[0m \u001b[43m        \u001b[49m\u001b[38;5;28;43mstr\u001b[39;49m\u001b[43m(\u001b[49m\u001b[38;5;28;43mself\u001b[39;49m\u001b[38;5;241;43m.\u001b[39;49m\u001b[43msignature\u001b[49m\u001b[38;5;241;43m.\u001b[39;49m\u001b[43mname\u001b[49m\u001b[43m)\u001b[49m\u001b[43m,\u001b[49m\n\u001b[0;32m    501\u001b[0m \u001b[43m        \u001b[49m\u001b[43mnum_outputs\u001b[49m\u001b[38;5;241;43m=\u001b[39;49m\u001b[38;5;28;43mself\u001b[39;49m\u001b[38;5;241;43m.\u001b[39;49m\u001b[43m_num_outputs\u001b[49m\u001b[43m,\u001b[49m\n\u001b[0;32m    502\u001b[0m \u001b[43m        \u001b[49m\u001b[43minputs\u001b[49m\u001b[38;5;241;43m=\u001b[39;49m\u001b[43margs\u001b[49m\u001b[43m,\u001b[49m\n\u001b[0;32m    503\u001b[0m \u001b[43m        \u001b[49m\u001b[43mattrs\u001b[49m\u001b[38;5;241;43m=\u001b[39;49m\u001b[43mattrs\u001b[49m\u001b[43m,\u001b[49m\n\u001b[0;32m    504\u001b[0m \u001b[43m        \u001b[49m\u001b[43mctx\u001b[49m\u001b[38;5;241;43m=\u001b[39;49m\u001b[43mctx\u001b[49m\u001b[43m)\u001b[49m\n\u001b[0;32m    505\u001b[0m   \u001b[38;5;28;01melse\u001b[39;00m:\n\u001b[0;32m    506\u001b[0m     outputs \u001b[38;5;241m=\u001b[39m execute\u001b[38;5;241m.\u001b[39mexecute_with_cancellation(\n\u001b[0;32m    507\u001b[0m         \u001b[38;5;28mstr\u001b[39m(\u001b[38;5;28mself\u001b[39m\u001b[38;5;241m.\u001b[39msignature\u001b[38;5;241m.\u001b[39mname),\n\u001b[0;32m    508\u001b[0m         num_outputs\u001b[38;5;241m=\u001b[39m\u001b[38;5;28mself\u001b[39m\u001b[38;5;241m.\u001b[39m_num_outputs,\n\u001b[1;32m   (...)\u001b[0m\n\u001b[0;32m    511\u001b[0m         ctx\u001b[38;5;241m=\u001b[39mctx,\n\u001b[0;32m    512\u001b[0m         cancellation_manager\u001b[38;5;241m=\u001b[39mcancellation_manager)\n",
      "File \u001b[1;32m~\\Anaconda3\\envs\\SER\\lib\\site-packages\\tensorflow\\python\\eager\\execute.py:54\u001b[0m, in \u001b[0;36mquick_execute\u001b[1;34m(op_name, num_outputs, inputs, attrs, ctx, name)\u001b[0m\n\u001b[0;32m     52\u001b[0m \u001b[38;5;28;01mtry\u001b[39;00m:\n\u001b[0;32m     53\u001b[0m   ctx\u001b[38;5;241m.\u001b[39mensure_initialized()\n\u001b[1;32m---> 54\u001b[0m   tensors \u001b[38;5;241m=\u001b[39m \u001b[43mpywrap_tfe\u001b[49m\u001b[38;5;241;43m.\u001b[39;49m\u001b[43mTFE_Py_Execute\u001b[49m\u001b[43m(\u001b[49m\u001b[43mctx\u001b[49m\u001b[38;5;241;43m.\u001b[39;49m\u001b[43m_handle\u001b[49m\u001b[43m,\u001b[49m\u001b[43m \u001b[49m\u001b[43mdevice_name\u001b[49m\u001b[43m,\u001b[49m\u001b[43m \u001b[49m\u001b[43mop_name\u001b[49m\u001b[43m,\u001b[49m\n\u001b[0;32m     55\u001b[0m \u001b[43m                                      \u001b[49m\u001b[43minputs\u001b[49m\u001b[43m,\u001b[49m\u001b[43m \u001b[49m\u001b[43mattrs\u001b[49m\u001b[43m,\u001b[49m\u001b[43m \u001b[49m\u001b[43mnum_outputs\u001b[49m\u001b[43m)\u001b[49m\n\u001b[0;32m     56\u001b[0m \u001b[38;5;28;01mexcept\u001b[39;00m core\u001b[38;5;241m.\u001b[39m_NotOkStatusException \u001b[38;5;28;01mas\u001b[39;00m e:\n\u001b[0;32m     57\u001b[0m   \u001b[38;5;28;01mif\u001b[39;00m name \u001b[38;5;129;01mis\u001b[39;00m \u001b[38;5;129;01mnot\u001b[39;00m \u001b[38;5;28;01mNone\u001b[39;00m:\n",
      "\u001b[1;31mKeyboardInterrupt\u001b[0m: "
     ]
    }
   ],
   "source": [
    "rlrp = ReduceLROnPlateau(monitor='loss', factor=0.4, verbose=0, patience=2, min_lr=0.0000001)\n",
    "history = model.fit(x_train, y_train, batch_size=64, epochs=50, validation_data=(x_test, y_test), callbacks=[rlrp])"
   ]
  },
  {
   "cell_type": "code",
   "execution_count": null,
   "id": "928f7953",
   "metadata": {},
   "outputs": [],
   "source": [
    "print(\"Accuracy of our model on test data : \" , model.evaluate(x_test,y_test)[1]*100 , \"%\")\n",
    "\n",
    "epochs = [i for i in range(50)]\n",
    "fig , ax = plt.subplots(1,2)\n",
    "train_acc = history.history['accuracy']\n",
    "train_loss = history.history['loss']\n",
    "test_acc = history.history['val_accuracy']\n",
    "test_loss = history.history['val_loss']\n",
    "\n",
    "fig.set_size_inches(20,6)\n",
    "ax[0].plot(epochs , train_loss , label = 'Training Loss')\n",
    "ax[0].plot(epochs , test_loss , label = 'Testing Loss')\n",
    "ax[0].set_title('Training & Testing Loss')\n",
    "ax[0].legend()\n",
    "ax[0].set_xlabel(\"Epochs\")\n",
    "\n",
    "ax[1].plot(epochs , train_acc , label = 'Training Accuracy')\n",
    "ax[1].plot(epochs , test_acc , label = 'Testing Accuracy')\n",
    "ax[1].set_title('Training & Testing Accuracy')\n",
    "ax[1].legend()\n",
    "ax[1].set_xlabel(\"Epochs\")\n",
    "plt.show()"
   ]
  },
  {
   "cell_type": "code",
   "execution_count": null,
   "id": "0b3c8129",
   "metadata": {},
   "outputs": [],
   "source": [
    "# predicting on test data.\n",
    "pred_test = model.predict(x_test)\n",
    "y_pred = encoder.inverse_transform(pred_test)\n",
    "\n",
    "y_test = encoder.inverse_transform(y_test)"
   ]
  },
  {
   "cell_type": "code",
   "execution_count": null,
   "id": "f60762c3",
   "metadata": {},
   "outputs": [],
   "source": [
    "df = pd.DataFrame(columns=['Predicted Labels', 'Actual Labels'])\n",
    "df['Predicted Labels'] = y_pred.flatten()\n",
    "df['Actual Labels'] = y_test.flatten()\n",
    "\n",
    "df.head(10)"
   ]
  },
  {
   "cell_type": "code",
   "execution_count": null,
   "id": "3f5bde91",
   "metadata": {},
   "outputs": [],
   "source": [
    "import seaborn as sns"
   ]
  },
  {
   "cell_type": "code",
   "execution_count": null,
   "id": "5c73488c",
   "metadata": {},
   "outputs": [],
   "source": [
    "from sklearn.metrics import confusion_matrix\n",
    "cm = confusion_matrix(y_test, y_pred)\n",
    "plt.figure(figsize = (12, 10))\n",
    "cm = pd.DataFrame(cm , index = [i for i in encoder.categories_] , columns = [i for i in encoder.categories_])\n",
    "sns.heatmap(cm, linecolor='white', cmap='Blues', linewidth=1, annot=True, fmt='')\n",
    "plt.title('Confusion Matrix', size=20)\n",
    "plt.xlabel('Predicted Labels', size=14)\n",
    "plt.ylabel('Actual Labels', size=14)\n",
    "plt.show()"
   ]
  },
  {
   "cell_type": "code",
   "execution_count": null,
   "id": "7038f8ea",
   "metadata": {},
   "outputs": [],
   "source": [
    "from sklearn.metrics import classification_report\n",
    "print(classification_report(y_test, y_pred))"
   ]
  }
 ],
 "metadata": {
  "hide_input": false,
  "kernelspec": {
   "display_name": "SER",
   "language": "python",
   "name": "myenv"
  },
  "language_info": {
   "codemirror_mode": {
    "name": "ipython",
    "version": 3
   },
   "file_extension": ".py",
   "mimetype": "text/x-python",
   "name": "python",
   "nbconvert_exporter": "python",
   "pygments_lexer": "ipython3",
   "version": "3.9.16"
  },
  "toc": {
   "base_numbering": 1,
   "nav_menu": {},
   "number_sections": true,
   "sideBar": true,
   "skip_h1_title": false,
   "title_cell": "Table of Contents",
   "title_sidebar": "Contents",
   "toc_cell": false,
   "toc_position": {},
   "toc_section_display": true,
   "toc_window_display": false
  }
 },
 "nbformat": 4,
 "nbformat_minor": 5
}
