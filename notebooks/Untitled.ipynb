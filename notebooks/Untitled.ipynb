{
 "cells": [
  {
   "cell_type": "code",
   "execution_count": 1,
   "id": "02ffa14a",
   "metadata": {},
   "outputs": [],
   "source": [
    "# Mandatorio al inicio de cada notebook\n",
    "import os\n",
    "import warnings\n",
    "os.chdir(os.path.abspath(\"..\"))\n",
    "warnings.filterwarnings('ignore')"
   ]
  },
  {
   "cell_type": "code",
   "execution_count": 2,
   "id": "f678f8b9",
   "metadata": {},
   "outputs": [],
   "source": [
    "from src.pipeline import DataPipeline\n",
    "from src.votaciones import votacion_promedio_simple\n",
    "import pandas as pd"
   ]
  },
  {
   "cell_type": "code",
   "execution_count": 3,
   "id": "d95f5b2c",
   "metadata": {
    "collapsed": true
   },
   "outputs": [
    {
     "name": "stdout",
     "output_type": "stream",
     "text": [
      "Iniciando proceso para crear rango de transcripciones\n",
      "Proceso para crear rango de transcripciones finalizado con éxito\n",
      "---------------------------------------------------------\n",
      "Iniciando proceso para crear targets de entrenamiento\n",
      "Proceso para crear targets de entrenamiento finalizado con éxito\n",
      "---------------------------------------------------------\n",
      "Iniciando proceso para obtener features\n",
      "Procesando MSP-Conversation_0021.wav\n",
      "Usando cache para MSP-Conversation_0021\n"
     ]
    },
    {
     "ename": "KeyboardInterrupt",
     "evalue": "",
     "output_type": "error",
     "traceback": [
      "\u001b[1;31m---------------------------------------------------------------------------\u001b[0m",
      "\u001b[1;31mKeyboardInterrupt\u001b[0m                         Traceback (most recent call last)",
      "Cell \u001b[1;32mIn[3], line 15\u001b[0m\n\u001b[0;32m      1\u001b[0m pipeline \u001b[38;5;241m=\u001b[39m DataPipeline(\u001b[38;5;124m'\u001b[39m\u001b[38;5;124mv1\u001b[39m\u001b[38;5;124m'\u001b[39m,\n\u001b[0;32m      2\u001b[0m                         cache \u001b[38;5;241m=\u001b[39m \u001b[38;5;28;01mTrue\u001b[39;00m,\n\u001b[0;32m      3\u001b[0m                         funcion_votacion \u001b[38;5;241m=\u001b[39m votacion_promedio_simple,\n\u001b[0;32m      4\u001b[0m                         min_muestras \u001b[38;5;241m=\u001b[39m \u001b[38;5;241m400\u001b[39m)\n\u001b[0;32m      6\u001b[0m steps \u001b[38;5;241m=\u001b[39m [pipeline\u001b[38;5;241m.\u001b[39mcrear_rangos_transcripciones,\n\u001b[0;32m      7\u001b[0m         pipeline\u001b[38;5;241m.\u001b[39mcrear_objetivos,\n\u001b[0;32m      8\u001b[0m         pipeline\u001b[38;5;241m.\u001b[39mobtener_features,\n\u001b[1;32m   (...)\u001b[0m\n\u001b[0;32m     12\u001b[0m         pipeline\u001b[38;5;241m.\u001b[39malinear_muestras,\n\u001b[0;32m     13\u001b[0m         pipeline\u001b[38;5;241m.\u001b[39mentrenar]\n\u001b[1;32m---> 15\u001b[0m \u001b[43mpipeline\u001b[49m\u001b[38;5;241;43m.\u001b[39;49m\u001b[43mrun_pipeline\u001b[49m\u001b[43m(\u001b[49m\u001b[43msteps\u001b[49m\u001b[43m)\u001b[49m\n",
      "File \u001b[1;32m~\\Documents\\GitHub\\SER-WHISPER\\src\\pipeline.py:218\u001b[0m, in \u001b[0;36mDataPipeline.run_pipeline\u001b[1;34m(self, steps)\u001b[0m\n\u001b[0;32m    217\u001b[0m \u001b[38;5;28;01mdef\u001b[39;00m \u001b[38;5;21mrun_pipeline\u001b[39m(\u001b[38;5;28mself\u001b[39m, steps):\n\u001b[1;32m--> 218\u001b[0m     \u001b[38;5;28;01mfor\u001b[39;00m step \u001b[38;5;129;01min\u001b[39;00m steps: \u001b[43mstep\u001b[49m\u001b[43m(\u001b[49m\u001b[43m)\u001b[49m\n",
      "File \u001b[1;32m~\\Documents\\GitHub\\SER-WHISPER\\src\\pipeline.py:108\u001b[0m, in \u001b[0;36mDataPipeline.obtener_features\u001b[1;34m(self)\u001b[0m\n\u001b[0;32m    106\u001b[0m     \u001b[38;5;28mprint\u001b[39m(\u001b[38;5;124m'\u001b[39m\u001b[38;5;124mUsando cache para\u001b[39m\u001b[38;5;124m'\u001b[39m, audio_name[:\u001b[38;5;241m21\u001b[39m])\n\u001b[0;32m    107\u001b[0m     df_audio \u001b[38;5;241m=\u001b[39m pd\u001b[38;5;241m.\u001b[39mread_csv(\u001b[38;5;124mf\u001b[39m\u001b[38;5;124m'\u001b[39m\u001b[38;5;124mdata/MODELS/\u001b[39m\u001b[38;5;132;01m{\u001b[39;00m\u001b[38;5;28mself\u001b[39m\u001b[38;5;241m.\u001b[39mmodel_version\u001b[38;5;132;01m}\u001b[39;00m\u001b[38;5;124m/FEATURES/\u001b[39m\u001b[38;5;132;01m{\u001b[39;00maudio_name[:\u001b[38;5;241m21\u001b[39m]\u001b[38;5;132;01m}\u001b[39;00m\u001b[38;5;124m.csv\u001b[39m\u001b[38;5;124m'\u001b[39m)\n\u001b[1;32m--> 108\u001b[0m     df_audio[\u001b[38;5;124m'\u001b[39m\u001b[38;5;124mFeatures\u001b[39m\u001b[38;5;124m'\u001b[39m] \u001b[38;5;241m=\u001b[39m \u001b[38;5;28;43mself\u001b[39;49m\u001b[38;5;241;43m.\u001b[39;49m\u001b[43m_convertir_strarray_a_array\u001b[49m\u001b[43m(\u001b[49m\u001b[43mdf_audio\u001b[49m\u001b[43m[\u001b[49m\u001b[38;5;124;43m'\u001b[39;49m\u001b[38;5;124;43mFeatures\u001b[39;49m\u001b[38;5;124;43m'\u001b[39;49m\u001b[43m]\u001b[49m\u001b[43m)\u001b[49m\n\u001b[0;32m    110\u001b[0m     \u001b[38;5;28mself\u001b[39m\u001b[38;5;241m.\u001b[39mdf_features \u001b[38;5;241m=\u001b[39m pd\u001b[38;5;241m.\u001b[39mconcat([df_audio[[\u001b[38;5;124m'\u001b[39m\u001b[38;5;124mAudio_Name\u001b[39m\u001b[38;5;124m'\u001b[39m,\u001b[38;5;124m'\u001b[39m\u001b[38;5;124mIndice\u001b[39m\u001b[38;5;124m'\u001b[39m,\u001b[38;5;124m'\u001b[39m\u001b[38;5;124mFeatures\u001b[39m\u001b[38;5;124m'\u001b[39m]], \u001b[38;5;28mself\u001b[39m\u001b[38;5;241m.\u001b[39mdf_features])\n\u001b[0;32m    112\u001b[0m \u001b[38;5;28mprint\u001b[39m(\u001b[38;5;124mf\u001b[39m\u001b[38;5;124m'\u001b[39m\u001b[38;5;132;01m{\u001b[39;00maudio_name\u001b[38;5;132;01m}\u001b[39;00m\u001b[38;5;124m procesado con éxito\u001b[39m\u001b[38;5;124m'\u001b[39m)\n",
      "File \u001b[1;32m~\\Documents\\GitHub\\SER-WHISPER\\src\\pipeline.py:213\u001b[0m, in \u001b[0;36mDataPipeline._convertir_strarray_a_array\u001b[1;34m(self, filas)\u001b[0m\n\u001b[0;32m    211\u001b[0m \u001b[38;5;28;01mfor\u001b[39;00m fila \u001b[38;5;129;01min\u001b[39;00m filas:\n\u001b[0;32m    212\u001b[0m     fila \u001b[38;5;241m=\u001b[39m fila\u001b[38;5;241m.\u001b[39mreplace(\u001b[38;5;124m'\u001b[39m\u001b[38;5;124m[\u001b[39m\u001b[38;5;124m'\u001b[39m,\u001b[38;5;124m'\u001b[39m\u001b[38;5;124m'\u001b[39m)\u001b[38;5;241m.\u001b[39mreplace(\u001b[38;5;124m'\u001b[39m\u001b[38;5;124m]\u001b[39m\u001b[38;5;124m'\u001b[39m,\u001b[38;5;124m'\u001b[39m\u001b[38;5;124m'\u001b[39m)\u001b[38;5;241m.\u001b[39msplit(\u001b[38;5;124m'\u001b[39m\u001b[38;5;124m,\u001b[39m\u001b[38;5;124m'\u001b[39m)\n\u001b[1;32m--> 213\u001b[0m     x\u001b[38;5;241m.\u001b[39mappend([\u001b[38;5;28mfloat\u001b[39m(i) \u001b[38;5;28;01mfor\u001b[39;00m i \u001b[38;5;129;01min\u001b[39;00m fila])\n\u001b[0;32m    215\u001b[0m \u001b[38;5;28;01mreturn\u001b[39;00m x\n",
      "File \u001b[1;32m~\\Documents\\GitHub\\SER-WHISPER\\src\\pipeline.py:213\u001b[0m, in \u001b[0;36m<listcomp>\u001b[1;34m(.0)\u001b[0m\n\u001b[0;32m    211\u001b[0m \u001b[38;5;28;01mfor\u001b[39;00m fila \u001b[38;5;129;01min\u001b[39;00m filas:\n\u001b[0;32m    212\u001b[0m     fila \u001b[38;5;241m=\u001b[39m fila\u001b[38;5;241m.\u001b[39mreplace(\u001b[38;5;124m'\u001b[39m\u001b[38;5;124m[\u001b[39m\u001b[38;5;124m'\u001b[39m,\u001b[38;5;124m'\u001b[39m\u001b[38;5;124m'\u001b[39m)\u001b[38;5;241m.\u001b[39mreplace(\u001b[38;5;124m'\u001b[39m\u001b[38;5;124m]\u001b[39m\u001b[38;5;124m'\u001b[39m,\u001b[38;5;124m'\u001b[39m\u001b[38;5;124m'\u001b[39m)\u001b[38;5;241m.\u001b[39msplit(\u001b[38;5;124m'\u001b[39m\u001b[38;5;124m,\u001b[39m\u001b[38;5;124m'\u001b[39m)\n\u001b[1;32m--> 213\u001b[0m     x\u001b[38;5;241m.\u001b[39mappend([\u001b[38;5;28mfloat\u001b[39m(i) \u001b[38;5;28;01mfor\u001b[39;00m i \u001b[38;5;129;01min\u001b[39;00m fila])\n\u001b[0;32m    215\u001b[0m \u001b[38;5;28;01mreturn\u001b[39;00m x\n",
      "\u001b[1;31mKeyboardInterrupt\u001b[0m: "
     ]
    }
   ],
   "source": [
    "pipeline = DataPipeline('v1',\n",
    "                        cache = True,\n",
    "                        funcion_votacion = votacion_promedio_simple,\n",
    "                        min_muestras = 400)\n",
    "\n",
    "steps = [pipeline.crear_rangos_transcripciones,\n",
    "        pipeline.crear_objetivos,\n",
    "        pipeline.obtener_features,\n",
    "        pipeline.acondicionar_dataset,\n",
    "        pipeline.remover_duplicados,\n",
    "        pipeline.crear_target_categorico,\n",
    "        pipeline.alinear_muestras,\n",
    "        pipeline.entrenar]\n",
    "\n",
    "pipeline.run_pipeline(steps)"
   ]
  }
 ],
 "metadata": {
  "hide_input": false,
  "kernelspec": {
   "display_name": "SER",
   "language": "python",
   "name": "myenv"
  },
  "language_info": {
   "codemirror_mode": {
    "name": "ipython",
    "version": 3
   },
   "file_extension": ".py",
   "mimetype": "text/x-python",
   "name": "python",
   "nbconvert_exporter": "python",
   "pygments_lexer": "ipython3",
   "version": "3.9.16"
  },
  "toc": {
   "base_numbering": 1,
   "nav_menu": {},
   "number_sections": true,
   "sideBar": true,
   "skip_h1_title": false,
   "title_cell": "Table of Contents",
   "title_sidebar": "Contents",
   "toc_cell": false,
   "toc_position": {},
   "toc_section_display": true,
   "toc_window_display": false
  }
 },
 "nbformat": 4,
 "nbformat_minor": 5
}
