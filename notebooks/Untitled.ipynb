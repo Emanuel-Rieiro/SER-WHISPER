{
 "cells": [
  {
   "cell_type": "code",
   "execution_count": 1,
   "id": "02ffa14a",
   "metadata": {},
   "outputs": [],
   "source": [
    "# Mandatorio al inicio de cada notebook\n",
    "import os\n",
    "import warnings\n",
    "os.chdir(os.path.abspath(\"..\"))\n",
    "warnings.filterwarnings('ignore')"
   ]
  },
  {
   "cell_type": "code",
   "execution_count": 2,
   "id": "f678f8b9",
   "metadata": {},
   "outputs": [],
   "source": [
    "from src.pipeline import DataPipeline\n",
    "from src.votaciones import votacion_promedio_simple\n",
    "import pandas as pd"
   ]
  },
  {
   "cell_type": "code",
   "execution_count": 3,
   "id": "d95f5b2c",
   "metadata": {},
   "outputs": [
    {
     "ename": "AttributeError",
     "evalue": "'DataPipeline' object has no attribute 'df_final'",
     "output_type": "error",
     "traceback": [
      "\u001b[1;31m---------------------------------------------------------------------------\u001b[0m",
      "\u001b[1;31mAttributeError\u001b[0m                            Traceback (most recent call last)",
      "Cell \u001b[1;32mIn[3], line 11\u001b[0m\n\u001b[0;32m      1\u001b[0m pipeline \u001b[38;5;241m=\u001b[39m DataPipeline(\u001b[38;5;124m'\u001b[39m\u001b[38;5;124mv1\u001b[39m\u001b[38;5;124m'\u001b[39m,\n\u001b[0;32m      2\u001b[0m                         cache \u001b[38;5;241m=\u001b[39m \u001b[38;5;28;01mTrue\u001b[39;00m,\n\u001b[0;32m      3\u001b[0m                         funcion_votacion \u001b[38;5;241m=\u001b[39m votacion_promedio_simple)\n\u001b[0;32m      5\u001b[0m steps \u001b[38;5;241m=\u001b[39m [pipeline\u001b[38;5;241m.\u001b[39mcrear_rangos_transcripciones,\n\u001b[0;32m      6\u001b[0m         pipeline\u001b[38;5;241m.\u001b[39mcrear_objetivos,\n\u001b[0;32m      7\u001b[0m         pipeline\u001b[38;5;241m.\u001b[39mobtener_features,\n\u001b[0;32m      8\u001b[0m         pipeline\u001b[38;5;241m.\u001b[39macondicionar_dataset,\n\u001b[0;32m      9\u001b[0m         pipeline\u001b[38;5;241m.\u001b[39mremover_duplicados,\n\u001b[0;32m     10\u001b[0m         pipeline\u001b[38;5;241m.\u001b[39mcrear_target_categorico,\n\u001b[1;32m---> 11\u001b[0m         \u001b[43mpipeline\u001b[49m\u001b[38;5;241;43m.\u001b[39;49m\u001b[43malinear_muestras\u001b[49m\u001b[43m(\u001b[49m\u001b[38;5;241;43m400\u001b[39;49m\u001b[43m)\u001b[49m,\n\u001b[0;32m     12\u001b[0m         pipeline\u001b[38;5;241m.\u001b[39mentrenar]\n\u001b[0;32m     14\u001b[0m pipeline\u001b[38;5;241m.\u001b[39mrun_pipeline(steps)\n",
      "File \u001b[1;32m~\\Documents\\GitHub\\SER-WHISPER\\src\\pipeline.py:171\u001b[0m, in \u001b[0;36mDataPipeline.alinear_muestras\u001b[1;34m(self, min_cuenta)\u001b[0m\n\u001b[0;32m    170\u001b[0m \u001b[38;5;28;01mdef\u001b[39;00m \u001b[38;5;21malinear_muestras\u001b[39m(\u001b[38;5;28mself\u001b[39m, min_cuenta : \u001b[38;5;28mint\u001b[39m):\n\u001b[1;32m--> 171\u001b[0m     df_copy \u001b[38;5;241m=\u001b[39m \u001b[38;5;28;43mself\u001b[39;49m\u001b[38;5;241;43m.\u001b[39;49m\u001b[43mdf_final\u001b[49m\u001b[38;5;241m.\u001b[39mcopy()\n\u001b[0;32m    172\u001b[0m     df_copy[\u001b[38;5;124m'\u001b[39m\u001b[38;5;124mCuenta\u001b[39m\u001b[38;5;124m'\u001b[39m] \u001b[38;5;241m=\u001b[39m \u001b[38;5;241m1\u001b[39m\n\u001b[0;32m    173\u001b[0m     df_cuenta \u001b[38;5;241m=\u001b[39m df_copy\u001b[38;5;241m.\u001b[39mgroupby(\u001b[38;5;124m'\u001b[39m\u001b[38;5;124mTarget\u001b[39m\u001b[38;5;124m'\u001b[39m)\u001b[38;5;241m.\u001b[39mcount()\u001b[38;5;241m.\u001b[39mreset_index()[[\u001b[38;5;124m'\u001b[39m\u001b[38;5;124mTarget\u001b[39m\u001b[38;5;124m'\u001b[39m,\u001b[38;5;124m'\u001b[39m\u001b[38;5;124mCuenta\u001b[39m\u001b[38;5;124m'\u001b[39m]]\n",
      "\u001b[1;31mAttributeError\u001b[0m: 'DataPipeline' object has no attribute 'df_final'"
     ]
    }
   ],
   "source": [
    "pipeline = DataPipeline('v1',\n",
    "                        cache = True,\n",
    "                        funcion_votacion = votacion_promedio_simple,\n",
    "                        min_muestras = 400)\n",
    "\n",
    "steps = [pipeline.crear_rangos_transcripciones,\n",
    "        pipeline.crear_objetivos,\n",
    "        pipeline.obtener_features,\n",
    "        pipeline.acondicionar_dataset,\n",
    "        pipeline.remover_duplicados,\n",
    "        pipeline.crear_target_categorico,\n",
    "        pipeline.alinear_muestras,\n",
    "        pipeline.entrenar]\n",
    "\n",
    "pipeline.run_pipeline(steps)"
   ]
  }
 ],
 "metadata": {
  "hide_input": false,
  "kernelspec": {
   "display_name": "SER",
   "language": "python",
   "name": "myenv"
  },
  "language_info": {
   "codemirror_mode": {
    "name": "ipython",
    "version": 3
   },
   "file_extension": ".py",
   "mimetype": "text/x-python",
   "name": "python",
   "nbconvert_exporter": "python",
   "pygments_lexer": "ipython3",
   "version": "3.9.16"
  },
  "toc": {
   "base_numbering": 1,
   "nav_menu": {},
   "number_sections": true,
   "sideBar": true,
   "skip_h1_title": false,
   "title_cell": "Table of Contents",
   "title_sidebar": "Contents",
   "toc_cell": false,
   "toc_position": {},
   "toc_section_display": true,
   "toc_window_display": false
  }
 },
 "nbformat": 4,
 "nbformat_minor": 5
}
