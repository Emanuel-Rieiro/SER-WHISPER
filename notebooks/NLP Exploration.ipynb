{
 "cells": [
  {
   "cell_type": "markdown",
   "id": "090472e0",
   "metadata": {},
   "source": [
    "# Imports"
   ]
  },
  {
   "cell_type": "code",
   "execution_count": 1,
   "id": "56430c10",
   "metadata": {},
   "outputs": [],
   "source": [
    "import os\n",
    "\n",
    "# Set current working directory to parent folder\n",
    "os.chdir(os.path.abspath(\"..\"))"
   ]
  },
  {
   "cell_type": "code",
   "execution_count": 2,
   "id": "8981b627",
   "metadata": {},
   "outputs": [],
   "source": [
    "import pandas as pd\n",
    "import json\n",
    "\n",
    "# Archivos importantes y paths\n",
    "df_annotations = pd.read_excel('data/annotations.xlsx')\n",
    "\n",
    "# Omitimos todos los audios en development\n",
    "df_annotations = df_annotations[df_annotations['Type'] != 'Development'].reset_index(drop = True)"
   ]
  },
  {
   "cell_type": "markdown",
   "id": "7e83a5f7",
   "metadata": {},
   "source": [
    "# WhisperTokenizer"
   ]
  },
  {
   "cell_type": "code",
   "execution_count": 3,
   "id": "9bd7505a",
   "metadata": {
    "scrolled": true
   },
   "outputs": [
    {
     "name": "stderr",
     "output_type": "stream",
     "text": [
      "C:\\Users\\Emanuel\\anaconda3\\envs\\SER\\lib\\site-packages\\tqdm\\auto.py:21: TqdmWarning: IProgress not found. Please update jupyter and ipywidgets. See https://ipywidgets.readthedocs.io/en/stable/user_install.html\n",
      "  from .autonotebook import tqdm as notebook_tqdm\n",
      "Special tokens have been added in the vocabulary, make sure the associated word embeddings are fine-tuned or trained.\n"
     ]
    }
   ],
   "source": [
    "from transformers import WhisperTokenizer\n",
    "\n",
    "# Load the tokenizer\n",
    "tokenizer = WhisperTokenizer.from_pretrained(\"openai/whisper-large\")\n",
    "\n",
    "# Get all tokens\n",
    "all_tokens = tokenizer.get_vocab()\n",
    "\n",
    "# Get max value item\n",
    "max_value = max(zip(all_tokens.values(), all_tokens.keys()))[0]"
   ]
  },
  {
   "cell_type": "code",
   "execution_count": 4,
   "id": "60a65d2d",
   "metadata": {},
   "outputs": [],
   "source": [
    "df_texto = pd.DataFrame()\n",
    "\n",
    "df_texto.loc[0, 'id'] = 0\n",
    "\n",
    "for file in os.listdir('data/TRANSCRIPCIONES/WHISPER'):\n",
    "    with open(f'data/TRANSCRIPCIONES/WHISPER/{file}', 'r') as f: \n",
    "        data = json.load(f)\n",
    "    \n",
    "    start = max(df_texto.index)\n",
    "    \n",
    "    for i in range(len(data['segments'])):\n",
    "        df_texto.at[i + start, 'Audio'] = file[:-5]\n",
    "        df_texto.at[i + start, 'id'] = int(data['segments'][i]['id'])\n",
    "        df_texto.at[i + start, 'Text'] = data['segments'][i]['text']\n",
    "        df_texto.at[i + start, 'Tokens'] = str(data['segments'][i]['tokens'][1:-1])"
   ]
  },
  {
   "cell_type": "code",
   "execution_count": 5,
   "id": "08cb601d",
   "metadata": {
    "scrolled": true
   },
   "outputs": [
    {
     "data": {
      "text/html": [
       "<div>\n",
       "<style scoped>\n",
       "    .dataframe tbody tr th:only-of-type {\n",
       "        vertical-align: middle;\n",
       "    }\n",
       "\n",
       "    .dataframe tbody tr th {\n",
       "        vertical-align: top;\n",
       "    }\n",
       "\n",
       "    .dataframe thead th {\n",
       "        text-align: right;\n",
       "    }\n",
       "</style>\n",
       "<table border=\"1\" class=\"dataframe\">\n",
       "  <thead>\n",
       "    <tr style=\"text-align: right;\">\n",
       "      <th></th>\n",
       "      <th>id</th>\n",
       "      <th>Audio</th>\n",
       "      <th>Text</th>\n",
       "      <th>Tokens</th>\n",
       "    </tr>\n",
       "  </thead>\n",
       "  <tbody>\n",
       "    <tr>\n",
       "      <th>0</th>\n",
       "      <td>0.0</td>\n",
       "      <td>MSP-Conversation_0002</td>\n",
       "      <td>It's our honor to talk about important issues...</td>\n",
       "      <td>[467, 311, 527, 5968, 281, 751, 466, 1021, 266...</td>\n",
       "    </tr>\n",
       "    <tr>\n",
       "      <th>1</th>\n",
       "      <td>1.0</td>\n",
       "      <td>MSP-Conversation_0002</td>\n",
       "      <td>The foundation of our show, Heart of the Matt...</td>\n",
       "      <td>[440, 7030, 295, 527, 855, 11, 13569, 295, 264...</td>\n",
       "    </tr>\n",
       "    <tr>\n",
       "      <th>2</th>\n",
       "      <td>2.0</td>\n",
       "      <td>MSP-Conversation_0002</td>\n",
       "      <td>Important issues and why they should be on ou...</td>\n",
       "      <td>[42908, 2663, 293, 983, 436, 820, 312, 322, 52...</td>\n",
       "    </tr>\n",
       "    <tr>\n",
       "      <th>3</th>\n",
       "      <td>3.0</td>\n",
       "      <td>MSP-Conversation_0002</td>\n",
       "      <td>Looking at things as right versus wrong inste...</td>\n",
       "      <td>[11053, 412, 721, 382, 558, 5717, 2085, 2602, ...</td>\n",
       "    </tr>\n",
       "    <tr>\n",
       "      <th>4</th>\n",
       "      <td>4.0</td>\n",
       "      <td>MSP-Conversation_0002</td>\n",
       "      <td>And sharing stories with real people's experi...</td>\n",
       "      <td>[400, 5414, 3676, 365, 957, 561, 311, 5235, 37...</td>\n",
       "    </tr>\n",
       "  </tbody>\n",
       "</table>\n",
       "</div>"
      ],
      "text/plain": [
       "    id                  Audio  \\\n",
       "0  0.0  MSP-Conversation_0002   \n",
       "1  1.0  MSP-Conversation_0002   \n",
       "2  2.0  MSP-Conversation_0002   \n",
       "3  3.0  MSP-Conversation_0002   \n",
       "4  4.0  MSP-Conversation_0002   \n",
       "\n",
       "                                                Text  \\\n",
       "0   It's our honor to talk about important issues...   \n",
       "1   The foundation of our show, Heart of the Matt...   \n",
       "2   Important issues and why they should be on ou...   \n",
       "3   Looking at things as right versus wrong inste...   \n",
       "4   And sharing stories with real people's experi...   \n",
       "\n",
       "                                              Tokens  \n",
       "0  [467, 311, 527, 5968, 281, 751, 466, 1021, 266...  \n",
       "1  [440, 7030, 295, 527, 855, 11, 13569, 295, 264...  \n",
       "2  [42908, 2663, 293, 983, 436, 820, 312, 322, 52...  \n",
       "3  [11053, 412, 721, 382, 558, 5717, 2085, 2602, ...  \n",
       "4  [400, 5414, 3676, 365, 957, 561, 311, 5235, 37...  "
      ]
     },
     "execution_count": 5,
     "metadata": {},
     "output_type": "execute_result"
    }
   ],
   "source": [
    "df_texto.head()"
   ]
  },
  {
   "cell_type": "code",
   "execution_count": 6,
   "id": "34e94d54",
   "metadata": {},
   "outputs": [],
   "source": [
    "# Agregamos cantidad de palabras\n",
    "df_texto['num_words'] = df_texto['Text'].apply(lambda x:len(str(x).split()))"
   ]
  },
  {
   "cell_type": "code",
   "execution_count": 7,
   "id": "1406fc77",
   "metadata": {},
   "outputs": [
    {
     "data": {
      "text/html": [
       "<div>\n",
       "<style scoped>\n",
       "    .dataframe tbody tr th:only-of-type {\n",
       "        vertical-align: middle;\n",
       "    }\n",
       "\n",
       "    .dataframe tbody tr th {\n",
       "        vertical-align: top;\n",
       "    }\n",
       "\n",
       "    .dataframe thead th {\n",
       "        text-align: right;\n",
       "    }\n",
       "</style>\n",
       "<table border=\"1\" class=\"dataframe\">\n",
       "  <thead>\n",
       "    <tr style=\"text-align: right;\">\n",
       "      <th></th>\n",
       "      <th>id</th>\n",
       "      <th>Audio</th>\n",
       "      <th>Text</th>\n",
       "      <th>Tokens</th>\n",
       "      <th>num_words</th>\n",
       "    </tr>\n",
       "  </thead>\n",
       "  <tbody>\n",
       "    <tr>\n",
       "      <th>0</th>\n",
       "      <td>0.0</td>\n",
       "      <td>MSP-Conversation_0002</td>\n",
       "      <td>It's our honor to talk about important issues...</td>\n",
       "      <td>[467, 311, 527, 5968, 281, 751, 466, 1021, 266...</td>\n",
       "      <td>16</td>\n",
       "    </tr>\n",
       "    <tr>\n",
       "      <th>1</th>\n",
       "      <td>1.0</td>\n",
       "      <td>MSP-Conversation_0002</td>\n",
       "      <td>The foundation of our show, Heart of the Matt...</td>\n",
       "      <td>[440, 7030, 295, 527, 855, 11, 13569, 295, 264...</td>\n",
       "      <td>13</td>\n",
       "    </tr>\n",
       "    <tr>\n",
       "      <th>2</th>\n",
       "      <td>2.0</td>\n",
       "      <td>MSP-Conversation_0002</td>\n",
       "      <td>Important issues and why they should be on ou...</td>\n",
       "      <td>[42908, 2663, 293, 983, 436, 820, 312, 322, 52...</td>\n",
       "      <td>11</td>\n",
       "    </tr>\n",
       "    <tr>\n",
       "      <th>3</th>\n",
       "      <td>3.0</td>\n",
       "      <td>MSP-Conversation_0002</td>\n",
       "      <td>Looking at things as right versus wrong inste...</td>\n",
       "      <td>[11053, 412, 721, 382, 558, 5717, 2085, 2602, ...</td>\n",
       "      <td>12</td>\n",
       "    </tr>\n",
       "    <tr>\n",
       "      <th>4</th>\n",
       "      <td>4.0</td>\n",
       "      <td>MSP-Conversation_0002</td>\n",
       "      <td>And sharing stories with real people's experi...</td>\n",
       "      <td>[400, 5414, 3676, 365, 957, 561, 311, 5235, 37...</td>\n",
       "      <td>19</td>\n",
       "    </tr>\n",
       "  </tbody>\n",
       "</table>\n",
       "</div>"
      ],
      "text/plain": [
       "    id                  Audio  \\\n",
       "0  0.0  MSP-Conversation_0002   \n",
       "1  1.0  MSP-Conversation_0002   \n",
       "2  2.0  MSP-Conversation_0002   \n",
       "3  3.0  MSP-Conversation_0002   \n",
       "4  4.0  MSP-Conversation_0002   \n",
       "\n",
       "                                                Text  \\\n",
       "0   It's our honor to talk about important issues...   \n",
       "1   The foundation of our show, Heart of the Matt...   \n",
       "2   Important issues and why they should be on ou...   \n",
       "3   Looking at things as right versus wrong inste...   \n",
       "4   And sharing stories with real people's experi...   \n",
       "\n",
       "                                              Tokens  num_words  \n",
       "0  [467, 311, 527, 5968, 281, 751, 466, 1021, 266...         16  \n",
       "1  [440, 7030, 295, 527, 855, 11, 13569, 295, 264...         13  \n",
       "2  [42908, 2663, 293, 983, 436, 820, 312, 322, 52...         11  \n",
       "3  [11053, 412, 721, 382, 558, 5717, 2085, 2602, ...         12  \n",
       "4  [400, 5414, 3676, 365, 957, 561, 311, 5235, 37...         19  "
      ]
     },
     "execution_count": 7,
     "metadata": {},
     "output_type": "execute_result"
    }
   ],
   "source": [
    "df_texto.head()"
   ]
  },
  {
   "cell_type": "markdown",
   "id": "385d52c9",
   "metadata": {},
   "source": [
    "# Distribuciones"
   ]
  },
  {
   "cell_type": "code",
   "execution_count": 8,
   "id": "4d609904",
   "metadata": {},
   "outputs": [],
   "source": [
    "import seaborn as sns\n",
    "import matplotlib.pyplot as plt"
   ]
  },
  {
   "cell_type": "code",
   "execution_count": 9,
   "id": "9abdacb2",
   "metadata": {},
   "outputs": [
    {
     "data": {
      "image/png": "[encoded data removed]",
      "text/plain": [
       "<Figure size 640x480 with 2 Axes>"
      ]
     },
     "metadata": {},
     "output_type": "display_data"
    }
   ],
   "source": [
    "fig, axes = plt.subplots(1, 2)\n",
    "\n",
    "q = df_texto['num_words'].quantile(0.98)\n",
    "df_q = df_texto[df_texto['num_words'] <= q]\n",
    "\n",
    "sns.histplot(df_texto['num_words'], ax=axes[0])\n",
    "axes[0].set_title('Distribución')\n",
    "\n",
    "sns.histplot(df_q['num_words'], ax=axes[1])\n",
    "axes[1].set_title('Distribución percentil 0.98')\n",
    "\n",
    "fig.subplots_adjust(wspace=1, hspace=5)\n",
    "\n",
    "plt.show()"
   ]
  },
  {
   "cell_type": "markdown",
   "id": "9667c875",
   "metadata": {},
   "source": [
    "# Modelo"
   ]
  },
  {
   "cell_type": "markdown",
   "id": "53593bd4-905c-4a4d-ae09-5dde2e704920",
   "metadata": {},
   "source": [
    "## Concatenar objetivos"
   ]
  },
  {
   "cell_type": "code",
   "execution_count": 10,
   "id": "8600d3e5-b819-4992-9086-ae69bcbd4757",
   "metadata": {},
   "outputs": [
    {
     "data": {
      "text/html": [
       "<div>\n",
       "<style scoped>\n",
       "    .dataframe tbody tr th:only-of-type {\n",
       "        vertical-align: middle;\n",
       "    }\n",
       "\n",
       "    .dataframe tbody tr th {\n",
       "        vertical-align: top;\n",
       "    }\n",
       "\n",
       "    .dataframe thead th {\n",
       "        text-align: right;\n",
       "    }\n",
       "</style>\n",
       "<table border=\"1\" class=\"dataframe\">\n",
       "  <thead>\n",
       "    <tr style=\"text-align: right;\">\n",
       "      <th></th>\n",
       "      <th>id</th>\n",
       "      <th>Audio</th>\n",
       "      <th>Text</th>\n",
       "      <th>Tokens</th>\n",
       "      <th>num_words</th>\n",
       "      <th>indice</th>\n",
       "      <th>targets</th>\n",
       "      <th>Target</th>\n",
       "    </tr>\n",
       "  </thead>\n",
       "  <tbody>\n",
       "    <tr>\n",
       "      <th>402</th>\n",
       "      <td>1</td>\n",
       "      <td>MSP-Conversation_0021</td>\n",
       "      <td>Tommy Mazwai joins me this evening.</td>\n",
       "      <td>[19448, 28568, 86, 1301, 24397, 385, 341, 5634...</td>\n",
       "      <td>6</td>\n",
       "      <td>1.0</td>\n",
       "      <td>[22.434153132250582, 25.742998839907195, 27.96...</td>\n",
       "      <td>neutral</td>\n",
       "    </tr>\n",
       "    <tr>\n",
       "      <th>403</th>\n",
       "      <td>2</td>\n",
       "      <td>MSP-Conversation_0021</td>\n",
       "      <td>Tommy Mazwai, who was the day editor at the S...</td>\n",
       "      <td>[19448, 28568, 86, 1301, 11, 567, 390, 264, 78...</td>\n",
       "      <td>10</td>\n",
       "      <td>2.0</td>\n",
       "      <td>[24.9327970320278, 28.68542406311637, 29.61763...</td>\n",
       "      <td>neutral</td>\n",
       "    </tr>\n",
       "    <tr>\n",
       "      <th>404</th>\n",
       "      <td>3</td>\n",
       "      <td>MSP-Conversation_0021</td>\n",
       "      <td>and who started the Soweto business section.</td>\n",
       "      <td>[293, 567, 1409, 264, 48644, 19515, 1606, 3541...</td>\n",
       "      <td>7</td>\n",
       "      <td>3.0</td>\n",
       "      <td>[26.283004629131234, 34.07772544586788, 32.202...</td>\n",
       "      <td>joy</td>\n",
       "    </tr>\n",
       "    <tr>\n",
       "      <th>405</th>\n",
       "      <td>4</td>\n",
       "      <td>MSP-Conversation_0021</td>\n",
       "      <td>How long ago was that?</td>\n",
       "      <td>[1012, 938, 2057, 390, 300, 30]</td>\n",
       "      <td>5</td>\n",
       "      <td>4.0</td>\n",
       "      <td>[27.692511860832894, 31.18817035670357, 30.649...</td>\n",
       "      <td>joy</td>\n",
       "    </tr>\n",
       "    <tr>\n",
       "      <th>406</th>\n",
       "      <td>5</td>\n",
       "      <td>MSP-Conversation_0021</td>\n",
       "      <td>It was a year after I'd returned from Harvard.</td>\n",
       "      <td>[467, 390, 257, 1064, 934, 286, 1116, 8752, 49...</td>\n",
       "      <td>9</td>\n",
       "      <td>5.0</td>\n",
       "      <td>[16.63573400250941, 12.879463613550815, 12.705...</td>\n",
       "      <td>neutral</td>\n",
       "    </tr>\n",
       "  </tbody>\n",
       "</table>\n",
       "</div>"
      ],
      "text/plain": [
       "     id                  Audio  \\\n",
       "402   1  MSP-Conversation_0021   \n",
       "403   2  MSP-Conversation_0021   \n",
       "404   3  MSP-Conversation_0021   \n",
       "405   4  MSP-Conversation_0021   \n",
       "406   5  MSP-Conversation_0021   \n",
       "\n",
       "                                                  Text  \\\n",
       "402                Tommy Mazwai joins me this evening.   \n",
       "403   Tommy Mazwai, who was the day editor at the S...   \n",
       "404       and who started the Soweto business section.   \n",
       "405                             How long ago was that?   \n",
       "406     It was a year after I'd returned from Harvard.   \n",
       "\n",
       "                                                Tokens  num_words  indice  \\\n",
       "402  [19448, 28568, 86, 1301, 24397, 385, 341, 5634...          6     1.0   \n",
       "403  [19448, 28568, 86, 1301, 11, 567, 390, 264, 78...         10     2.0   \n",
       "404  [293, 567, 1409, 264, 48644, 19515, 1606, 3541...          7     3.0   \n",
       "405                    [1012, 938, 2057, 390, 300, 30]          5     4.0   \n",
       "406  [467, 390, 257, 1064, 934, 286, 1116, 8752, 49...          9     5.0   \n",
       "\n",
       "                                               targets   Target  \n",
       "402  [22.434153132250582, 25.742998839907195, 27.96...  neutral  \n",
       "403  [24.9327970320278, 28.68542406311637, 29.61763...  neutral  \n",
       "404  [26.283004629131234, 34.07772544586788, 32.202...      joy  \n",
       "405  [27.692511860832894, 31.18817035670357, 30.649...      joy  \n",
       "406  [16.63573400250941, 12.879463613550815, 12.705...  neutral  "
      ]
     },
     "execution_count": 10,
     "metadata": {},
     "output_type": "execute_result"
    }
   ],
   "source": [
    "with open(f'data/MODELS/v1/objetivos.json', 'r') as f: objetivos = json.load(f)\n",
    "\n",
    "df_objetivos = pd.DataFrame()\n",
    "\n",
    "for _key in objetivos:\n",
    "    df_temp = pd.DataFrame({'Audio': _key[:21], 'indice': objetivos[_key]['indice'], 'targets': objetivos[_key]['targets']})\n",
    "    df_objetivos = pd.concat([df_temp, df_objetivos])\n",
    "\n",
    "# Just in case para merge\n",
    "df_texto['id'] = df_texto['id'].astype(int)\n",
    "\n",
    "df_final = pd.merge(df_texto, df_objetivos, how = 'left', right_on = ['Audio','indice'], left_on = ['Audio','id'])\n",
    "\n",
    "df_final = df_final.dropna(subset = 'targets')\n",
    "\n",
    "from src.traductores import obtener_emocion\n",
    "\n",
    "df_final['Target'] = [obtener_emocion(i[0],i[1],i[2], mapping = 'Ekman') for i in df_final['targets']]\n",
    "\n",
    "df_final.head()"
   ]
  },
  {
   "cell_type": "markdown",
   "id": "407d45ed-de68-4d54-8ee7-52180a193eb3",
   "metadata": {},
   "source": [
    "## Pre Procesado"
   ]
  },
  {
   "cell_type": "markdown",
   "id": "0e3fabe2-27c3-423d-8e85-994809986ec3",
   "metadata": {},
   "source": [
    "### Borramos outliers"
   ]
  },
  {
   "cell_type": "code",
   "execution_count": 20,
   "id": "f03e95be-8d3d-462e-87a4-1e421ef7ec29",
   "metadata": {},
   "outputs": [],
   "source": [
    "from tensorflow.keras.preprocessing.sequence import pad_sequences\n",
    "def convertir_strarray_a_array(filas):\n",
    "    x = []\n",
    "    for fila in filas:\n",
    "        fila = fila.replace('[','').replace(']','').split(',')\n",
    "        x.append([int(i) for i in fila])\n",
    "\n",
    "    return x\n",
    "\n",
    "df_final['Tokens'] = convertir_strarray_a_array(df_final['Tokens'])"
   ]
  },
  {
   "cell_type": "code",
   "execution_count": 21,
   "id": "fa1a6866-4a34-4181-9f19-673c4f286655",
   "metadata": {},
   "outputs": [],
   "source": [
    "df_final['Audio_Name'] = df_final['Audio'] + '.wav'\n",
    "\n",
    "df_final = pd.merge(df_final, \n",
    "                        df_annotations[['Audio_Name','Type']].drop_duplicates(), \n",
    "                        how = 'left', \n",
    "                        left_on = 'Audio_Name', \n",
    "                        right_on = 'Audio_Name')"
   ]
  },
  {
   "cell_type": "markdown",
   "id": "06c23b4e-b87c-455e-85cf-3d9d12a4c6eb",
   "metadata": {},
   "source": [
    "### Split"
   ]
  },
  {
   "cell_type": "code",
   "execution_count": null,
   "id": "15b6d249-dce8-4830-a0d7-5592a8d280e0",
   "metadata": {},
   "outputs": [],
   "source": [
    "from sklearn.preprocessing import StandardScaler, OneHotEncoder\n",
    "import numpy as np\n",
    "\n",
    "x_train = [i for i in df_final[df_final['Type'] == 'Train']['Tokens'].values]\n",
    "x_test = [i for i in df_final[df_final['Type'] == 'Test']['Tokens'].values]\n",
    "\n",
    "x_train = pad_sequences(x_train, padding='post',maxlen = df_final['num_words'].max())\n",
    "x_test = pad_sequences(x_test, padding='post',maxlen = df_final['num_words'].max())\n",
    "\n",
    "# Encoder de las emociones\n",
    "Y = df_final['Target'].values\n",
    "encoder = OneHotEncoder()\n",
    "encoder.fit(np.array(Y).reshape(-1,1))\n",
    "\n",
    "y_train = df_final[df_final['Type'] == 'Train']['Target'].values\n",
    "y_test = df_final[df_final['Type'] == 'Test']['Target'].values\n",
    "y_train = encoder.transform(np.array(y_train).reshape(-1,1)).toarray()\n",
    "y_test = encoder.transform(np.array(y_test).reshape(-1,1)).toarray()"
   ]
  },
  {
   "cell_type": "code",
   "execution_count": 59,
   "id": "d4719105-613e-4cba-9f9f-f44b0cd98cb3",
   "metadata": {},
   "outputs": [
    {
     "name": "stderr",
     "output_type": "stream",
     "text": [
      "C:\\Users\\Emanuel\\AppData\\Local\\Temp\\ipykernel_15032\\669385794.py:12: FutureWarning: \n",
      "\n",
      "Passing `palette` without assigning `hue` is deprecated and will be removed in v0.14.0. Assign the `x` variable to `hue` and set `legend=False` for the same effect.\n",
      "\n",
      "  bars = sns.barplot(x=categories, y=samples, palette='muted')\n"
     ]
    },
    {
     "data": {
      "image/png": "[encoded data removed]",
      "text/plain": [
       "<Figure size 800x600 with 1 Axes>"
      ]
     },
     "metadata": {},
     "output_type": "display_data"
    }
   ],
   "source": [
    "df_aggregated = df_final[df_final['Type'] == 'Test'].groupby('Target').count().reset_index()[['Target','id']]\n",
    "\n",
    "# Sample data\n",
    "categories = df_aggregated['Target'].values\n",
    "samples = df_aggregated['id'].values\n",
    "\n",
    "# Plotting with Seaborn\n",
    "sns.set_style('whitegrid')\n",
    "plt.figure(figsize=(8, 6))\n",
    "\n",
    "# Create barplot\n",
    "bars = sns.barplot(x=categories, y=samples, palette='muted')\n",
    "\n",
    "# Adding the counts on top of the bars\n",
    "for bar, count in zip(bars.patches, samples):\n",
    "    # Text coordinates (x, y)\n",
    "    text_x = bar.get_x() + bar.get_width() / 2\n",
    "    text_y = bar.get_height()\n",
    "    # Format the number to display on top of the bar\n",
    "    text = f'{count}'\n",
    "    # Display the count\n",
    "    plt.text(text_x, text_y, text, ha='center', va='bottom', fontsize=12)\n",
    "\n",
    "# Adding labels and title\n",
    "plt.xlabel('Categories', fontsize=14)\n",
    "plt.ylabel('Number of Samples', fontsize=14)\n",
    "plt.title('Distribución Test', fontsize=16)\n",
    "\n",
    "# Show plot\n",
    "plt.tight_layout()\n",
    "\n",
    "plt.savefig('barplot.png')\n",
    "plt.show()"
   ]
  },
  {
   "cell_type": "markdown",
   "id": "8f680e5b-2653-4407-8d6d-5fab3aaf5fd6",
   "metadata": {},
   "source": [
    "## Entrenamiento"
   ]
  },
  {
   "cell_type": "code",
   "execution_count": 37,
   "id": "1070e462-b7fd-4ade-9f52-d01b43eac013",
   "metadata": {
    "scrolled": true
   },
   "outputs": [
    {
     "name": "stdout",
     "output_type": "stream",
     "text": [
      "Epoch 1/50\n",
      "1563/1563 [==============================] - 11s 6ms/step - loss: 1.0146 - accuracy: 0.6654 - val_loss: 1.0152 - val_accuracy: 0.6712\n",
      "Epoch 2/50\n",
      "1563/1563 [==============================] - 10s 6ms/step - loss: 0.9441 - accuracy: 0.6700 - val_loss: 1.0320 - val_accuracy: 0.6555\n",
      "Epoch 3/50\n",
      "1563/1563 [==============================] - 10s 6ms/step - loss: 0.8649 - accuracy: 0.6946 - val_loss: 1.0923 - val_accuracy: 0.6549\n",
      "Epoch 4/50\n",
      "1563/1563 [==============================] - 9s 6ms/step - loss: 0.7953 - accuracy: 0.7161 - val_loss: 1.1384 - val_accuracy: 0.6294\n",
      "Epoch 5/50\n",
      "1563/1563 [==============================] - 9s 6ms/step - loss: 0.7454 - accuracy: 0.7296 - val_loss: 1.1951 - val_accuracy: 0.6097\n",
      "Epoch 6/50\n",
      "1563/1563 [==============================] - 12s 8ms/step - loss: 0.7081 - accuracy: 0.7397 - val_loss: 1.2463 - val_accuracy: 0.6222\n",
      "Epoch 7/50\n",
      "1563/1563 [==============================] - 8s 5ms/step - loss: 0.6845 - accuracy: 0.7452 - val_loss: 1.3217 - val_accuracy: 0.5939\n",
      "Epoch 8/50\n",
      "1563/1563 [==============================] - 8s 5ms/step - loss: 0.6654 - accuracy: 0.7514 - val_loss: 1.3488 - val_accuracy: 0.6117\n",
      "Epoch 9/50\n",
      "1563/1563 [==============================] - 8s 5ms/step - loss: 0.6483 - accuracy: 0.7571 - val_loss: 1.3675 - val_accuracy: 0.6228\n",
      "Epoch 10/50\n",
      "1563/1563 [==============================] - 8s 5ms/step - loss: 0.6327 - accuracy: 0.7615 - val_loss: 1.4926 - val_accuracy: 0.6020\n",
      "Epoch 11/50\n",
      "1563/1563 [==============================] - 8s 5ms/step - loss: 0.6169 - accuracy: 0.7667 - val_loss: 1.6001 - val_accuracy: 0.6011\n",
      "Epoch 12/50\n",
      "1563/1563 [==============================] - 8s 5ms/step - loss: 0.6025 - accuracy: 0.7725 - val_loss: 1.5810 - val_accuracy: 0.6214\n",
      "Epoch 13/50\n",
      "1563/1563 [==============================] - 8s 5ms/step - loss: 0.5883 - accuracy: 0.7771 - val_loss: 1.8981 - val_accuracy: 0.6136\n",
      "Epoch 14/50\n",
      "1563/1563 [==============================] - 8s 5ms/step - loss: 0.5742 - accuracy: 0.7814 - val_loss: 1.8023 - val_accuracy: 0.5960\n",
      "Epoch 15/50\n",
      "1563/1563 [==============================] - 8s 5ms/step - loss: 0.5613 - accuracy: 0.7855 - val_loss: 2.0739 - val_accuracy: 0.5913\n",
      "Epoch 16/50\n",
      "1563/1563 [==============================] - 8s 5ms/step - loss: 0.5483 - accuracy: 0.7908 - val_loss: 2.1122 - val_accuracy: 0.6110\n",
      "Epoch 17/50\n",
      "1563/1563 [==============================] - 8s 5ms/step - loss: 0.5359 - accuracy: 0.7956 - val_loss: 2.2997 - val_accuracy: 0.6034\n",
      "Epoch 18/50\n",
      "1563/1563 [==============================] - 8s 5ms/step - loss: 0.5231 - accuracy: 0.7997 - val_loss: 2.4451 - val_accuracy: 0.6036\n",
      "Epoch 19/50\n",
      "1563/1563 [==============================] - 8s 5ms/step - loss: 0.5129 - accuracy: 0.8019 - val_loss: 2.4217 - val_accuracy: 0.5986\n",
      "Epoch 20/50\n",
      "1563/1563 [==============================] - 9s 6ms/step - loss: 0.5027 - accuracy: 0.8069 - val_loss: 2.7414 - val_accuracy: 0.5866\n",
      "Epoch 21/50\n",
      "1563/1563 [==============================] - 8s 5ms/step - loss: 0.4906 - accuracy: 0.8107 - val_loss: 2.6564 - val_accuracy: 0.6069\n",
      "Epoch 22/50\n",
      "1563/1563 [==============================] - 8s 5ms/step - loss: 0.4822 - accuracy: 0.8138 - val_loss: 2.9049 - val_accuracy: 0.5861\n",
      "Epoch 23/50\n",
      "1563/1563 [==============================] - 8s 5ms/step - loss: 0.4733 - accuracy: 0.8169 - val_loss: 2.9794 - val_accuracy: 0.5893\n",
      "Epoch 24/50\n",
      "1563/1563 [==============================] - 8s 5ms/step - loss: 0.4643 - accuracy: 0.8211 - val_loss: 3.0911 - val_accuracy: 0.5799\n",
      "Epoch 25/50\n",
      "1563/1563 [==============================] - 8s 5ms/step - loss: 0.4556 - accuracy: 0.8235 - val_loss: 3.2588 - val_accuracy: 0.6098\n",
      "Epoch 26/50\n",
      "1563/1563 [==============================] - 8s 5ms/step - loss: 0.4496 - accuracy: 0.8259 - val_loss: 3.3401 - val_accuracy: 0.5962\n",
      "Epoch 27/50\n",
      "1563/1563 [==============================] - 8s 5ms/step - loss: 0.4416 - accuracy: 0.8290 - val_loss: 3.5018 - val_accuracy: 0.5719\n",
      "Epoch 28/50\n",
      "1563/1563 [==============================] - 8s 5ms/step - loss: 0.4377 - accuracy: 0.8313 - val_loss: 3.9282 - val_accuracy: 0.5762\n",
      "Epoch 29/50\n",
      "1563/1563 [==============================] - 9s 5ms/step - loss: 0.4316 - accuracy: 0.8339 - val_loss: 3.6917 - val_accuracy: 0.5778\n",
      "Epoch 30/50\n",
      "1563/1563 [==============================] - 8s 5ms/step - loss: 0.4255 - accuracy: 0.8362 - val_loss: 3.7838 - val_accuracy: 0.6007\n",
      "Epoch 31/50\n",
      "1563/1563 [==============================] - 8s 5ms/step - loss: 0.4170 - accuracy: 0.8399 - val_loss: 4.2495 - val_accuracy: 0.5841\n",
      "Epoch 32/50\n",
      "1563/1563 [==============================] - 8s 5ms/step - loss: 0.4159 - accuracy: 0.8400 - val_loss: 4.2773 - val_accuracy: 0.5781\n",
      "Epoch 33/50\n",
      "1563/1563 [==============================] - 8s 5ms/step - loss: 0.4080 - accuracy: 0.8426 - val_loss: 4.2304 - val_accuracy: 0.5880\n",
      "Epoch 34/50\n",
      "1563/1563 [==============================] - 8s 5ms/step - loss: 0.4005 - accuracy: 0.8447 - val_loss: 4.6212 - val_accuracy: 0.5686\n",
      "Epoch 35/50\n",
      "1563/1563 [==============================] - 8s 5ms/step - loss: 0.3986 - accuracy: 0.8464 - val_loss: 4.5539 - val_accuracy: 0.5735\n",
      "Epoch 36/50\n",
      "1563/1563 [==============================] - 8s 5ms/step - loss: 0.3945 - accuracy: 0.8484 - val_loss: 4.8201 - val_accuracy: 0.5573\n",
      "Epoch 37/50\n",
      "1563/1563 [==============================] - 8s 5ms/step - loss: 0.3917 - accuracy: 0.8499 - val_loss: 4.6296 - val_accuracy: 0.5821\n",
      "Epoch 38/50\n",
      "1563/1563 [==============================] - 8s 5ms/step - loss: 0.3816 - accuracy: 0.8522 - val_loss: 4.9278 - val_accuracy: 0.5822\n",
      "Epoch 39/50\n",
      "1563/1563 [==============================] - 8s 5ms/step - loss: 0.3812 - accuracy: 0.8530 - val_loss: 5.1023 - val_accuracy: 0.5736\n",
      "Epoch 40/50\n",
      "1563/1563 [==============================] - 8s 5ms/step - loss: 0.3762 - accuracy: 0.8547 - val_loss: 5.2522 - val_accuracy: 0.5768\n",
      "Epoch 41/50\n",
      "1563/1563 [==============================] - 8s 5ms/step - loss: 0.3745 - accuracy: 0.8545 - val_loss: 5.2593 - val_accuracy: 0.5758\n",
      "Epoch 42/50\n",
      "1563/1563 [==============================] - 8s 5ms/step - loss: 0.3694 - accuracy: 0.8567 - val_loss: 5.3903 - val_accuracy: 0.5757\n",
      "Epoch 43/50\n",
      "1563/1563 [==============================] - 8s 5ms/step - loss: 0.3649 - accuracy: 0.8591 - val_loss: 5.3896 - val_accuracy: 0.5665\n",
      "Epoch 44/50\n",
      "1563/1563 [==============================] - 8s 5ms/step - loss: 0.3658 - accuracy: 0.8583 - val_loss: 5.3606 - val_accuracy: 0.5810\n",
      "Epoch 45/50\n",
      "1563/1563 [==============================] - 8s 5ms/step - loss: 0.3588 - accuracy: 0.8608 - val_loss: 5.4196 - val_accuracy: 0.5742\n",
      "Epoch 46/50\n",
      "1563/1563 [==============================] - 8s 5ms/step - loss: 0.3546 - accuracy: 0.8619 - val_loss: 6.0664 - val_accuracy: 0.5581\n",
      "Epoch 47/50\n",
      "1563/1563 [==============================] - 8s 5ms/step - loss: 0.3595 - accuracy: 0.8604 - val_loss: 5.7817 - val_accuracy: 0.5663\n",
      "Epoch 48/50\n",
      "1563/1563 [==============================] - 9s 5ms/step - loss: 0.3519 - accuracy: 0.8634 - val_loss: 5.7805 - val_accuracy: 0.5714\n",
      "Epoch 49/50\n",
      "1563/1563 [==============================] - 9s 6ms/step - loss: 0.3461 - accuracy: 0.8654 - val_loss: 6.0554 - val_accuracy: 0.5780\n",
      "Epoch 50/50\n",
      "1563/1563 [==============================] - 8s 5ms/step - loss: 0.3460 - accuracy: 0.8650 - val_loss: 6.0470 - val_accuracy: 0.5468\n"
     ]
    },
    {
     "data": {
      "text/plain": [
       "<keras.callbacks.History at 0x2286a584e20>"
      ]
     },
     "execution_count": 37,
     "metadata": {},
     "output_type": "execute_result"
    }
   ],
   "source": [
    "from keras.models import Sequential\n",
    "from keras.layers import Dense, Conv1D, MaxPooling1D, Flatten, Dropout, BatchNormalization, Embedding, GlobalAveragePooling1D\n",
    "from keras.callbacks import ReduceLROnPlateau, EarlyStopping\n",
    "\n",
    "model = Sequential()\n",
    "model.add(Embedding(input_dim = max_value, output_dim=16, input_length=x_train.shape[1]))\n",
    "model.add(GlobalAveragePooling1D())\n",
    "model.add(Dense(128, activation='relu'))\n",
    "model.add(Dense(128, activation='relu'))\n",
    "model.add(Dense(64, activation='relu'))\n",
    "model.add(Dense(y_train.shape[1], activation='softmax'))\n",
    "\n",
    "model.compile(optimizer='adam', loss='categorical_crossentropy', metrics=['accuracy'])\n",
    "\n",
    "# Train the model\n",
    "rlrp = ReduceLROnPlateau(monitor='val_loss', factor=0.4, verbose=0, patience=5, min_lr=0.0000001)\n",
    "es = EarlyStopping(monitor='val_loss', patience=50)\n",
    "model.fit(x_train, y_train, epochs= 50, validation_data=(x_test, y_test), callbacks=[es])"
   ]
  },
  {
   "cell_type": "code",
   "execution_count": 38,
   "id": "3167dec6-8a2c-486c-a3f7-82728ba26f13",
   "metadata": {},
   "outputs": [
    {
     "name": "stdout",
     "output_type": "stream",
     "text": [
      "650/650 [==============================] - 0s 596us/step - loss: 6.0470 - accuracy: 0.5468\n"
     ]
    },
    {
     "data": {
      "text/plain": [
       "[6.046952724456787, 0.5467750430107117]"
      ]
     },
     "execution_count": 38,
     "metadata": {},
     "output_type": "execute_result"
    }
   ],
   "source": [
    "model.evaluate(x_test, y_test)"
   ]
  },
  {
   "cell_type": "code",
   "execution_count": 100,
   "id": "7d05bbde-71bd-4d29-b362-fa3e57f79395",
   "metadata": {},
   "outputs": [
    {
     "name": "stdout",
     "output_type": "stream",
     "text": [
      "650/650 [==============================] - 0s 653us/step\n"
     ]
    }
   ],
   "source": [
    "# Requisito ya que tengo predicciones con None\n",
    "predicciones = encoder.inverse_transform(model.predict(x_test))\n",
    "realidad = encoder.inverse_transform(y_test)\n",
    "\n",
    "asd = pd.DataFrame()\n",
    "asd['Prediccion'] = predicciones[:,0]\n",
    "asd['Realidad'] = realidad[:,0]\n",
    "\n",
    "asd = asd[~asd['Prediccion'].isna()]\n",
    "asd = asd[~asd['Realidad'].isna()]"
   ]
  },
  {
   "cell_type": "code",
   "execution_count": 107,
   "id": "2746d577-932f-4445-a2f4-40527546dcbd",
   "metadata": {},
   "outputs": [
    {
     "data": {
      "text/plain": [
       "array(['neutral', 'joy', 'anger', 'disgust', 'surprise', 'sadness'],\n",
       "      dtype=object)"
      ]
     },
     "execution_count": 107,
     "metadata": {},
     "output_type": "execute_result"
    }
   ],
   "source": [
    "pd.concat([asd['Prediccion'],asd['Realidad']]).unique()"
   ]
  },
  {
   "cell_type": "code",
   "execution_count": 109,
   "id": "49cae6b9-b6bd-4812-8af4-ed990357bb95",
   "metadata": {},
   "outputs": [
    {
     "data": {
      "text/plain": [
       "[array(['anger', 'disgust', 'joy', 'neutral', 'sadness', 'surprise', None],\n",
       "       dtype=object)]"
      ]
     },
     "execution_count": 109,
     "metadata": {},
     "output_type": "execute_result"
    }
   ],
   "source": [
    "encoder.categories_"
   ]
  },
  {
   "cell_type": "code",
   "execution_count": 110,
   "id": "b5a207a9-bc72-4520-9075-2cd0c3bedbf2",
   "metadata": {},
   "outputs": [
    {
     "data": {
      "image/png": "[encoded data removed]",
      "text/plain": [
       "<Figure size 1800x1800 with 2 Axes>"
      ]
     },
     "metadata": {},
     "output_type": "display_data"
    }
   ],
   "source": [
    "from sklearn.metrics import confusion_matrix\n",
    "sns.set_theme(rc={'figure.figsize':(18,18)})\n",
    "cm = confusion_matrix(asd['Realidad'], asd['Prediccion'])\n",
    "cm = pd.DataFrame(cm , index = [i for i in ['anger', 'disgust', 'joy', 'neutral', 'sadness', 'surprise']] , columns = [i for i in['anger', 'disgust', 'joy', 'neutral', 'sadness', 'surprise']])\n",
    "sns_plot = sns.heatmap(cm, linecolor='white', cmap='Blues', linewidth=1, annot=True, fmt='')\n",
    "sns_plot.set_xlabel(\"Predicted Labels\")\n",
    "sns_plot.set_ylabel(\"Actual Labels\")\n",
    "plt.show()"
   ]
  }
 ],
 "metadata": {
  "hide_input": false,
  "kernelspec": {
   "display_name": "SER",
   "language": "python",
   "name": "ser"
  },
  "language_info": {
   "codemirror_mode": {
    "name": "ipython",
    "version": 3
   },
   "file_extension": ".py",
   "mimetype": "text/x-python",
   "name": "python",
   "nbconvert_exporter": "python",
   "pygments_lexer": "ipython3",
   "version": "3.9.16"
  },
  "toc": {
   "base_numbering": 1,
   "nav_menu": {},
   "number_sections": true,
   "sideBar": true,
   "skip_h1_title": false,
   "title_cell": "Table of Contents",
   "title_sidebar": "Contents",
   "toc_cell": false,
   "toc_position": {},
   "toc_section_display": true,
   "toc_window_display": true
  }
 },
 "nbformat": 4,
 "nbformat_minor": 5
}
