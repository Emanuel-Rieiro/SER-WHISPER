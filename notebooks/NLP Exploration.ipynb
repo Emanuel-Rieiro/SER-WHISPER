{
 "cells": [
  {
   "cell_type": "markdown",
   "id": "090472e0",
   "metadata": {},
   "source": [
    "### Imports"
   ]
  },
  {
   "cell_type": "code",
   "execution_count": 1,
   "id": "56430c10",
   "metadata": {},
   "outputs": [],
   "source": [
    "import os\n",
    "\n",
    "# Set current working directory to parent folder\n",
    "os.chdir(os.path.abspath(\"..\"))"
   ]
  },
  {
   "cell_type": "code",
   "execution_count": 3,
   "id": "8981b627",
   "metadata": {},
   "outputs": [],
   "source": [
    "import pandas as pd\n",
    "import json\n",
    "\n",
    "# Archivos importantes y paths\n",
    "df_annotations = pd.read_excel('data/annotations.xlsx')\n",
    "\n",
    "# Omitimos todos los audios en development\n",
    "df_annotations = df_annotations[df_annotations['Type'] != 'Development'].reset_index(drop = True)"
   ]
  },
  {
   "cell_type": "markdown",
   "id": "7e83a5f7",
   "metadata": {},
   "source": [
    "### WhisperTokenizer"
   ]
  },
  {
   "cell_type": "code",
   "execution_count": 2,
   "id": "9bd7505a",
   "metadata": {
    "scrolled": true
   },
   "outputs": [
    {
     "name": "stderr",
     "output_type": "stream",
     "text": [
      "C:\\Users\\emanu\\Anaconda3\\envs\\SER\\lib\\site-packages\\tqdm\\auto.py:21: TqdmWarning: IProgress not found. Please update jupyter and ipywidgets. See https://ipywidgets.readthedocs.io/en/stable/user_install.html\n",
      "  from .autonotebook import tqdm as notebook_tqdm\n",
      "Special tokens have been added in the vocabulary, make sure the associated word embeddings are fine-tuned or trained.\n"
     ]
    }
   ],
   "source": [
    "from transformers import WhisperTokenizer\n",
    "\n",
    "# Load the tokenizer\n",
    "tokenizer = WhisperTokenizer.from_pretrained(\"openai/whisper-large\")\n",
    "\n",
    "# Get all tokens\n",
    "all_tokens = tokenizer.get_vocab()\n",
    "\n",
    "# Get max value item\n",
    "max_value = max(zip(all_tokens.values(), all_tokens.keys()))[0]"
   ]
  },
  {
   "cell_type": "code",
   "execution_count": 4,
   "id": "60a65d2d",
   "metadata": {},
   "outputs": [],
   "source": [
    "df_texto = pd.DataFrame()\n",
    "\n",
    "df_texto.loc[0, 'id'] = 0\n",
    "\n",
    "for file in os.listdir('data/TRANSCRIPCIONES/WHISPER'):\n",
    "    with open(f'data/TRANSCRIPCIONES/WHISPER/{file}', 'r') as f: \n",
    "        data = json.load(f)\n",
    "    \n",
    "    start = max(df_texto.index)\n",
    "    \n",
    "    for i in range(len(data['segments'])):\n",
    "        df_texto.at[i + start, 'Audio'] = file[:-5]\n",
    "        df_texto.at[i + start, 'id'] = int(data['segments'][i]['id'])\n",
    "        df_texto.at[i + start, 'Text'] = data['segments'][i]['text']\n",
    "        df_texto.at[i + start, 'Tokens'] = str(data['segments'][i]['tokens'][1:-1])"
   ]
  },
  {
   "cell_type": "code",
   "execution_count": 5,
   "id": "08cb601d",
   "metadata": {
    "scrolled": true
   },
   "outputs": [
    {
     "data": {
      "text/html": [
       "<div>\n",
       "<style scoped>\n",
       "    .dataframe tbody tr th:only-of-type {\n",
       "        vertical-align: middle;\n",
       "    }\n",
       "\n",
       "    .dataframe tbody tr th {\n",
       "        vertical-align: top;\n",
       "    }\n",
       "\n",
       "    .dataframe thead th {\n",
       "        text-align: right;\n",
       "    }\n",
       "</style>\n",
       "<table border=\"1\" class=\"dataframe\">\n",
       "  <thead>\n",
       "    <tr style=\"text-align: right;\">\n",
       "      <th></th>\n",
       "      <th>id</th>\n",
       "      <th>Audio</th>\n",
       "      <th>Text</th>\n",
       "      <th>Tokens</th>\n",
       "    </tr>\n",
       "  </thead>\n",
       "  <tbody>\n",
       "    <tr>\n",
       "      <th>0</th>\n",
       "      <td>0.0</td>\n",
       "      <td>MSP-Conversation_0002</td>\n",
       "      <td>It's our honor to talk about important issues...</td>\n",
       "      <td>[467, 311, 527, 5968, 281, 751, 466, 1021, 266...</td>\n",
       "    </tr>\n",
       "    <tr>\n",
       "      <th>1</th>\n",
       "      <td>1.0</td>\n",
       "      <td>MSP-Conversation_0002</td>\n",
       "      <td>The foundation of our show, Heart of the Matt...</td>\n",
       "      <td>[440, 7030, 295, 527, 855, 11, 13569, 295, 264...</td>\n",
       "    </tr>\n",
       "    <tr>\n",
       "      <th>2</th>\n",
       "      <td>2.0</td>\n",
       "      <td>MSP-Conversation_0002</td>\n",
       "      <td>Important issues and why they should be on ou...</td>\n",
       "      <td>[42908, 2663, 293, 983, 436, 820, 312, 322, 52...</td>\n",
       "    </tr>\n",
       "    <tr>\n",
       "      <th>3</th>\n",
       "      <td>3.0</td>\n",
       "      <td>MSP-Conversation_0002</td>\n",
       "      <td>Looking at things as right versus wrong inste...</td>\n",
       "      <td>[11053, 412, 721, 382, 558, 5717, 2085, 2602, ...</td>\n",
       "    </tr>\n",
       "    <tr>\n",
       "      <th>4</th>\n",
       "      <td>4.0</td>\n",
       "      <td>MSP-Conversation_0002</td>\n",
       "      <td>And sharing stories with real people's experi...</td>\n",
       "      <td>[400, 5414, 3676, 365, 957, 561, 311, 5235, 37...</td>\n",
       "    </tr>\n",
       "  </tbody>\n",
       "</table>\n",
       "</div>"
      ],
      "text/plain": [
       "    id                  Audio  \\\n",
       "0  0.0  MSP-Conversation_0002   \n",
       "1  1.0  MSP-Conversation_0002   \n",
       "2  2.0  MSP-Conversation_0002   \n",
       "3  3.0  MSP-Conversation_0002   \n",
       "4  4.0  MSP-Conversation_0002   \n",
       "\n",
       "                                                Text  \\\n",
       "0   It's our honor to talk about important issues...   \n",
       "1   The foundation of our show, Heart of the Matt...   \n",
       "2   Important issues and why they should be on ou...   \n",
       "3   Looking at things as right versus wrong inste...   \n",
       "4   And sharing stories with real people's experi...   \n",
       "\n",
       "                                              Tokens  \n",
       "0  [467, 311, 527, 5968, 281, 751, 466, 1021, 266...  \n",
       "1  [440, 7030, 295, 527, 855, 11, 13569, 295, 264...  \n",
       "2  [42908, 2663, 293, 983, 436, 820, 312, 322, 52...  \n",
       "3  [11053, 412, 721, 382, 558, 5717, 2085, 2602, ...  \n",
       "4  [400, 5414, 3676, 365, 957, 561, 311, 5235, 37...  "
      ]
     },
     "execution_count": 5,
     "metadata": {},
     "output_type": "execute_result"
    }
   ],
   "source": [
    "df_texto.head()"
   ]
  },
  {
   "cell_type": "code",
   "execution_count": 5,
   "id": "34e94d54",
   "metadata": {},
   "outputs": [],
   "source": [
    "# Agregamos cantidad de palabras\n",
    "df_texto['num_words'] = df_texto['Text'].apply(lambda x:len(str(x).split()))"
   ]
  },
  {
   "cell_type": "code",
   "execution_count": 6,
   "id": "1406fc77",
   "metadata": {},
   "outputs": [
    {
     "data": {
      "text/html": [
       "<div>\n",
       "<style scoped>\n",
       "    .dataframe tbody tr th:only-of-type {\n",
       "        vertical-align: middle;\n",
       "    }\n",
       "\n",
       "    .dataframe tbody tr th {\n",
       "        vertical-align: top;\n",
       "    }\n",
       "\n",
       "    .dataframe thead th {\n",
       "        text-align: right;\n",
       "    }\n",
       "</style>\n",
       "<table border=\"1\" class=\"dataframe\">\n",
       "  <thead>\n",
       "    <tr style=\"text-align: right;\">\n",
       "      <th></th>\n",
       "      <th>id</th>\n",
       "      <th>Audio</th>\n",
       "      <th>Text</th>\n",
       "      <th>Tokens</th>\n",
       "      <th>num_words</th>\n",
       "    </tr>\n",
       "  </thead>\n",
       "  <tbody>\n",
       "    <tr>\n",
       "      <th>0</th>\n",
       "      <td>0.0</td>\n",
       "      <td>MSP-Conversation_0002</td>\n",
       "      <td>It's our honor to talk about important issues...</td>\n",
       "      <td>[467, 311, 527, 5968, 281, 751, 466, 1021, 266...</td>\n",
       "      <td>16</td>\n",
       "    </tr>\n",
       "    <tr>\n",
       "      <th>1</th>\n",
       "      <td>1.0</td>\n",
       "      <td>MSP-Conversation_0002</td>\n",
       "      <td>The foundation of our show, Heart of the Matt...</td>\n",
       "      <td>[440, 7030, 295, 527, 855, 11, 13569, 295, 264...</td>\n",
       "      <td>13</td>\n",
       "    </tr>\n",
       "    <tr>\n",
       "      <th>2</th>\n",
       "      <td>2.0</td>\n",
       "      <td>MSP-Conversation_0002</td>\n",
       "      <td>Important issues and why they should be on ou...</td>\n",
       "      <td>[42908, 2663, 293, 983, 436, 820, 312, 322, 52...</td>\n",
       "      <td>11</td>\n",
       "    </tr>\n",
       "    <tr>\n",
       "      <th>3</th>\n",
       "      <td>3.0</td>\n",
       "      <td>MSP-Conversation_0002</td>\n",
       "      <td>Looking at things as right versus wrong inste...</td>\n",
       "      <td>[11053, 412, 721, 382, 558, 5717, 2085, 2602, ...</td>\n",
       "      <td>12</td>\n",
       "    </tr>\n",
       "    <tr>\n",
       "      <th>4</th>\n",
       "      <td>4.0</td>\n",
       "      <td>MSP-Conversation_0002</td>\n",
       "      <td>And sharing stories with real people's experi...</td>\n",
       "      <td>[400, 5414, 3676, 365, 957, 561, 311, 5235, 37...</td>\n",
       "      <td>19</td>\n",
       "    </tr>\n",
       "  </tbody>\n",
       "</table>\n",
       "</div>"
      ],
      "text/plain": [
       "    id                  Audio  \\\n",
       "0  0.0  MSP-Conversation_0002   \n",
       "1  1.0  MSP-Conversation_0002   \n",
       "2  2.0  MSP-Conversation_0002   \n",
       "3  3.0  MSP-Conversation_0002   \n",
       "4  4.0  MSP-Conversation_0002   \n",
       "\n",
       "                                                Text  \\\n",
       "0   It's our honor to talk about important issues...   \n",
       "1   The foundation of our show, Heart of the Matt...   \n",
       "2   Important issues and why they should be on ou...   \n",
       "3   Looking at things as right versus wrong inste...   \n",
       "4   And sharing stories with real people's experi...   \n",
       "\n",
       "                                              Tokens  num_words  \n",
       "0  [467, 311, 527, 5968, 281, 751, 466, 1021, 266...         16  \n",
       "1  [440, 7030, 295, 527, 855, 11, 13569, 295, 264...         13  \n",
       "2  [42908, 2663, 293, 983, 436, 820, 312, 322, 52...         11  \n",
       "3  [11053, 412, 721, 382, 558, 5717, 2085, 2602, ...         12  \n",
       "4  [400, 5414, 3676, 365, 957, 561, 311, 5235, 37...         19  "
      ]
     },
     "execution_count": 6,
     "metadata": {},
     "output_type": "execute_result"
    }
   ],
   "source": [
    "df_texto.head()"
   ]
  },
  {
   "cell_type": "code",
   "execution_count": 11,
   "id": "14324d48",
   "metadata": {},
   "outputs": [
    {
     "data": {
      "text/html": [
       "<div>\n",
       "<style scoped>\n",
       "    .dataframe tbody tr th:only-of-type {\n",
       "        vertical-align: middle;\n",
       "    }\n",
       "\n",
       "    .dataframe tbody tr th {\n",
       "        vertical-align: top;\n",
       "    }\n",
       "\n",
       "    .dataframe thead th {\n",
       "        text-align: right;\n",
       "    }\n",
       "</style>\n",
       "<table border=\"1\" class=\"dataframe\">\n",
       "  <thead>\n",
       "    <tr style=\"text-align: right;\">\n",
       "      <th></th>\n",
       "      <th>id</th>\n",
       "      <th>Audio</th>\n",
       "      <th>Text</th>\n",
       "      <th>Tokens</th>\n",
       "      <th>num_words</th>\n",
       "    </tr>\n",
       "  </thead>\n",
       "  <tbody>\n",
       "    <tr>\n",
       "      <th>81381</th>\n",
       "      <td>726.0</td>\n",
       "      <td>MSP-Conversation_2281</td>\n",
       "      <td></td>\n",
       "      <td>[]</td>\n",
       "      <td>0</td>\n",
       "    </tr>\n",
       "    <tr>\n",
       "      <th>12617</th>\n",
       "      <td>74.0</td>\n",
       "      <td>MSP-Conversation_0190</td>\n",
       "      <td>Maybe.</td>\n",
       "      <td>[2704, 13]</td>\n",
       "      <td>1</td>\n",
       "    </tr>\n",
       "    <tr>\n",
       "      <th>13241</th>\n",
       "      <td>51.0</td>\n",
       "      <td>MSP-Conversation_0201</td>\n",
       "      <td>Yeah.</td>\n",
       "      <td>[865, 13]</td>\n",
       "      <td>1</td>\n",
       "    </tr>\n",
       "    <tr>\n",
       "      <th>13242</th>\n",
       "      <td>52.0</td>\n",
       "      <td>MSP-Conversation_0201</td>\n",
       "      <td>Yeah.</td>\n",
       "      <td>[865, 13]</td>\n",
       "      <td>1</td>\n",
       "    </tr>\n",
       "    <tr>\n",
       "      <th>67926</th>\n",
       "      <td>140.0</td>\n",
       "      <td>MSP-Conversation_1630</td>\n",
       "      <td>Shameful.</td>\n",
       "      <td>[46835, 906, 13]</td>\n",
       "      <td>1</td>\n",
       "    </tr>\n",
       "    <tr>\n",
       "      <th>...</th>\n",
       "      <td>...</td>\n",
       "      <td>...</td>\n",
       "      <td>...</td>\n",
       "      <td>...</td>\n",
       "      <td>...</td>\n",
       "    </tr>\n",
       "    <tr>\n",
       "      <th>35700</th>\n",
       "      <td>41.0</td>\n",
       "      <td>MSP-Conversation_0646</td>\n",
       "      <td>Left, right, center, government, paramilitari...</td>\n",
       "      <td>[16405, 11, 558, 11, 3056, 11, 2463, 11, 6220,...</td>\n",
       "      <td>86</td>\n",
       "    </tr>\n",
       "    <tr>\n",
       "      <th>12313</th>\n",
       "      <td>79.0</td>\n",
       "      <td>MSP-Conversation_0183</td>\n",
       "      <td>of that so we you're going to go next sure So...</td>\n",
       "      <td>[295, 300, 370, 321, 291, 434, 516, 281, 352, ...</td>\n",
       "      <td>86</td>\n",
       "    </tr>\n",
       "    <tr>\n",
       "      <th>71720</th>\n",
       "      <td>98.0</td>\n",
       "      <td>MSP-Conversation_1917</td>\n",
       "      <td>Yeah, exactly. Exactly. And I'm glad that we'...</td>\n",
       "      <td>[865, 11, 2293, 13, 7587, 13, 400, 286, 478, 5...</td>\n",
       "      <td>88</td>\n",
       "    </tr>\n",
       "    <tr>\n",
       "      <th>9259</th>\n",
       "      <td>17.0</td>\n",
       "      <td>MSP-Conversation_0147</td>\n",
       "      <td>example, I'm a conservative, but I'm also a c...</td>\n",
       "      <td>[1365, 11, 286, 478, 257, 13780, 11, 457, 286,...</td>\n",
       "      <td>94</td>\n",
       "    </tr>\n",
       "    <tr>\n",
       "      <th>71724</th>\n",
       "      <td>102.0</td>\n",
       "      <td>MSP-Conversation_1917</td>\n",
       "      <td>If I talk about this, is anyone going to beli...</td>\n",
       "      <td>[759, 286, 751, 466, 341, 11, 307, 2878, 516, ...</td>\n",
       "      <td>100</td>\n",
       "    </tr>\n",
       "  </tbody>\n",
       "</table>\n",
       "<p>81692 rows × 5 columns</p>\n",
       "</div>"
      ],
      "text/plain": [
       "          id                  Audio  \\\n",
       "81381  726.0  MSP-Conversation_2281   \n",
       "12617   74.0  MSP-Conversation_0190   \n",
       "13241   51.0  MSP-Conversation_0201   \n",
       "13242   52.0  MSP-Conversation_0201   \n",
       "67926  140.0  MSP-Conversation_1630   \n",
       "...      ...                    ...   \n",
       "35700   41.0  MSP-Conversation_0646   \n",
       "12313   79.0  MSP-Conversation_0183   \n",
       "71720   98.0  MSP-Conversation_1917   \n",
       "9259    17.0  MSP-Conversation_0147   \n",
       "71724  102.0  MSP-Conversation_1917   \n",
       "\n",
       "                                                    Text  \\\n",
       "81381                                                      \n",
       "12617                                             Maybe.   \n",
       "13241                                              Yeah.   \n",
       "13242                                              Yeah.   \n",
       "67926                                          Shameful.   \n",
       "...                                                  ...   \n",
       "35700   Left, right, center, government, paramilitari...   \n",
       "12313   of that so we you're going to go next sure So...   \n",
       "71720   Yeah, exactly. Exactly. And I'm glad that we'...   \n",
       "9259    example, I'm a conservative, but I'm also a c...   \n",
       "71724   If I talk about this, is anyone going to beli...   \n",
       "\n",
       "                                                  Tokens  num_words  \n",
       "81381                                                 []          0  \n",
       "12617                                         [2704, 13]          1  \n",
       "13241                                          [865, 13]          1  \n",
       "13242                                          [865, 13]          1  \n",
       "67926                                   [46835, 906, 13]          1  \n",
       "...                                                  ...        ...  \n",
       "35700  [16405, 11, 558, 11, 3056, 11, 2463, 11, 6220,...         86  \n",
       "12313  [295, 300, 370, 321, 291, 434, 516, 281, 352, ...         86  \n",
       "71720  [865, 11, 2293, 13, 7587, 13, 400, 286, 478, 5...         88  \n",
       "9259   [1365, 11, 286, 478, 257, 13780, 11, 457, 286,...         94  \n",
       "71724  [759, 286, 751, 466, 341, 11, 307, 2878, 516, ...        100  \n",
       "\n",
       "[81692 rows x 5 columns]"
      ]
     },
     "execution_count": 11,
     "metadata": {},
     "output_type": "execute_result"
    }
   ],
   "source": [
    "df_texto.sort_values(by = 'num_words')"
   ]
  },
  {
   "cell_type": "code",
   "execution_count": 13,
   "id": "5c6b5414",
   "metadata": {
    "scrolled": true
   },
   "outputs": [
    {
     "data": {
      "text/plain": [
       "\" If I talk about this, is anyone going to believe me? You know, am I going to get in trouble for this? Is this going to be blamed on me? Like, all those thoughts go through somebody's head. And the abusers have ways of like, subtly instilling those thoughts, or at least invoking them, that, like invoking the thoughts that people absorb from just general culture and society. Like, society and culture teach you how to gaslight yourself almost into thinking that you weren't actually victimized, or even if you were, no one's going to get in trouble for you.\""
      ]
     },
     "execution_count": 13,
     "metadata": {},
     "output_type": "execute_result"
    }
   ],
   "source": [
    "df_texto.iloc[71724].Text"
   ]
  },
  {
   "cell_type": "code",
   "execution_count": 10,
   "id": "75c1d60e",
   "metadata": {},
   "outputs": [
    {
     "data": {
      "text/plain": [
       "100"
      ]
     },
     "execution_count": 10,
     "metadata": {},
     "output_type": "execute_result"
    }
   ],
   "source": [
    "max(df_texto['num_words'])"
   ]
  },
  {
   "cell_type": "markdown",
   "id": "385d52c9",
   "metadata": {},
   "source": [
    "### Distribuciones"
   ]
  },
  {
   "cell_type": "code",
   "execution_count": 7,
   "id": "4d609904",
   "metadata": {},
   "outputs": [],
   "source": [
    "import seaborn as sns\n",
    "import matplotlib.pyplot as plt"
   ]
  },
  {
   "cell_type": "code",
   "execution_count": 23,
   "id": "9abdacb2",
   "metadata": {},
   "outputs": [
    {
     "data": {
      "text/plain": [
       "<seaborn.axisgrid.FacetGrid at 0x146a255cca0>"
      ]
     },
     "execution_count": 23,
     "metadata": {},
     "output_type": "execute_result"
    },
    {
     "data": {
      "image/png": "[encoded data removed]",
      "text/plain": [
       "<Figure size 500x500 with 1 Axes>"
      ]
     },
     "metadata": {},
     "output_type": "display_data"
    }
   ],
   "source": [
    "sns.displot(df_texto['num_words'])"
   ]
  },
  {
   "cell_type": "code",
   "execution_count": 19,
   "id": "b354f09f",
   "metadata": {},
   "outputs": [
    {
     "data": {
      "text/plain": [
       "<seaborn.axisgrid.FacetGrid at 0x146a2564fd0>"
      ]
     },
     "execution_count": 19,
     "metadata": {},
     "output_type": "execute_result"
    },
    {
     "data": {
      "image/png": "[encoded data removed]",
      "text/plain": [
       "<Figure size 500x500 with 1 Axes>"
      ]
     },
     "metadata": {},
     "output_type": "display_data"
    }
   ],
   "source": [
    "q = df_texto['num_words'].quantile(0.98)\n",
    "df_q = df_texto[df_texto['num_words'] <= q]\n",
    "\n",
    "sns.displot(df_q['num_words'])"
   ]
  },
  {
   "cell_type": "code",
   "execution_count": 22,
   "id": "58c28a9e",
   "metadata": {},
   "outputs": [
    {
     "data": {
      "text/html": [
       "<div>\n",
       "<style scoped>\n",
       "    .dataframe tbody tr th:only-of-type {\n",
       "        vertical-align: middle;\n",
       "    }\n",
       "\n",
       "    .dataframe tbody tr th {\n",
       "        vertical-align: top;\n",
       "    }\n",
       "\n",
       "    .dataframe thead th {\n",
       "        text-align: right;\n",
       "    }\n",
       "</style>\n",
       "<table border=\"1\" class=\"dataframe\">\n",
       "  <thead>\n",
       "    <tr style=\"text-align: right;\">\n",
       "      <th></th>\n",
       "      <th>id</th>\n",
       "      <th>Audio</th>\n",
       "      <th>Text</th>\n",
       "      <th>Tokens</th>\n",
       "      <th>num_words</th>\n",
       "    </tr>\n",
       "  </thead>\n",
       "  <tbody>\n",
       "    <tr>\n",
       "      <th>10</th>\n",
       "      <td>10.0</td>\n",
       "      <td>MSP-Conversation_0002</td>\n",
       "      <td>Our website is Americhicks.com.</td>\n",
       "      <td>[2621, 3144, 307, 22597, 480, 7663, 13, 1112, 13]</td>\n",
       "      <td>4</td>\n",
       "    </tr>\n",
       "    <tr>\n",
       "      <th>31</th>\n",
       "      <td>31.0</td>\n",
       "      <td>MSP-Conversation_0002</td>\n",
       "      <td>I'll let you know.</td>\n",
       "      <td>[286, 603, 718, 291, 458, 13]</td>\n",
       "      <td>4</td>\n",
       "    </tr>\n",
       "    <tr>\n",
       "      <th>74</th>\n",
       "      <td>74.0</td>\n",
       "      <td>MSP-Conversation_0002</td>\n",
       "      <td>I got a question.</td>\n",
       "      <td>[286, 658, 257, 1168, 13]</td>\n",
       "      <td>4</td>\n",
       "    </tr>\n",
       "    <tr>\n",
       "      <th>173</th>\n",
       "      <td>173.0</td>\n",
       "      <td>MSP-Conversation_0002</td>\n",
       "      <td>I had a feeling.</td>\n",
       "      <td>[286, 632, 257, 2633, 13]</td>\n",
       "      <td>4</td>\n",
       "    </tr>\n",
       "    <tr>\n",
       "      <th>186</th>\n",
       "      <td>186.0</td>\n",
       "      <td>MSP-Conversation_0002</td>\n",
       "      <td>So here it is.</td>\n",
       "      <td>[407, 510, 309, 307, 13]</td>\n",
       "      <td>4</td>\n",
       "    </tr>\n",
       "    <tr>\n",
       "      <th>...</th>\n",
       "      <td>...</td>\n",
       "      <td>...</td>\n",
       "      <td>...</td>\n",
       "      <td>...</td>\n",
       "      <td>...</td>\n",
       "    </tr>\n",
       "    <tr>\n",
       "      <th>81668</th>\n",
       "      <td>1013.0</td>\n",
       "      <td>MSP-Conversation_2281</td>\n",
       "      <td>clearly burned fur cat</td>\n",
       "      <td>[4448, 13490, 2687, 3857]</td>\n",
       "      <td>4</td>\n",
       "    </tr>\n",
       "    <tr>\n",
       "      <th>81673</th>\n",
       "      <td>1018.0</td>\n",
       "      <td>MSP-Conversation_2281</td>\n",
       "      <td>because the cat's like,</td>\n",
       "      <td>[570, 264, 3857, 311, 411, 11]</td>\n",
       "      <td>4</td>\n",
       "    </tr>\n",
       "    <tr>\n",
       "      <th>81689</th>\n",
       "      <td>1034.0</td>\n",
       "      <td>MSP-Conversation_2281</td>\n",
       "      <td>like even the music</td>\n",
       "      <td>[411, 754, 264, 1318]</td>\n",
       "      <td>4</td>\n",
       "    </tr>\n",
       "    <tr>\n",
       "      <th>81690</th>\n",
       "      <td>1035.0</td>\n",
       "      <td>MSP-Conversation_2281</td>\n",
       "      <td>manages to be condescending.</td>\n",
       "      <td>[22489, 281, 312, 2224, 37890, 2029, 13]</td>\n",
       "      <td>4</td>\n",
       "    </tr>\n",
       "    <tr>\n",
       "      <th>81691</th>\n",
       "      <td>1036.0</td>\n",
       "      <td>MSP-Conversation_2281</td>\n",
       "      <td>The المّرشُ شعر мне</td>\n",
       "      <td>[440, 9673, 11703, 2288, 8592, 10859, 13412, 3...</td>\n",
       "      <td>4</td>\n",
       "    </tr>\n",
       "  </tbody>\n",
       "</table>\n",
       "<p>6951 rows × 5 columns</p>\n",
       "</div>"
      ],
      "text/plain": [
       "           id                  Audio                              Text  \\\n",
       "10       10.0  MSP-Conversation_0002   Our website is Americhicks.com.   \n",
       "31       31.0  MSP-Conversation_0002                I'll let you know.   \n",
       "74       74.0  MSP-Conversation_0002                 I got a question.   \n",
       "173     173.0  MSP-Conversation_0002                  I had a feeling.   \n",
       "186     186.0  MSP-Conversation_0002                    So here it is.   \n",
       "...       ...                    ...                               ...   \n",
       "81668  1013.0  MSP-Conversation_2281            clearly burned fur cat   \n",
       "81673  1018.0  MSP-Conversation_2281           because the cat's like,   \n",
       "81689  1034.0  MSP-Conversation_2281               like even the music   \n",
       "81690  1035.0  MSP-Conversation_2281      manages to be condescending.   \n",
       "81691  1036.0  MSP-Conversation_2281               The المّرشُ شعر мне   \n",
       "\n",
       "                                                  Tokens  num_words  \n",
       "10     [2621, 3144, 307, 22597, 480, 7663, 13, 1112, 13]          4  \n",
       "31                         [286, 603, 718, 291, 458, 13]          4  \n",
       "74                             [286, 658, 257, 1168, 13]          4  \n",
       "173                            [286, 632, 257, 2633, 13]          4  \n",
       "186                             [407, 510, 309, 307, 13]          4  \n",
       "...                                                  ...        ...  \n",
       "81668                          [4448, 13490, 2687, 3857]          4  \n",
       "81673                     [570, 264, 3857, 311, 411, 11]          4  \n",
       "81689                              [411, 754, 264, 1318]          4  \n",
       "81690           [22489, 281, 312, 2224, 37890, 2029, 13]          4  \n",
       "81691  [440, 9673, 11703, 2288, 8592, 10859, 13412, 3...          4  \n",
       "\n",
       "[6951 rows x 5 columns]"
      ]
     },
     "execution_count": 22,
     "metadata": {},
     "output_type": "execute_result"
    }
   ],
   "source": [
    "df_texto[df_texto['num_words'] == 4]"
   ]
  },
  {
   "cell_type": "code",
   "execution_count": 8,
   "id": "ddcabe40",
   "metadata": {},
   "outputs": [
    {
     "data": {
      "text/plain": [
       "<seaborn.axisgrid.FacetGrid at 0x146fba7bd90>"
      ]
     },
     "execution_count": 8,
     "metadata": {},
     "output_type": "execute_result"
    },
    {
     "data": {
      "image/png": "[encoded data removed]",
      "text/plain": [
       "<Figure size 500x500 with 1 Axes>"
      ]
     },
     "metadata": {},
     "output_type": "display_data"
    }
   ],
   "source": []
  },
  {
   "cell_type": "markdown",
   "id": "9667c875",
   "metadata": {},
   "source": [
    "### Modelo"
   ]
  },
  {
   "cell_type": "code",
   "execution_count": 24,
   "id": "fc4d811b",
   "metadata": {},
   "outputs": [
    {
     "name": "stdout",
     "output_type": "stream",
     "text": [
      "Tokenized Sequences: [[2, 3, 4, 8, 5], [2, 3, 4, 9, 5], [10, 6, 11, 7], [12, 6, 13, 7]]\n",
      "Padded Sequences: [[ 2  3  4  8  5]\n",
      " [ 2  3  4  9  5]\n",
      " [10  6 11  7  0]\n",
      " [12  6 13  7  0]]\n"
     ]
    }
   ],
   "source": [
    "import tensorflow as tf\n",
    "from tensorflow.keras.preprocessing.text import Tokenizer\n",
    "from tensorflow.keras.preprocessing.sequence import pad_sequences\n",
    "\n",
    "# Sample data\n",
    "sentences = [\n",
    "    \"This is a positive review.\",\n",
    "    \"This is a negative review.\",\n",
    "    \"Amazing movie, loved it!\",\n",
    "    \"Terrible movie, hated it.\"\n",
    "]\n",
    "\n",
    "# Initialize the tokenizer\n",
    "tokenizer = Tokenizer(num_words=1000, oov_token=\"<OOV>\")\n",
    "tokenizer.fit_on_texts(sentences)\n",
    "\n",
    "# Convert sentences to sequences of integers\n",
    "sequences = tokenizer.texts_to_sequences(sentences)\n",
    "\n",
    "# Pad sequences to ensure equal length\n",
    "padded_sequences = pad_sequences(sequences, padding='post')\n",
    "\n",
    "print(\"Tokenized Sequences:\", sequences)\n",
    "print(\"Padded Sequences:\", padded_sequences)"
   ]
  },
  {
   "cell_type": "code",
   "execution_count": 25,
   "id": "7e4d438f",
   "metadata": {},
   "outputs": [
    {
     "name": "stdout",
     "output_type": "stream",
     "text": [
      "Epoch 1/10\n",
      "1/1 [==============================] - 0s 390ms/step - loss: 0.6932 - accuracy: 0.5000\n",
      "Epoch 2/10\n",
      "1/1 [==============================] - 0s 3ms/step - loss: 0.6922 - accuracy: 0.7500\n",
      "Epoch 3/10\n",
      "1/1 [==============================] - 0s 4ms/step - loss: 0.6912 - accuracy: 0.7500\n",
      "Epoch 4/10\n",
      "1/1 [==============================] - 0s 2ms/step - loss: 0.6902 - accuracy: 0.7500\n",
      "Epoch 5/10\n",
      "1/1 [==============================] - 0s 2ms/step - loss: 0.6894 - accuracy: 1.0000\n",
      "Epoch 6/10\n",
      "1/1 [==============================] - 0s 2ms/step - loss: 0.6888 - accuracy: 1.0000\n",
      "Epoch 7/10\n",
      "1/1 [==============================] - 0s 4ms/step - loss: 0.6882 - accuracy: 1.0000\n",
      "Epoch 8/10\n",
      "1/1 [==============================] - 0s 2ms/step - loss: 0.6875 - accuracy: 1.0000\n",
      "Epoch 9/10\n",
      "1/1 [==============================] - 0s 998us/step - loss: 0.6869 - accuracy: 1.0000\n",
      "Epoch 10/10\n",
      "1/1 [==============================] - 0s 997us/step - loss: 0.6862 - accuracy: 1.0000\n",
      "1/1 [==============================] - 0s 94ms/step - loss: 0.6856 - accuracy: 1.0000\n",
      "Accuracy: 1.0\n"
     ]
    }
   ],
   "source": [
    "import numpy as np\n",
    "\n",
    "# Example labels (0 for negative, 1 for positive)\n",
    "labels = np.array([1, 0, 1, 0])\n",
    "\n",
    "# Define the neural network model\n",
    "model = tf.keras.Sequential([\n",
    "    tf.keras.layers.Embedding(input_dim=1000, output_dim=16, input_length=padded_sequences.shape[1]),\n",
    "    tf.keras.layers.GlobalAveragePooling1D(),\n",
    "    tf.keras.layers.Dense(16, activation='relu'),\n",
    "    tf.keras.layers.Dense(1, activation='sigmoid')\n",
    "])\n",
    "\n",
    "# Compile the model\n",
    "model.compile(optimizer='adam', loss='binary_crossentropy', metrics=['accuracy'])\n",
    "\n",
    "# Train the model\n",
    "model.fit(padded_sequences, labels, epochs=10)\n",
    "\n",
    "# Evaluate the model\n",
    "loss, accuracy = model.evaluate(padded_sequences, labels)\n",
    "print(\"Accuracy:\", accuracy)"
   ]
  }
 ],
 "metadata": {
  "hide_input": false,
  "kernelspec": {
   "display_name": "SER",
   "language": "python",
   "name": "myenv"
  },
  "language_info": {
   "codemirror_mode": {
    "name": "ipython",
    "version": 3
   },
   "file_extension": ".py",
   "mimetype": "text/x-python",
   "name": "python",
   "nbconvert_exporter": "python",
   "pygments_lexer": "ipython3",
   "version": "3.9.16"
  },
  "toc": {
   "base_numbering": 1,
   "nav_menu": {},
   "number_sections": true,
   "sideBar": true,
   "skip_h1_title": false,
   "title_cell": "Table of Contents",
   "title_sidebar": "Contents",
   "toc_cell": false,
   "toc_position": {},
   "toc_section_display": true,
   "toc_window_display": true
  }
 },
 "nbformat": 4,
 "nbformat_minor": 5
}
