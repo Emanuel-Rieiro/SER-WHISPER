{
 "cells": [
  {
   "cell_type": "code",
   "execution_count": 1,
   "id": "02ffa14a",
   "metadata": {},
   "outputs": [],
   "source": [
    "# Mandatorio al inicio de cada notebook\n",
    "import os\n",
    "import warnings\n",
    "os.chdir(os.path.abspath(\"..\"))\n",
    "warnings.filterwarnings('ignore')"
   ]
  },
  {
   "cell_type": "code",
   "execution_count": 2,
   "id": "f678f8b9",
   "metadata": {},
   "outputs": [],
   "source": [
    "from src.pipeline import DataPipeline\n",
    "from src.votaciones import votacion_promedio_simple\n",
    "from src.feature_extractors import opensmile_features\n",
    "import pandas as pd"
   ]
  },
  {
   "cell_type": "code",
   "execution_count": 3,
   "id": "d95f5b2c",
   "metadata": {
    "scrolled": true
   },
   "outputs": [
    {
     "name": "stdout",
     "output_type": "stream",
     "text": [
      "Parametros del modelo\n",
      "model_version: v1\n",
      "cache: True\n",
      "funcion_features: opensmile_features\n",
      "\n",
      "---------------------------------------------------------\n",
      "Iniciando proceso para crear rango de transcripciones\n",
      "Proceso para crear rango de transcripciones finalizado con éxito\n",
      "---------------------------------------------------------\n",
      "Iniciando proceso para crear targets de entrenamiento\n",
      "Proceso para crear targets de entrenamiento finalizado con éxito\n",
      "---------------------------------------------------------\n",
      "Iniciando proceso para obtener features\n",
      "Se ha encontrado el dataset de features ya generado, cargando...\n",
      "Dataset de features cargado con éxito\n",
      "Proceso para obtener features finalizado con éxito\n",
      "---------------------------------------------------------\n",
      "Iniciando proceso para acondicionamiento\n",
      "Proceso para acondicionamiento finalizado\n",
      "---------------------------------------------------------\n",
      "Iniciando proceso para remover duplicados\n",
      "Antes 73624\n",
      "Despues 70255\n",
      "Proceso para remover duplicados finalizado\n",
      "---------------------------------------------------------\n",
      "Iniciando proceso para taget categorico\n",
      "Proceso para target categórico finalizado\n",
      "---------------------------------------------------------\n",
      "Iniciando proceso para alinear muestras\n",
      "Feature: anger, cantidad de samples: 475\n",
      "Feature: disgust, cantidad de samples: 475\n",
      "Feature: joy, cantidad de samples: 475\n",
      "Feature: neutral, cantidad de samples: 475\n",
      "Feature: surprise, cantidad de samples: 475\n",
      "Proceso para alinear muestras finalizado\n",
      "---------------------------------------------------------\n",
      "28/28 [==============================] - 93s 3s/step - loss: 1.6460 - accuracy: 0.1836 - val_loss: 1.6055 - val_accuracy: 0.2256 - lr: 0.0010\n",
      "Metricas del modelo\n",
      "19/19 [==============================] - 10s 500ms/step - loss: 1.6055 - accuracy: 0.2256\n",
      "Loss: 1.6054506301879883, Acc: 0.22558923065662384\n",
      "19/19 [==============================] - 9s 481ms/step\n",
      "Average   : Macro\n",
      "Precision : 0.28489795918367344\n",
      "Recall    : 0.20348247407070938\n",
      "F-score   : 0.0801305683563748\n",
      "\n",
      "19/19 [==============================] - 9s 449ms/step\n",
      "Average   : Weighted\n",
      "Precision : 0.2768226482512197\n",
      "Recall    : 0.2255892255892256\n",
      "F-score   : 0.08804965942062716\n"
     ]
    }
   ],
   "source": [
    "pipeline = DataPipeline('v1',\n",
    "                        cache = True,\n",
    "                        funcion_votacion = votacion_promedio_simple,\n",
    "                        function_features = opensmile_features,\n",
    "                        mapping = 'Ekman',\n",
    "                        min_muestras = 400)\n",
    "\n",
    "steps = [pipeline.crear_rangos_transcripciones,\n",
    "        pipeline.crear_objetivos,\n",
    "        pipeline.obtener_features,\n",
    "        pipeline.acondicionar_dataset,\n",
    "        pipeline.remover_duplicados,\n",
    "        pipeline.crear_target_categorico,\n",
    "        pipeline.alinear_muestras,\n",
    "        pipeline.entrenar,\n",
    "        pipeline.guardar_modelo,\n",
    "        pipeline.metricas_modelo]\n",
    "\n",
    "pipeline.run_pipeline(steps)"
   ]
  }
 ],
 "metadata": {
  "hide_input": false,
  "kernelspec": {
   "display_name": "SER",
   "language": "python",
   "name": "myenv"
  },
  "language_info": {
   "codemirror_mode": {
    "name": "ipython",
    "version": 3
   },
   "file_extension": ".py",
   "mimetype": "text/x-python",
   "name": "python",
   "nbconvert_exporter": "python",
   "pygments_lexer": "ipython3",
   "version": "3.9.16"
  },
  "toc": {
   "base_numbering": 1,
   "nav_menu": {},
   "number_sections": true,
   "sideBar": true,
   "skip_h1_title": false,
   "title_cell": "Table of Contents",
   "title_sidebar": "Contents",
   "toc_cell": false,
   "toc_position": {},
   "toc_section_display": true,
   "toc_window_display": false
  }
 },
 "nbformat": 4,
 "nbformat_minor": 5
}
